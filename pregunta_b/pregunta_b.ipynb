{
 "cells": [
  {
   "cell_type": "code",
   "execution_count": 1,
   "metadata": {},
   "outputs": [
    {
     "data": {
      "text/html": [
       "<style scoped>\n",
       "  .ansiout {\n",
       "    display: block;\n",
       "    unicode-bidi: embed;\n",
       "    white-space: pre-wrap;\n",
       "    word-wrap: break-word;\n",
       "    word-break: break-all;\n",
       "    font-family: \"Source Code Pro\", \"Menlo\", monospace;;\n",
       "    font-size: 13px;\n",
       "    color: #555;\n",
       "    margin-left: 4px;\n",
       "    line-height: 19px;\n",
       "  }\n",
       "</style>\n",
       "<div class=\"ansiout\"></div>"
      ]
     },
     "metadata": {},
     "output_type": "display_data"
    }
   ],
   "source": [
    "# Valeria Pérez Cong\n",
    "## 17 de octubre 2019 "
   ]
  },
  {
   "cell_type": "code",
   "execution_count": 2,
   "metadata": {},
   "outputs": [
    {
     "data": {
      "text/html": [
       "<style scoped>\n",
       "  .ansiout {\n",
       "    display: block;\n",
       "    unicode-bidi: embed;\n",
       "    white-space: pre-wrap;\n",
       "    word-wrap: break-word;\n",
       "    word-break: break-all;\n",
       "    font-family: \"Source Code Pro\", \"Menlo\", monospace;;\n",
       "    font-size: 13px;\n",
       "    color: #555;\n",
       "    margin-left: 4px;\n",
       "    line-height: 19px;\n",
       "  }\n",
       "</style>\n",
       "<div class=\"ansiout\"></div>"
      ]
     },
     "metadata": {},
     "output_type": "display_data"
    }
   ],
   "source": [
    "import pandas as pd\n",
    "import numpy as np\n",
    "import matplotlib.pyplot as plt"
   ]
  },
  {
   "cell_type": "code",
   "execution_count": 3,
   "metadata": {},
   "outputs": [
    {
     "data": {
      "text/html": [
       "<style scoped>\n",
       "  .ansiout {\n",
       "    display: block;\n",
       "    unicode-bidi: embed;\n",
       "    white-space: pre-wrap;\n",
       "    word-wrap: break-word;\n",
       "    word-break: break-all;\n",
       "    font-family: \"Source Code Pro\", \"Menlo\", monospace;;\n",
       "    font-size: 13px;\n",
       "    color: #555;\n",
       "    margin-left: 4px;\n",
       "    line-height: 19px;\n",
       "  }\n",
       "</style>\n",
       "<div class=\"ansiout\"><span class=\"ansired\">Out[</span><span class=\"ansired\">2</span><span class=\"ansired\">]: </span>&lt;pyspark.sql.context.SQLContext at 0x7f408a3566d8&gt;</div>"
      ]
     },
     "metadata": {},
     "output_type": "display_data"
    }
   ],
   "source": [
    "from pyspark.sql import SQLContext\n",
    "sqlContext = SQLContext(sc)\n",
    "sqlContext "
   ]
  },
  {
   "cell_type": "markdown",
   "metadata": {},
   "source": [
    "## Datos\n",
    "Primero cargamos el csv a un bucket de aws y después lo montamos al DBFS de databricks para poder leerlo como si fuera un file local y hacer los queries. \n",
    "\n",
    "Este notebook se exportó desde databricks."
   ]
  },
  {
   "cell_type": "code",
   "execution_count": 5,
   "metadata": {},
   "outputs": [
    {
     "data": {
      "text/html": [
       "<style scoped>\n",
       "  .ansiout {\n",
       "    display: block;\n",
       "    unicode-bidi: embed;\n",
       "    white-space: pre-wrap;\n",
       "    word-wrap: break-word;\n",
       "    word-break: break-all;\n",
       "    font-family: \"Source Code Pro\", \"Menlo\", monospace;;\n",
       "    font-size: 13px;\n",
       "    color: #555;\n",
       "    margin-left: 4px;\n",
       "    line-height: 19px;\n",
       "  }\n",
       "</style>\n",
       "<div class=\"ansiout\"><span class=\"ansired\">---------------------------------------------------------------------------</span>\n",
       "<span class=\"ansired\">ExecutionError</span>                            Traceback (most recent call last)\n",
       "<span class=\"ansigreen\">&lt;command-3561875710569963&gt;</span> in <span class=\"ansicyan\">&lt;module&gt;</span><span class=\"ansiblue\">()</span>\n",
       "<span class=\"ansigreen\">      1</span> AWS_BUCKET_NAME <span class=\"ansiyellow\">=</span> <span class=\"ansiblue\">&quot;examen-opi&quot;</span><span class=\"ansiyellow\"></span>\n",
       "<span class=\"ansigreen\">      2</span> MOUNT_NAME <span class=\"ansiyellow\">=</span> <span class=\"ansiblue\">&quot;a&quot;</span><span class=\"ansiyellow\"></span>\n",
       "<span class=\"ansigreen\">----&gt; 3</span><span class=\"ansiyellow\"> </span>dbutils<span class=\"ansiyellow\">.</span>fs<span class=\"ansiyellow\">.</span>mount<span class=\"ansiyellow\">(</span><span class=\"ansiblue\">&quot;s3a://%s&quot;</span> <span class=\"ansiyellow\">%</span> AWS_BUCKET_NAME<span class=\"ansiyellow\">,</span> <span class=\"ansiblue\">&quot;/mnt/%s&quot;</span> <span class=\"ansiyellow\">%</span> MOUNT_NAME<span class=\"ansiyellow\">)</span><span class=\"ansiyellow\"></span>\n",
       "<span class=\"ansigreen\">      4</span> display<span class=\"ansiyellow\">(</span>dbutils<span class=\"ansiyellow\">.</span>fs<span class=\"ansiyellow\">.</span>ls<span class=\"ansiyellow\">(</span><span class=\"ansiblue\">&quot;/mnt/%s&quot;</span> <span class=\"ansiyellow\">%</span> MOUNT_NAME<span class=\"ansiyellow\">)</span><span class=\"ansiyellow\">)</span><span class=\"ansiyellow\"></span>\n",
       "\n",
       "<span class=\"ansigreen\">/local_disk0/tmp/1571476171489-0/dbutils.py</span> in <span class=\"ansicyan\">f_with_exception_handling</span><span class=\"ansiblue\">(*args, **kwargs)</span>\n",
       "<span class=\"ansigreen\">    306</span>                     exc<span class=\"ansiyellow\">.</span>__context__ <span class=\"ansiyellow\">=</span> <span class=\"ansigreen\">None</span><span class=\"ansiyellow\"></span>\n",
       "<span class=\"ansigreen\">    307</span>                     exc<span class=\"ansiyellow\">.</span>__cause__ <span class=\"ansiyellow\">=</span> <span class=\"ansigreen\">None</span><span class=\"ansiyellow\"></span>\n",
       "<span class=\"ansigreen\">--&gt; 308</span><span class=\"ansiyellow\">                     </span><span class=\"ansigreen\">raise</span> exc<span class=\"ansiyellow\"></span>\n",
       "<span class=\"ansigreen\">    309</span>             <span class=\"ansigreen\">return</span> f_with_exception_handling<span class=\"ansiyellow\"></span>\n",
       "<span class=\"ansigreen\">    310</span> <span class=\"ansiyellow\"></span>\n",
       "\n",
       "<span class=\"ansired\">ExecutionError</span>: An error occurred while calling o311.mount.\n",
       ": java.rmi.RemoteException: java.lang.IllegalArgumentException: requirement failed: Directory already mounted: /mnt/a; nested exception is: \n",
       "\tjava.lang.IllegalArgumentException: requirement failed: Directory already mounted: /mnt/a\n",
       "\tat com.databricks.backend.daemon.data.client.DbfsClient.send0(DbfsClient.scala:123)\n",
       "\tat com.databricks.backend.daemon.data.client.DbfsClient.sendIdempotent(DbfsClient.scala:63)\n",
       "\tat com.databricks.backend.daemon.dbutils.DBUtilsCore.mount(DBUtilsCore.scala:465)\n",
       "\tat sun.reflect.NativeMethodAccessorImpl.invoke0(Native Method)\n",
       "\tat sun.reflect.NativeMethodAccessorImpl.invoke(NativeMethodAccessorImpl.java:62)\n",
       "\tat sun.reflect.DelegatingMethodAccessorImpl.invoke(DelegatingMethodAccessorImpl.java:43)\n",
       "\tat java.lang.reflect.Method.invoke(Method.java:498)\n",
       "\tat py4j.reflection.MethodInvoker.invoke(MethodInvoker.java:244)\n",
       "\tat py4j.reflection.ReflectionEngine.invoke(ReflectionEngine.java:380)\n",
       "\tat py4j.Gateway.invoke(Gateway.java:295)\n",
       "\tat py4j.commands.AbstractCommand.invokeMethod(AbstractCommand.java:132)\n",
       "\tat py4j.commands.CallCommand.execute(CallCommand.java:79)\n",
       "\tat py4j.GatewayConnection.run(GatewayConnection.java:251)\n",
       "\tat java.lang.Thread.run(Thread.java:748)\n",
       "Caused by: java.lang.IllegalArgumentException: requirement failed: Directory already mounted: /mnt/a\n",
       "\tat scala.Predef$.require(Predef.scala:281)\n",
       "\tat com.databricks.backend.daemon.data.server.DefaultMetadataManager.$anonfun$insertMount$1(MetadataManager.scala:205)\n",
       "\tat scala.runtime.java8.JFunction0$mcV$sp.apply(JFunction0$mcV$sp.java:23)\n",
       "\tat com.databricks.backend.daemon.data.server.DefaultMetadataManager.withRetries(MetadataManager.scala:307)\n",
       "\tat com.databricks.backend.daemon.data.server.DefaultMetadataManager.insertMount(MetadataManager.scala:201)\n",
       "\tat com.databricks.backend.daemon.data.server.handler.MountHandler.receive(MountHandler.scala:79)\n",
       "\tat com.databricks.backend.daemon.data.server.session.SessionContext.$anonfun$queryHandlers$1(SessionContext.scala:103)\n",
       "\tat com.databricks.backend.daemon.data.server.session.SessionContext.$anonfun$queryHandlers$1$adapted(SessionContext.scala:102)\n",
       "\tat scala.collection.immutable.List.foreach(List.scala:392)\n",
       "\tat com.databricks.backend.daemon.data.server.session.SessionContext.queryHandlers(SessionContext.scala:102)\n",
       "\tat com.databricks.backend.daemon.data.server.DbfsServerBackend$$anonfun$receive$3.applyOrElse(DbfsServerBackend.scala:298)\n",
       "\tat com.databricks.backend.daemon.data.server.DbfsServerBackend$$anonfun$receive$3.applyOrElse(DbfsServerBackend.scala:276)\n",
       "\tat com.databricks.rpc.ServerBackend.$anonfun$internalReceive$2(ServerBackend.scala:44)\n",
       "\tat com.databricks.rpc.ServerBackend$$anonfun$commonReceive$1.applyOrElse(ServerBackend.scala:61)\n",
       "\tat com.databricks.rpc.ServerBackend$$anonfun$commonReceive$1.applyOrElse(ServerBackend.scala:61)\n",
       "\tat com.databricks.rpc.ServerBackend.$anonfun$internalReceive$1(ServerBackend.scala:40)\n",
       "\tat com.databricks.logging.UsageLogging.$anonfun$recordOperation$4(UsageLogging.scala:405)\n",
       "\tat com.databricks.logging.UsageLogging.$anonfun$withAttributionContext$1(UsageLogging.scala:235)\n",
       "\tat scala.util.DynamicVariable.withValue(DynamicVariable.scala:62)\n",
       "\tat com.databricks.logging.UsageLogging.withAttributionContext(UsageLogging.scala:230)\n",
       "\tat com.databricks.logging.UsageLogging.withAttributionContext$(UsageLogging.scala:227)\n",
       "\tat com.databricks.rpc.ServerBackend.withAttributionContext(ServerBackend.scala:13)\n",
       "\tat com.databricks.logging.UsageLogging.withAttributionTags(UsageLogging.scala:272)\n",
       "\tat com.databricks.logging.UsageLogging.withAttributionTags$(UsageLogging.scala:265)\n",
       "\tat com.databricks.rpc.ServerBackend.withAttributionTags(ServerBackend.scala:13)\n",
       "\tat com.databricks.logging.UsageLogging.recordOperation(UsageLogging.scala:386)\n",
       "\tat com.databricks.logging.UsageLogging.recordOperation$(UsageLogging.scala:333)\n",
       "\tat com.databricks.rpc.ServerBackend.recordOperation(ServerBackend.scala:13)\n",
       "\tat com.databricks.rpc.ServerBackend.internalReceive(ServerBackend.scala:39)\n",
       "\tat com.databricks.rpc.JettyServer$RequestManager.$anonfun$handleRPC$2(JettyServer.scala:509)\n",
       "\tat scala.util.Try$.apply(Try.scala:213)\n",
       "\tat com.databricks.rpc.JettyServer$RequestManager.handleRPC(JettyServer.scala:509)\n",
       "\tat com.databricks.rpc.JettyServer$RequestManager.handleRequestAndRespond(JettyServer.scala:419)\n",
       "\tat com.databricks.rpc.JettyServer$RequestManager.$anonfun$handleHttp$4(JettyServer.scala:277)\n",
       "\tat scala.runtime.java8.JFunction0$mcV$sp.apply(JFunction0$mcV$sp.java:23)\n",
       "\tat com.databricks.logging.UsageLogging.$anonfun$withAttributionContext$1(UsageLogging.scala:235)\n",
       "\tat scala.util.DynamicVariable.withValue(DynamicVariable.scala:62)\n",
       "\tat com.databricks.logging.UsageLogging.withAttributionContext(UsageLogging.scala:230)\n",
       "\tat com.databricks.logging.UsageLogging.withAttributionContext$(UsageLogging.scala:227)\n",
       "\tat com.databricks.rpc.JettyServer$.withAttributionContext(JettyServer.scala:153)\n",
       "\tat com.databricks.logging.UsageLogging.withAttributionTags(UsageLogging.scala:272)\n",
       "\tat com.databricks.logging.UsageLogging.withAttributionTags$(UsageLogging.scala:265)\n",
       "\tat com.databricks.rpc.JettyServer$.withAttributionTags(JettyServer.scala:153)\n",
       "\tat com.databricks.rpc.JettyServer$RequestManager.handleHttp(JettyServer.scala:268)\n",
       "\tat com.databricks.rpc.JettyServer$RequestManager.doPost(JettyServer.scala:183)\n",
       "\tat javax.servlet.http.HttpServlet.service(HttpServlet.java:707)\n",
       "\tat com.databricks.rpc.HttpServletWithPatch.service(HttpServletWithPatch.scala:33)\n",
       "\tat javax.servlet.http.HttpServlet.service(HttpServlet.java:790)\n",
       "\tat org.eclipse.jetty.servlet.ServletHolder.handle(ServletHolder.java:848)\n",
       "\tat org.eclipse.jetty.servlet.ServletHandler.doHandle(ServletHandler.java:585)\n",
       "\tat org.eclipse.jetty.servlet.ServletHandler.doScope(ServletHandler.java:515)\n",
       "\tat org.eclipse.jetty.server.handler.ScopedHandler.handle(ScopedHandler.java:141)\n",
       "\tat org.eclipse.jetty.server.handler.HandlerWrapper.handle(HandlerWrapper.java:134)\n",
       "\tat org.eclipse.jetty.server.Server.handle(Server.java:539)\n",
       "\tat org.eclipse.jetty.server.HttpChannel.handle(HttpChannel.java:333)\n",
       "\tat org.eclipse.jetty.server.HttpConnection.onFillable(HttpConnection.java:251)\n",
       "\tat org.eclipse.jetty.io.AbstractConnection$ReadCallback.succeeded(AbstractConnection.java:283)\n",
       "\tat org.eclipse.jetty.io.FillInterest.fillable(FillInterest.java:108)\n",
       "\tat org.eclipse.jetty.io.SelectChannelEndPoint$2.run(SelectChannelEndPoint.java:93)\n",
       "\tat org.eclipse.jetty.util.thread.strategy.ExecuteProduceConsume.executeProduceConsume(ExecuteProduceConsume.java:303)\n",
       "\tat org.eclipse.jetty.util.thread.strategy.ExecuteProduceConsume.produceConsume(ExecuteProduceConsume.java:148)\n",
       "\tat org.eclipse.jetty.util.thread.strategy.ExecuteProduceConsume.run(ExecuteProduceConsume.java:136)\n",
       "\tat org.eclipse.jetty.util.thread.QueuedThreadPool.runJob(QueuedThreadPool.java:671)\n",
       "\tat org.eclipse.jetty.util.thread.QueuedThreadPool$2.run(QueuedThreadPool.java:589)\n",
       "\t... 1 more\n",
       "</div>"
      ]
     },
     "metadata": {},
     "output_type": "display_data"
    }
   ],
   "source": [
    "AWS_BUCKET_NAME = \"examen-opi\"\n",
    "MOUNT_NAME = \"a\"\n",
    "dbutils.fs.mount(\"s3a://%s\" % AWS_BUCKET_NAME, \"/mnt/%s\" % MOUNT_NAME)\n",
    "display(dbutils.fs.ls(\"/mnt/%s\" % MOUNT_NAME))\n"
   ]
  },
  {
   "cell_type": "markdown",
   "metadata": {},
   "source": [
    "### Leemos el csv"
   ]
  },
  {
   "cell_type": "code",
   "execution_count": 7,
   "metadata": {},
   "outputs": [
    {
     "data": {
      "text/html": [
       "<style scoped>\n",
       "  .ansiout {\n",
       "    display: block;\n",
       "    unicode-bidi: embed;\n",
       "    white-space: pre-wrap;\n",
       "    word-wrap: break-word;\n",
       "    word-break: break-all;\n",
       "    font-family: \"Source Code Pro\", \"Menlo\", monospace;;\n",
       "    font-size: 13px;\n",
       "    color: #555;\n",
       "    margin-left: 4px;\n",
       "    line-height: 19px;\n",
       "  }\n",
       "</style>\n",
       "<div class=\"ansiout\"></div>"
      ]
     },
     "metadata": {},
     "output_type": "display_data"
    }
   ],
   "source": [
    "df = spark.read.format(\"csv\").option(\"header\", \"true\").load(\"/mnt/%s/load/all_data.csv\" % MOUNT_NAME)\n"
   ]
  },
  {
   "cell_type": "markdown",
   "metadata": {},
   "source": [
    "## Procesamiento de datos"
   ]
  },
  {
   "cell_type": "markdown",
   "metadata": {},
   "source": [
    "### Pregunta 1.a "
   ]
  },
  {
   "cell_type": "code",
   "execution_count": 9,
   "metadata": {},
   "outputs": [
    {
     "data": {
      "text/html": [
       "<style scoped>\n",
       "  .ansiout {\n",
       "    display: block;\n",
       "    unicode-bidi: embed;\n",
       "    white-space: pre-wrap;\n",
       "    word-wrap: break-word;\n",
       "    word-break: break-all;\n",
       "    font-family: \"Source Code Pro\", \"Menlo\", monospace;;\n",
       "    font-size: 13px;\n",
       "    color: #555;\n",
       "    margin-left: 4px;\n",
       "    line-height: 19px;\n",
       "  }\n",
       "</style>\n",
       "<div class=\"ansiout\"><span class=\"ansired\">Out[</span><span class=\"ansired\">7</span><span class=\"ansired\">]: </span>62530715</div>"
      ]
     },
     "metadata": {},
     "output_type": "display_data"
    }
   ],
   "source": [
    "## 1.a\n",
    "## número de registos\n",
    "df.count()"
   ]
  },
  {
   "cell_type": "code",
   "execution_count": 10,
   "metadata": {},
   "outputs": [
    {
     "data": {
      "text/html": [
       "<style scoped>\n",
       "  .ansiout {\n",
       "    display: block;\n",
       "    unicode-bidi: embed;\n",
       "    white-space: pre-wrap;\n",
       "    word-wrap: break-word;\n",
       "    word-break: break-all;\n",
       "    font-family: \"Source Code Pro\", \"Menlo\", monospace;;\n",
       "    font-size: 13px;\n",
       "    color: #555;\n",
       "    margin-left: 4px;\n",
       "    line-height: 19px;\n",
       "  }\n",
       "</style>\n",
       "<div class=\"ansiout\"><span class=\"ansired\">Out[</span><span class=\"ansired\">8</span><span class=\"ansired\">]: </span>[&apos;producto&apos;,\n",
       " &apos;presentacion&apos;,\n",
       " &apos;marca&apos;,\n",
       " &apos;categoria&apos;,\n",
       " &apos;catalogo&apos;,\n",
       " &apos;precio&apos;,\n",
       " &apos;fechaRegistro&apos;,\n",
       " &apos;cadenaComercial&apos;,\n",
       " &apos;giro&apos;,\n",
       " &apos;nombreComercial&apos;,\n",
       " &apos;direccion&apos;,\n",
       " &apos;estado&apos;,\n",
       " &apos;municipio&apos;,\n",
       " &apos;latitud&apos;,\n",
       " &apos;longitud&apos;]</div>"
      ]
     },
     "metadata": {},
     "output_type": "display_data"
    }
   ],
   "source": [
    "# columnas\n",
    "df.columns"
   ]
  },
  {
   "cell_type": "code",
   "execution_count": 11,
   "metadata": {},
   "outputs": [
    {
     "data": {
      "text/html": [
       "<style scoped>\n",
       "  .ansiout {\n",
       "    display: block;\n",
       "    unicode-bidi: embed;\n",
       "    white-space: pre-wrap;\n",
       "    word-wrap: break-word;\n",
       "    word-break: break-all;\n",
       "    font-family: \"Source Code Pro\", \"Menlo\", monospace;;\n",
       "    font-size: 13px;\n",
       "    color: #555;\n",
       "    margin-left: 4px;\n",
       "    line-height: 19px;\n",
       "  }\n",
       "</style>\n",
       "<div class=\"ansiout\"><span class=\"ansired\">Out[</span><span class=\"ansired\">9</span><span class=\"ansired\">]: </span>[(&apos;producto&apos;, &apos;string&apos;),\n",
       " (&apos;presentacion&apos;, &apos;string&apos;),\n",
       " (&apos;marca&apos;, &apos;string&apos;),\n",
       " (&apos;categoria&apos;, &apos;string&apos;),\n",
       " (&apos;catalogo&apos;, &apos;string&apos;),\n",
       " (&apos;precio&apos;, &apos;string&apos;),\n",
       " (&apos;fechaRegistro&apos;, &apos;string&apos;),\n",
       " (&apos;cadenaComercial&apos;, &apos;string&apos;),\n",
       " (&apos;giro&apos;, &apos;string&apos;),\n",
       " (&apos;nombreComercial&apos;, &apos;string&apos;),\n",
       " (&apos;direccion&apos;, &apos;string&apos;),\n",
       " (&apos;estado&apos;, &apos;string&apos;),\n",
       " (&apos;municipio&apos;, &apos;string&apos;),\n",
       " (&apos;latitud&apos;, &apos;string&apos;),\n",
       " (&apos;longitud&apos;, &apos;string&apos;)]</div>"
      ]
     },
     "metadata": {},
     "output_type": "display_data"
    }
   ],
   "source": [
    "## dtypes de las columnas\n",
    "df.dtypes"
   ]
  },
  {
   "cell_type": "code",
   "execution_count": 12,
   "metadata": {},
   "outputs": [
    {
     "data": {
      "text/html": [
       "<style scoped>\n",
       "  .ansiout {\n",
       "    display: block;\n",
       "    unicode-bidi: embed;\n",
       "    white-space: pre-wrap;\n",
       "    word-wrap: break-word;\n",
       "    word-break: break-all;\n",
       "    font-family: \"Source Code Pro\", \"Menlo\", monospace;;\n",
       "    font-size: 13px;\n",
       "    color: #555;\n",
       "    margin-left: 4px;\n",
       "    line-height: 19px;\n",
       "  }\n",
       "</style>\n",
       "<div class=\"ansiout\"><span class=\"ansired\">Out[</span><span class=\"ansired\">41</span><span class=\"ansired\">]: </span>Row(producto=&apos;CUADERNO FORMA ITALIANA&apos;, presentacion=&apos;96 HOJAS PASTA DURA. CUADRICULA CHICA&apos;, marca=&apos;ESTRELLA&apos;, categoria=&apos;MATERIAL ESCOLAR&apos;, catalogo=&apos;UTILES ESCOLARES&apos;, precio=&apos;25.9&apos;, fechaRegistro=&apos;2011-05-18 00:00:00.000&apos;, cadenaComercial=&apos;ABASTECEDORA LUMEN&apos;, giro=&apos;PAPELERIAS&apos;, nombreComercial=&apos;ABASTECEDORA LUMEN SUCURSAL VILLA COAPA&apos;, direccion=&apos;CANNES No. 6 ESQ. CANAL DE MIRAMONTES&apos;, estado=&apos;DISTRITO FEDERAL&apos;, municipio=&apos;TLALPAN                                 &apos;, latitud=&apos;19.29699&apos;, longitud=&apos;-99.125417&apos;)</div>"
      ]
     },
     "metadata": {},
     "output_type": "display_data"
    }
   ],
   "source": [
    "df.head()"
   ]
  },
  {
   "cell_type": "code",
   "execution_count": 13,
   "metadata": {},
   "outputs": [
    {
     "data": {
      "text/html": [
       "<style scoped>\n",
       "  .ansiout {\n",
       "    display: block;\n",
       "    unicode-bidi: embed;\n",
       "    white-space: pre-wrap;\n",
       "    word-wrap: break-word;\n",
       "    word-break: break-all;\n",
       "    font-family: \"Source Code Pro\", \"Menlo\", monospace;;\n",
       "    font-size: 13px;\n",
       "    color: #555;\n",
       "    margin-left: 4px;\n",
       "    line-height: 19px;\n",
       "  }\n",
       "</style>\n",
       "<div class=\"ansiout\"></div>"
      ]
     },
     "metadata": {},
     "output_type": "display_data"
    }
   ],
   "source": [
    "# creamos tabla temporal para que los queries sean más bonitos\n",
    "df.registerTempTable(\"profeco\")"
   ]
  },
  {
   "cell_type": "markdown",
   "metadata": {},
   "source": [
    "### Pregunta 1b"
   ]
  },
  {
   "cell_type": "code",
   "execution_count": 14,
   "metadata": {},
   "outputs": [
    {
     "data": {
      "text/html": [
       "<style scoped>\n",
       "  .table-result-container {\n",
       "    max-height: 300px;\n",
       "    overflow: auto;\n",
       "  }\n",
       "  table, th, td {\n",
       "    border: 1px solid black;\n",
       "    border-collapse: collapse;\n",
       "  }\n",
       "  th, td {\n",
       "    padding: 5px;\n",
       "  }\n",
       "  th {\n",
       "    text-align: left;\n",
       "  }\n",
       "</style><div class='table-result-container'><table class='table-result'><thead style='background-color: white'><tr><th>count(DISTINCT categoria)</th></tr></thead><tbody><tr><td>41</td></tr></tbody></table></div>"
      ]
     },
     "metadata": {},
     "output_type": "display_data"
    }
   ],
   "source": [
    "# 1.b \n",
    "display(\n",
    "sqlContext.sql(\"\"\"\n",
    "                           SELECT COUNT(DISTINCT categoria)\n",
    "                           FROM profeco\n",
    "                           \"\"\")\n",
    ")"
   ]
  },
  {
   "cell_type": "markdown",
   "metadata": {},
   "source": [
    "### Pregunta 1c"
   ]
  },
  {
   "cell_type": "code",
   "execution_count": 15,
   "metadata": {},
   "outputs": [
    {
     "data": {
      "text/html": [
       "<style scoped>\n",
       "  .table-result-container {\n",
       "    max-height: 300px;\n",
       "    overflow: auto;\n",
       "  }\n",
       "  table, th, td {\n",
       "    border: 1px solid black;\n",
       "    border-collapse: collapse;\n",
       "  }\n",
       "  th, td {\n",
       "    padding: 5px;\n",
       "  }\n",
       "  th {\n",
       "    text-align: left;\n",
       "  }\n",
       "</style><div class='table-result-container'><table class='table-result'><thead style='background-color: white'><tr><th>count(DISTINCT cadenaComercial)</th></tr></thead><tbody><tr><td>705</td></tr></tbody></table></div>"
      ]
     },
     "metadata": {},
     "output_type": "display_data"
    }
   ],
   "source": [
    "# 1.c - cadenas comerciales monitoreadas\n",
    "display(\n",
    "sqlContext.sql(\"\"\"\n",
    "                           SELECT COUNT(DISTINCT cadenaComercial)\n",
    "                           FROM profeco\n",
    "                           \"\"\")\n",
    ")"
   ]
  },
  {
   "cell_type": "markdown",
   "metadata": {},
   "source": [
    "### Pregunta 1d \n",
    "\n",
    "Creo que una buena forma de medir la calidad es contar el número de valores nulos, o bien, checar la cardinalidad de las variables (columnas) para ver si no hay dos valores que digan lo mismo, por ejemplo una variable que me parece particularme interesante es la marca y si la exploramos vemos esto: "
   ]
  },
  {
   "cell_type": "code",
   "execution_count": 17,
   "metadata": {},
   "outputs": [
    {
     "data": {
      "text/html": [
       "<style scoped>\n",
       "  .table-result-container {\n",
       "    max-height: 300px;\n",
       "    overflow: auto;\n",
       "  }\n",
       "  table, th, td {\n",
       "    border: 1px solid black;\n",
       "    border-collapse: collapse;\n",
       "  }\n",
       "  th, td {\n",
       "    padding: 5px;\n",
       "  }\n",
       "  th {\n",
       "    text-align: left;\n",
       "  }\n",
       "</style><div class='table-result-container'><table class='table-result'><thead style='background-color: white'><tr><th>marca</th><th>conteo</th><th>prop</th></tr></thead><tbody><tr><td>S/M</td><td>19814738</td><td>0.31688008045326205</td></tr><tr><td>SIN MARCA</td><td>1304324</td><td>0.020858933085924253</td></tr><tr><td>LA COSTENA</td><td>1156782</td><td>0.01849942064471836</td></tr><tr><td>LG</td><td>838718</td><td>0.01341289636620979</td></tr><tr><td>SAMSUNG</td><td>729047</td><td>0.01165902229008576</td></tr><tr><td>MC CORMICK</td><td>632432</td><td>0.010113941604537866</td></tr><tr><td>MABE</td><td>631119</td><td>0.010092943923638168</td></tr><tr><td>OSTER</td><td>540629</td><td>0.008645815100626947</td></tr><tr><td>SONY</td><td>509779</td><td>0.008152457556258551</td></tr><tr><td>GAMESA</td><td>449320</td><td>0.007185588714282253</td></tr></tbody></table></div>"
      ]
     },
     "metadata": {},
     "output_type": "display_data"
    }
   ],
   "source": [
    "display(\n",
    "sqlContext.sql(\"\"\"\n",
    "\n",
    "select marca, count(*) as conteo, count(*) / (select count(*) from profeco) as prop\n",
    "from profeco\n",
    "group by marca\n",
    "order by conteo desc\n",
    "limit 10\n",
    "\n",
    "\n",
    "                           \"\"\")\n",
    ")"
   ]
  },
  {
   "cell_type": "markdown",
   "metadata": {},
   "source": [
    "Podemos ver que más del 30% de la tabla tiene un valor s/m o sin marca para la variable de marca"
   ]
  },
  {
   "cell_type": "code",
   "execution_count": 19,
   "metadata": {},
   "outputs": [
    {
     "data": {
      "text/html": [
       "<style scoped>\n",
       "  .table-result-container {\n",
       "    max-height: 300px;\n",
       "    overflow: auto;\n",
       "  }\n",
       "  table, th, td {\n",
       "    border: 1px solid black;\n",
       "    border-collapse: collapse;\n",
       "  }\n",
       "  th, td {\n",
       "    padding: 5px;\n",
       "  }\n",
       "  th {\n",
       "    text-align: left;\n",
       "  }\n",
       "</style><div class='table-result-container'><table class='table-result'><thead style='background-color: white'><tr><th>productos_nulos</th></tr></thead><tbody><tr><td>0</td></tr></tbody></table></div>"
      ]
     },
     "metadata": {},
     "output_type": "display_data"
    }
   ],
   "source": [
    "display(\n",
    "sqlContext.sql(\"\"\"\n",
    "select count(*) as productos_nulos\n",
    "from profeco\n",
    "where producto is null\n",
    "                           \"\"\")\n",
    ")"
   ]
  },
  {
   "cell_type": "markdown",
   "metadata": {},
   "source": [
    "No hay productos nulos"
   ]
  },
  {
   "cell_type": "code",
   "execution_count": 20,
   "metadata": {},
   "outputs": [
    {
     "data": {
      "text/html": [
       "<style scoped>\n",
       "  .table-result-container {\n",
       "    max-height: 300px;\n",
       "    overflow: auto;\n",
       "  }\n",
       "  table, th, td {\n",
       "    border: 1px solid black;\n",
       "    border-collapse: collapse;\n",
       "  }\n",
       "  th, td {\n",
       "    padding: 5px;\n",
       "  }\n",
       "  th {\n",
       "    text-align: left;\n",
       "  }\n",
       "</style><div class='table-result-container'><table class='table-result'><thead style='background-color: white'><tr><th>precio_nulos</th></tr></thead><tbody><tr><td>0</td></tr></tbody></table></div>"
      ]
     },
     "metadata": {},
     "output_type": "display_data"
    }
   ],
   "source": [
    "display(\n",
    "sqlContext.sql(\"\"\"\n",
    "select count(*) as precio_nulos\n",
    "from profeco\n",
    "where precio is null\n",
    "                           \"\"\")\n",
    ")"
   ]
  },
  {
   "cell_type": "markdown",
   "metadata": {},
   "source": [
    "No hay precios nulos"
   ]
  },
  {
   "cell_type": "code",
   "execution_count": 21,
   "metadata": {},
   "outputs": [
    {
     "data": {
      "text/html": [
       "<style scoped>\n",
       "  .table-result-container {\n",
       "    max-height: 300px;\n",
       "    overflow: auto;\n",
       "  }\n",
       "  table, th, td {\n",
       "    border: 1px solid black;\n",
       "    border-collapse: collapse;\n",
       "  }\n",
       "  th, td {\n",
       "    padding: 5px;\n",
       "  }\n",
       "  th {\n",
       "    text-align: left;\n",
       "  }\n",
       "</style><div class='table-result-container'><table class='table-result'><thead style='background-color: white'><tr><th>comercio_nulos</th></tr></thead><tbody><tr><td>1184</td></tr></tbody></table></div>"
      ]
     },
     "metadata": {},
     "output_type": "display_data"
    }
   ],
   "source": [
    "display(\n",
    "sqlContext.sql(\"\"\"\n",
    "select count(*) as comercio_nulos\n",
    "from profeco\n",
    "where cadenaComercial is null\n",
    "                           \"\"\")\n",
    ")"
   ]
  },
  {
   "cell_type": "markdown",
   "metadata": {},
   "source": [
    "Por otro lado, si consideramos producto y precio como las variables más importantes,y ninguna tiene valor nulo, esto quiere que al menos la información \"core\" está correctamente registrada. \n",
    "\n",
    "Como mencioné en la pregunta A, la calidad de los datos depende de la pregunta que buscamos contestar"
   ]
  },
  {
   "cell_type": "markdown",
   "metadata": {},
   "source": [
    "### Pregunta 1.e. productos más monitoreados por entidad\n"
   ]
  },
  {
   "cell_type": "code",
   "execution_count": 24,
   "metadata": {
    "scrolled": true
   },
   "outputs": [
    {
     "data": {
      "text/html": [
       "<style scoped>\n",
       "  .table-result-container {\n",
       "    max-height: 300px;\n",
       "    overflow: auto;\n",
       "  }\n",
       "  table, th, td {\n",
       "    border: 1px solid black;\n",
       "    border-collapse: collapse;\n",
       "  }\n",
       "  th, td {\n",
       "    padding: 5px;\n",
       "  }\n",
       "  th {\n",
       "    text-align: left;\n",
       "  }\n",
       "</style><div class='table-result-container'><table class='table-result'><thead style='background-color: white'><tr><th>estado</th><th>producto</th><th>conteo</th></tr></thead><tbody><tr><td>SONORA</td><td>REFRESCO</td><td>34731</td></tr><tr><td>VERACRUZ DE IGNACIO DE LA LLAVE</td><td>REFRESCO</td><td>14576</td></tr><tr><td>QUINTANA ROO</td><td>FUD</td><td>34846</td></tr><tr><td>BAJA CALIFORNIA</td><td>REFRESCO</td><td>37243</td></tr><tr><td>ZACATECAS</td><td>DETERGENTE P/ROPA</td><td>20884</td></tr><tr><td>SAN LUIS POTOSÍ</td><td>FUD</td><td>10164</td></tr><tr><td>OAXACA</td><td>LECHE ULTRAPASTEURIZADA</td><td>18078</td></tr><tr><td> COL. EDUARDO GUERRA</td><td>REFRESCO</td><td>275</td></tr><tr><td>estado</td><td>producto</td><td>20</td></tr><tr><td>MORELOS</td><td>REFRESCO</td><td>9632</td></tr><tr><td>GUERRERO</td><td>REFRESCO</td><td>8932</td></tr><tr><td>MÉXICO</td><td>REFRESCO</td><td>194939</td></tr><tr><td>COLIMA</td><td>DETERGENTE P/ROPA</td><td>17193</td></tr><tr><td>SINALOA</td><td>REFRESCO</td><td>33115</td></tr><tr><td>QUERÉTARO</td><td>LECHE ULTRAPASTEURIZADA</td><td>27868</td></tr><tr><td>MICHOACÁN DE OCAMPO</td><td>DETERGENTE P/ROPA</td><td>40144</td></tr><tr><td>HIDALGO</td><td>REFRESCO</td><td>18137</td></tr><tr><td>NAYARIT</td><td>REFRESCO</td><td>8003</td></tr><tr><td>CHIHUAHUA</td><td>DETERGENTE P/ROPA</td><td>15982</td></tr><tr><td>DURANGO</td><td>DETERGENTE P/ROPA</td><td>9696</td></tr><tr><td>PUEBLA</td><td>REFRESCO</td><td>31597</td></tr><tr><td>TAMAULIPAS</td><td>REFRESCO</td><td>22457</td></tr><tr><td> ESQ. SUR 125\"</td><td>PAN BLANCO BOLILLO</td><td>130</td></tr><tr><td>JALISCO</td><td>REFRESCO</td><td>81718</td></tr><tr><td>CHIAPAS</td><td>REFRESCO</td><td>14452</td></tr><tr><td>CAMPECHE</td><td>FUD</td><td>12960</td></tr><tr><td>GUANAJUATO</td><td>REFRESCO</td><td>49441</td></tr><tr><td>NUEVO LEÓN</td><td>DETERGENTE P/ROPA</td><td>50307</td></tr><tr><td>TLAXCALA</td><td>REFRESCO</td><td>43904</td></tr><tr><td>TABASCO</td><td>REFRESCO</td><td>28754</td></tr><tr><td>DISTRITO FEDERAL</td><td>REFRESCO</td><td>287463</td></tr><tr><td>AGUASCALIENTES</td><td>FUD</td><td>12005</td></tr><tr><td>COAHUILA DE ZARAGOZA</td><td>FUD</td><td>28613</td></tr><tr><td>YUCATÁN</td><td>LECHE ULTRAPASTEURIZADA</td><td>35991</td></tr><tr><td>BAJA CALIFORNIA SUR</td><td>REFRESCO</td><td>27770</td></tr></tbody></table></div>"
      ]
     },
     "metadata": {},
     "output_type": "display_data"
    }
   ],
   "source": [
    "display(\n",
    "sqlContext.sql(\"\"\"\n",
    "         with conteo_gral as(\n",
    "               select estado, producto, count(*) as conteo\n",
    "                from profeco \n",
    "                group by estado, producto\n",
    "                order by conteo desc\n",
    "          ),\n",
    "          conteo_max as( \n",
    "          select estado, max(conteo) as max\n",
    "          from conteo_gral\n",
    "          group by estado \n",
    "          )\n",
    "           select conteo_max.estado, producto, conteo\n",
    "           from conteo_gral inner join conteo_max\n",
    "           on conteo_gral.estado = conteo_max.estado AND conteo_gral.conteo = conteo_max.max          \n",
    "                           \"\"\")\n",
    ")"
   ]
  },
  {
   "cell_type": "markdown",
   "metadata": {},
   "source": [
    "### Pregunta 1.f - cadena comercial con mayor variedad de productos monitoreados"
   ]
  },
  {
   "cell_type": "code",
   "execution_count": 25,
   "metadata": {},
   "outputs": [
    {
     "data": {
      "text/html": [
       "<style scoped>\n",
       "  .table-result-container {\n",
       "    max-height: 300px;\n",
       "    overflow: auto;\n",
       "  }\n",
       "  table, th, td {\n",
       "    border: 1px solid black;\n",
       "    border-collapse: collapse;\n",
       "  }\n",
       "  th, td {\n",
       "    padding: 5px;\n",
       "  }\n",
       "  th {\n",
       "    text-align: left;\n",
       "  }\n",
       "</style><div class='table-result-container'><table class='table-result'><thead style='background-color: white'><tr><th>cadenaComercial</th><th>variedad_productos</th></tr></thead><tbody><tr><td>SORIANA</td><td>1059</td></tr><tr><td>WAL-MART</td><td>1051</td></tr><tr><td>MEGA COMERCIAL MEXICANA</td><td>1049</td></tr><tr><td>COMERCIAL MEXICANA</td><td>1036</td></tr><tr><td>CHEDRAUI</td><td>1026</td></tr><tr><td>MERCADO SORIANA</td><td>1024</td></tr><tr><td>BODEGA AURRERA</td><td>1012</td></tr><tr><td>HIPERMERCADO SORIANA</td><td>1006</td></tr><tr><td>H.E.B.</td><td>1001</td></tr><tr><td>SORIANA PLUS</td><td>999</td></tr><tr><td>SORIANA SUPER</td><td>996</td></tr><tr><td>BODEGA COMERCIAL MEXICANA</td><td>979</td></tr><tr><td>I.S.S.S.T.E.</td><td>937</td></tr><tr><td>SUPERAMA</td><td>936</td></tr><tr><td>S MART</td><td>851</td></tr><tr><td>SUPERMERCADOS SANTA FE</td><td>849</td></tr><tr><td>SUMESA</td><td>848</td></tr><tr><td>CITY MARKET</td><td>844</td></tr><tr><td>FARMACIA GUADALAJARA</td><td>819</td></tr><tr><td>CASA LEY</td><td>808</td></tr><tr><td>SUPER CHE</td><td>793</td></tr><tr><td>U.N.A.M.</td><td>770</td></tr><tr><td>MI BODEGA AURRERA</td><td>766</td></tr><tr><td>LEY (AUTOSERVICIO)</td><td>756</td></tr><tr><td>SUPER SAN FRANCISCO DE ASIS</td><td>750</td></tr><tr><td>ISSSTEZAC</td><td>737</td></tr><tr><td>MEGA COMERCIAL</td><td>704</td></tr><tr><td>SUPER ISSSTE</td><td>688</td></tr><tr><td>MERCADO EXPRESS SORIANA</td><td>674</td></tr><tr><td>SUPER AKI XTRA</td><td>658</td></tr><tr><td>BENAVIDES</td><td>653</td></tr><tr><td>SUPER CHEDRAUI</td><td>648</td></tr><tr><td>CALIMAX</td><td>639</td></tr><tr><td>SORIANA EXPRESS</td><td>637</td></tr><tr><td>SANBORN S HNOS.</td><td>629</td></tr><tr><td>FARMACIA YZA</td><td>612</td></tr><tr><td>FARMACIAS DEL AHORRO</td><td>607</td></tr><tr><td>ALSUPER STORE</td><td>605</td></tr><tr><td>FARMACIA DEL AHORRO</td><td>596</td></tr><tr><td>FARMACIAS EL FENIX</td><td>596</td></tr><tr><td>COMERCIALIZADORA FARMACEUTICA DE CHS.</td><td>595</td></tr><tr><td>FARMACIA SAN PABLO</td><td>591</td></tr><tr><td>FARMACON</td><td>590</td></tr><tr><td>SUPER FARMACIA EL ROSARIO</td><td>587</td></tr><tr><td>FARMACIA ABC</td><td>584</td></tr><tr><td>FARMACIA BAZAR</td><td>584</td></tr><tr><td>FARMAPRONTO</td><td>582</td></tr><tr><td>LEY EXPRESS</td><td>577</td></tr><tr><td>FARMACIA SANTA CRUZ</td><td>577</td></tr><tr><td>FARMACIA MODERNA</td><td>571</td></tr><tr><td>FARMACIA</td><td>570</td></tr><tr><td>FARMACIA PARIS</td><td>569</td></tr><tr><td>FARMACIA LA UNION</td><td>568</td></tr><tr><td>FARMATODO</td><td>563</td></tr><tr><td>FARMACIA ISSEG</td><td>563</td></tr><tr><td>FARMACIA COMERCIO</td><td>557</td></tr><tr><td>FARMACIAS SAN FRANCISCO DE ASIS</td><td>551</td></tr><tr><td>ALSUPER</td><td>546</td></tr><tr><td>FARMACIA Y DROGUERIA TOLUCA</td><td>545</td></tr><tr><td>DROGUERIA MEDINA</td><td>543</td></tr><tr><td>FARMACIA SANTA CECILIA</td><td>540</td></tr><tr><td>FARMACIA DE DIOS</td><td>539</td></tr><tr><td>FARMACIA UNIVERSITARIA ALEXANDER FLEMING</td><td>535</td></tr><tr><td>FARMACIA GEMS DE DESCUENTO</td><td>535</td></tr><tr><td>FARMACIA ZAPOTLAN</td><td>535</td></tr><tr><td>SMART & FINAL DEL NOROESTE</td><td>523</td></tr><tr><td>FARMACIA DE MAS AHORRO</td><td>521</td></tr><tr><td>MI TIENDA DEL AHORRO</td><td>518</td></tr><tr><td>SUPERMERCADO GONZALEZ</td><td>514</td></tr><tr><td>FARMACIA CANTO</td><td>511</td></tr><tr><td>FARMACIA LUMING</td><td>509</td></tr><tr><td>SUPER GURIERREZ</td><td>508</td></tr><tr><td>FARMACIA LA MINIATURA</td><td>507</td></tr><tr><td>SUPER MERCADO ARAMBURO</td><td>506</td></tr><tr><td>SUPER CENTRO COMERCIAL EL MIRADOR</td><td>505</td></tr><tr><td>SUPERMERCADOS LEY</td><td>498</td></tr><tr><td>FARMACIAS VYR</td><td>481</td></tr><tr><td>FARMACIA SAN MIGUEL</td><td>479</td></tr><tr><td>ALMACENES ZARAGOZA</td><td>472</td></tr><tr><td>FARMACIA MADERO</td><td>461</td></tr><tr><td>FARMACIA SAN JOSE</td><td>459</td></tr><tr><td>FARMACIA MEDIMAX</td><td>457</td></tr><tr><td>FARMACIAS ISSSTE</td><td>455</td></tr><tr><td>FARMACIA BALANDRA</td><td>442</td></tr><tr><td>SUPER AKI</td><td>442</td></tr><tr><td>FARMACIA ESPECIALIZADA</td><td>441</td></tr><tr><td>FARMACIA TORRE MEDICA</td><td>440</td></tr><tr><td>FARMACIAS IZA</td><td>439</td></tr><tr><td>FARMACIA LA LUZ</td><td>438</td></tr><tr><td>FARMACIA SAN ISIDRO</td><td>437</td></tr><tr><td>FARMACIA POPULAR ROMAN</td><td>437</td></tr><tr><td>FARMACIA CRUZ ROSA</td><td>431</td></tr><tr><td>MAS FARMACIAS</td><td>426</td></tr><tr><td>FARMACIA PLAZA</td><td>424</td></tr><tr><td>FARMACIA VISTA HERMOSA, S.A. DE C.V.</td><td>424</td></tr><tr><td>FARMACIAS M+</td><td>422</td></tr><tr><td>DISTRIBUIDORA QUERETANA DE MEDICAMENTOS</td><td>419</td></tr><tr><td>FARMACIA C.M.Q.</td><td>414</td></tr><tr><td>FARMACIA CRUZ BLANCA</td><td>411</td></tr><tr><td>FARMACIA DEL HOSPITAL</td><td>406</td></tr><tr><td>FARMACIA SANTA FE</td><td>403</td></tr><tr><td>ISSSTEY</td><td>400</td></tr><tr><td>FARMACIA LAS TORRES</td><td>400</td></tr><tr><td>FARMACIAS ESPECIALIZADAS</td><td>393</td></tr><tr><td>FARMACIAS GUELAGUETZA</td><td>374</td></tr><tr><td>FARMACIA LA GUADALUPANA</td><td>360</td></tr><tr><td>FARMACIA DEL CENTRO</td><td>354</td></tr><tr><td>FARMACIA SANTO DOMINGO</td><td>352</td></tr><tr><td>FARMACIA LIQUIS</td><td>347</td></tr><tr><td>FARMACIAS DE SIMILARES</td><td>345</td></tr><tr><td>FARMACIA LA MAS BARATA</td><td>344</td></tr><tr><td>BODEGA AURRERA EXPRESS</td><td>342</td></tr><tr><td>FARMACIA CUERNAVACA</td><td>342</td></tr><tr><td>FARMACIA DEL PARQUE DE APIZACO</td><td>340</td></tr><tr><td>BOTICA GUADALUPANA</td><td>337</td></tr><tr><td>FARMACIA LOPEZ</td><td>337</td></tr><tr><td>FARMACIA KINO</td><td>336</td></tr><tr><td>FARMACIA AZTECA</td><td>333</td></tr><tr><td>FARMACIA HIDALGO</td><td>331</td></tr><tr><td>MERCADO PUBLICO</td><td>324</td></tr><tr><td>FARMA NORTE</td><td>322</td></tr><tr><td>FARMACIAS DEL ROSARIO</td><td>319</td></tr><tr><td>FARMACIA PUREX</td><td>318</td></tr><tr><td>FARM. DE SUPERAHORRO HDEZ. DE CHIH,SA CV</td><td>304</td></tr><tr><td>I.M.S.S.</td><td>301</td></tr><tr><td>LIVERPOOL</td><td>295</td></tr><tr><td>FARMACIA VIPS</td><td>294</td></tr><tr><td>SUPER SUAREZ</td><td>294</td></tr><tr><td>FARMACIA SAN JUAN</td><td>293</td></tr><tr><td>FARMACIA PEY PHARMA</td><td>291</td></tr><tr><td>FARMACIA DURANGO</td><td>290</td></tr><tr><td>SUPER LEY</td><td>268</td></tr><tr><td>FARMACIAS GI</td><td>267</td></tr><tr><td>FARMACIA LUMIG</td><td>262</td></tr><tr><td>MERCADO EMILIO SANCHEZ PIEDRAS</td><td>254</td></tr><tr><td>null</td><td>252</td></tr><tr><td>MERCADO LA CRUZ</td><td>252</td></tr><tr><td>CENTRAL DE ABASTOS</td><td>251</td></tr><tr><td>MERCADO GUADALUPE</td><td>248</td></tr><tr><td>FARMACIA DROGUERIAS MANZANO</td><td>247</td></tr><tr><td>MERCADO 12 DE MAYO</td><td>245</td></tr><tr><td>TIENDAS GARIS</td><td>239</td></tr><tr><td>EL PITICO</td><td>239</td></tr><tr><td>MERKABASTOS</td><td>239</td></tr><tr><td>BODEGA GIGANTE</td><td>238</td></tr><tr><td>MINISUPER</td><td>238</td></tr><tr><td>MERCO</td><td>234</td></tr><tr><td>DEL SOL</td><td>233</td></tr><tr><td>OPERADORA MERCO</td><td>233</td></tr><tr><td>MERCADO HIDALGO</td><td>227</td></tr><tr><td>FARMACIAS LA SALUD</td><td>220</td></tr><tr><td>MERCADO ALCALDE</td><td>215</td></tr><tr><td>DEPARTAMENTAL DEL SOL</td><td>213</td></tr><tr><td>TIENDAS CONTINO</td><td>211</td></tr><tr><td>FARMACIA DE SIMILARES</td><td>208</td></tr><tr><td>SUPER DEL NORTE</td><td>208</td></tr><tr><td>ALPRECIO</td><td>199</td></tr><tr><td>AUTOSERVICIO ZARAGOZA</td><td>197</td></tr><tr><td>SUFARMEX</td><td>190</td></tr><tr><td>FARMACIA SANCHEZ</td><td>189</td></tr><tr><td>OXXO</td><td>188</td></tr><tr><td>LA ARGENTINA</td><td>188</td></tr><tr><td>FARMACIAS SIMILARES</td><td>186</td></tr><tr><td>MERCADO ABASTOS</td><td>183</td></tr><tr><td>FARMACIAS ESTRELLA</td><td>181</td></tr><tr><td>MERCADO CONSTITUCION</td><td>180</td></tr><tr><td>MERCADO JOSE MARIA PINO SUAREZ</td><td>176</td></tr><tr><td>FARMACIA EL CARMEN</td><td>176</td></tr><tr><td>AUTOSERVICIO GUTIERREZ RIZO</td><td>176</td></tr><tr><td>SUPERMERCADO OJINAGA</td><td>175</td></tr><tr><td>MERCADO MARIA LUISA</td><td>174</td></tr><tr><td>SUPER AMIGO</td><td>171</td></tr><tr><td>SUPER BLANQUITA</td><td>168</td></tr><tr><td>MERCADO GENARO CODINA</td><td>167</td></tr><tr><td>DISTRIBUIDORA EL FLORIDO</td><td>165</td></tr><tr><td>ABARROTES SUPER RIVERA</td><td>165</td></tr><tr><td>MERCADO DE ABASTOS</td><td>163</td></tr><tr><td>LIDERES SIMILARES</td><td>161</td></tr><tr><td>FARMACIAS DEL PUEBLO</td><td>160</td></tr><tr><td>MUEBLERIA FABRICAS DE FRANCIA</td><td>159</td></tr><tr><td>DIST. DE ABARROTES LA RIVERA S.A.</td><td>156</td></tr><tr><td>MERCADO CENTRAL DE ACAPULCO</td><td>154</td></tr><tr><td>ABARROTES LA VIOLETA</td><td>154</td></tr><tr><td>LA COMER</td><td>154</td></tr><tr><td>MERCADO MALIBRAN</td><td>153</td></tr><tr><td>MERCADO PLUTARCO MONTIEL</td><td>152</td></tr><tr><td>FARMACIA SAN PEDRO</td><td>152</td></tr><tr><td>MERCADO ADOLFO LOPEZ MATEOS</td><td>151</td></tr><tr><td>ABARROTES SUPER CABRERA CLASS</td><td>151</td></tr><tr><td>FARMACIA EMERGENCIAS</td><td>146</td></tr><tr><td>MERZA PACK</td><td>144</td></tr><tr><td>MERCADO J. JESUS TERAN</td><td>142</td></tr><tr><td>MERCADO JUAN ESCUTIA</td><td>140</td></tr><tr><td>ABARROTES APIZACO</td><td>137</td></tr><tr><td>FARMACIA SALVATIERRA</td><td>136</td></tr><tr><td>SUPER SANCHEZ</td><td>136</td></tr><tr><td>SUPER PLAZA ARAMBURO</td><td>135</td></tr><tr><td>FARMACIA SANTA ROSA</td><td>134</td></tr><tr><td>NETO (SUPER PRECIO)</td><td>134</td></tr><tr><td>ABARROTES MEXICO</td><td>132</td></tr><tr><td>SUPERETTE</td><td>131</td></tr><tr><td>COPPEL</td><td>129</td></tr><tr><td>MERCADO EL MESON ESTRELLA</td><td>125</td></tr><tr><td>ABARROTERA DE TLAXCALA</td><td>124</td></tr><tr><td>SUPER SANTA CARMELA</td><td>124</td></tr><tr><td>FARMACIA CABALLERO</td><td>123</td></tr><tr><td>ABARROTERA GUADALUPANA (FRUTAS)</td><td>122</td></tr><tr><td>TIENDA POPULAR</td><td>120</td></tr><tr><td>ANDA FARMACIAS</td><td>119</td></tr><tr><td>MERCADO PUBLICO 5 DE  MAYO</td><td>118</td></tr><tr><td>MERCADO  GENERAL EMILIANO ZAPATA SALAZAR</td><td>117</td></tr><tr><td>ABARROTES VERO</td><td>116</td></tr><tr><td>7 ELEVEN</td><td>116</td></tr><tr><td>EL BUEN PRECIO</td><td>115</td></tr><tr><td>MERCADO PRINCIPAL PEDRO SAINZ DE BARANDA</td><td>112</td></tr><tr><td>MERCADO SANDERS</td><td>110</td></tr><tr><td>MERCADO AEROPUERTO</td><td>108</td></tr><tr><td>SUPER LILI</td><td>105</td></tr><tr><td>MINISUPER LA VAQUITA</td><td>105</td></tr><tr><td>FARMACIA DE DOCTOR DESCUENTO</td><td>105</td></tr><tr><td>MERCADO DEL NORTE</td><td>104</td></tr><tr><td>BODEGA I.S.S.S.T.E.</td><td>104</td></tr><tr><td>FARMACIA SIMILAR</td><td>102</td></tr><tr><td>MINISUPER DANAN</td><td>100</td></tr><tr><td>COMERCIAL DE AGUA PRIETA</td><td>99</td></tr><tr><td>ABARROTERA SANCHEZ</td><td>98</td></tr><tr><td>DESPENSA DEL HOGAR</td><td>95</td></tr><tr><td>WOOLWORTH</td><td>95</td></tr><tr><td>ABARROTERA MONTERREY</td><td>94</td></tr><tr><td>MERCADO JUAREZ</td><td>93</td></tr><tr><td>MERCADO GARMENDIA</td><td>92</td></tr><tr><td>FARMACIA NUEVA VIDA</td><td>90</td></tr><tr><td>MINISUPER FRUTERIA NUEVO SAN LUIS</td><td>90</td></tr><tr><td>MERCADO DIANA LAURA RIOJAS</td><td>89</td></tr><tr><td>BODEGAS VICTORIA</td><td>84</td></tr><tr><td>FARMACIA FLEMINGO</td><td>83</td></tr><tr><td>MERCADO PUBLICO 27 DE FEBRERO</td><td>82</td></tr><tr><td>TORTILLERIAS TRADICIONALES</td><td>81</td></tr><tr><td>MINISUPER DULCE GLORIA</td><td>80</td></tr><tr><td>DUNOSUSA</td><td>80</td></tr><tr><td>MERCADO BENITO JUAREZ</td><td>78</td></tr><tr><td>ABARROTES ARTES</td><td>78</td></tr><tr><td>AS FARMACIAS</td><td>75</td></tr><tr><td>SUPER ROMA</td><td>74</td></tr><tr><td>SUPER 7</td><td>73</td></tr><tr><td>UNIFORMES DEL SOL</td><td>73</td></tr><tr><td>MINISUPER CONCHALITO</td><td>73</td></tr><tr><td>EXTRA</td><td>71</td></tr><tr><td>ABARROTES VIRGO</td><td>70</td></tr><tr><td>BOTICA KENT TLAXCALA</td><td>69</td></tr><tr><td>MAS BODEGA</td><td>68</td></tr><tr><td>FARMACIA HOSPITAL REFORMA</td><td>67</td></tr><tr><td>AUTOSERVICIO LOS TREVI</td><td>64</td></tr><tr><td>MERCADO LAZARO CARDENAS</td><td>64</td></tr><tr><td>HEMSA</td><td>63</td></tr><tr><td>MINISUPER MICKY</td><td>62</td></tr><tr><td>MERCADO FELIPE ANGELES</td><td>62</td></tr><tr><td>MERCADO MUNICIPAL BENITO JUAREZ</td><td>60</td></tr><tr><td>MERCADO MIGUEL HIDALGO</td><td>59</td></tr><tr><td>PALACIO DE HIERRO</td><td>58</td></tr><tr><td>MERCADO ALONSO FELIPE DE ANDRADE</td><td>58</td></tr><tr><td>TIENDA MAMBO</td><td>58</td></tr><tr><td>FARMACIA GUANAJUATO</td><td>57</td></tr><tr><td>PAPELERIA ESCOLAR</td><td>57</td></tr><tr><td>ELECTRODOMESTICOS CHAPUR</td><td>55</td></tr><tr><td>SUPER CITY</td><td>54</td></tr><tr><td>PAPELERIA ZARATE</td><td>53</td></tr><tr><td>PAPELERIA GONVIL</td><td>53</td></tr><tr><td>LIBRERIA EL LIBRO MAGICO</td><td>53</td></tr><tr><td>LIBRERIA BURREL</td><td>53</td></tr><tr><td>MUEBLERIA DEL SOL</td><td>52</td></tr><tr><td>LIBRERIA Y PAPELERIA DE SANCHO PANZA</td><td>52</td></tr><tr><td>SEARS ROEBUCK DE MEXICO</td><td>52</td></tr><tr><td>OFFICE MAX</td><td>51</td></tr><tr><td>MUEBLERIA TELESERVI</td><td>50</td></tr><tr><td>PAPELERIA SNOOPY</td><td>50</td></tr><tr><td>OFFICE DEPOT</td><td>50</td></tr><tr><td>PAPELERIA CONTI</td><td>49</td></tr><tr><td>FARMACIA IDEAL</td><td>49</td></tr><tr><td>PAPELERIA ABC</td><td>49</td></tr><tr><td>PAPELERIA MORELOS</td><td>49</td></tr><tr><td>PAPELERIA TONY</td><td>49</td></tr><tr><td>PAPELERIA OFIX</td><td>49</td></tr><tr><td>HIPER LUMEN</td><td>49</td></tr><tr><td>COMPUCOPIAS</td><td>49</td></tr><tr><td>JUGUETERIA Y PAPELERIA TONY</td><td>49</td></tr><tr><td>PAPELERIA EL LAPIZ</td><td>48</td></tr><tr><td>DISTRIBUIDORA ESCOLAR Y DE OFICINA J.P.</td><td>47</td></tr><tr><td>PAPELERIA FARAH</td><td>47</td></tr><tr><td>PAPELERIA DABO</td><td>47</td></tr><tr><td>GRAND MARCHAND</td><td>47</td></tr><tr><td>ABASTECEDORA LUMEN</td><td>47</td></tr><tr><td>PAPELERIA LA ESCOLAR</td><td>47</td></tr><tr><td>PAPELERIA DEL AHORRO</td><td>47</td></tr><tr><td>BMART</td><td>46</td></tr><tr><td>CIMACO</td><td>46</td></tr><tr><td>PAPELERIA LA MARIPOSA</td><td>46</td></tr><tr><td>PAPELERIA BACHILLER</td><td>45</td></tr><tr><td>PAPELERIA TLAXACALA</td><td>45</td></tr><tr><td>PAPELERIA TRADICIONAL</td><td>45</td></tr><tr><td>PAPELERIA ALBERTO PLIEGO DG E HIJOS</td><td>45</td></tr><tr><td>CENTRAL PAP</td><td>45</td></tr><tr><td>PAPELERIA CASA MARCHARD</td><td>45</td></tr><tr><td>MERCADO CENTRALITO</td><td>45</td></tr><tr><td>ZAPOPAN ESCOLAR</td><td>44</td></tr><tr><td>PAPELERIAS SUPER PRECIOS</td><td>44</td></tr><tr><td>PAPELERIA JORTUSA</td><td>44</td></tr><tr><td>PAPELERIA EL ESCRITORIO</td><td>44</td></tr><tr><td>PAPELERIA COLIBRI</td><td>44</td></tr><tr><td>MERCADO DEL MAR ZAPOPAN</td><td>43</td></tr><tr><td>PESCADERIAS TRADICIONALES</td><td>43</td></tr><tr><td>PAPELERIA GODI</td><td>43</td></tr><tr><td>PAPELERIA OSCAR</td><td>43</td></tr><tr><td>PAPELERIA ESCOLAR DE PUEBLA</td><td>43</td></tr><tr><td>PAPELERIA DEL ESTUDIANTE</td><td>43</td></tr><tr><td>PAPELERIA VAZQUEZ HERMANOS Y COMPAÑIA</td><td>43</td></tr><tr><td>LA MODERNA (PAPELERIALA)</td><td>42</td></tr><tr><td>OPTIVOSA</td><td>42</td></tr><tr><td>PAPELERIA Y LIBRERIA SAGRADO CORAZON</td><td>42</td></tr><tr><td>AUTOSERVICIO POWIS</td><td>42</td></tr><tr><td>PAPELERIA CANCUN</td><td>41</td></tr><tr><td>PAPELERIA DEL NORTE</td><td>41</td></tr><tr><td>MINISUPER MERCADO TOGUZ</td><td>41</td></tr><tr><td>PAPELERIA REVOLUCION</td><td>41</td></tr><tr><td>ADOSA</td><td>41</td></tr><tr><td>PAPELERIA EL TINTERO</td><td>41</td></tr><tr><td>PAPELERIA SAGITARIO</td><td>41</td></tr><tr><td>PAPELERIA LA POPULAR</td><td>40</td></tr><tr><td>PAPELERIA SAN FELIPE</td><td>40</td></tr><tr><td>PAPELERIA CUATITAS GUERRERO</td><td>40</td></tr><tr><td>PESCADERIA PARGUITA REYNA</td><td>39</td></tr><tr><td>PAPELERIA SAN JOSE</td><td>39</td></tr><tr><td>PAPELERIA LA LITERARIA</td><td>39</td></tr><tr><td>ALVA PAPELERIA</td><td>39</td></tr><tr><td>PAPELERIA ALAMEDA</td><td>39</td></tr><tr><td>PAPELERIA LA ORTOFONICA</td><td>39</td></tr><tr><td>PAPELERIA NET</td><td>39</td></tr><tr><td>PAPELERIA MANZANILLO</td><td>38</td></tr><tr><td>PESCADERIA PACIFICO</td><td>38</td></tr><tr><td>PAPELERIA LA CULTURA</td><td>38</td></tr><tr><td>PESCADERIA PUERTO AVENTURA</td><td>38</td></tr><tr><td>ABARROTERA DE BAJA CALIFORNIA</td><td>38</td></tr><tr><td>PAPELERIA GARY</td><td>38</td></tr><tr><td>CIRCULO K</td><td>38</td></tr><tr><td>COMERCIAL UNIVERSITARIA</td><td>38</td></tr><tr><td>PAPELERIA LA MICHOACANA</td><td>37</td></tr><tr><td>PAPELERIA PAQUIN</td><td>37</td></tr><tr><td>PESCADERA MAC`FISH</td><td>37</td></tr><tr><td>PAPELERIA POPULAR</td><td>36</td></tr><tr><td>ELEKTRA</td><td>36</td></tr><tr><td>PAPELERIA SALDAÑA</td><td>36</td></tr><tr><td>PAPELERIA LA NORMAL</td><td>36</td></tr><tr><td>PAPELERIA BELPA</td><td>36</td></tr><tr><td>PAPELERIA MASAN</td><td>35</td></tr><tr><td>PAPELERIA CASA SAKURA</td><td>35</td></tr><tr><td>SALINAS Y ROCHA</td><td>35</td></tr><tr><td>PAPELERIA LAS MARIA LUISAS</td><td>34</td></tr><tr><td>PAPELERIA SIN NOMBRE</td><td>34</td></tr><tr><td>ARIES</td><td>34</td></tr><tr><td>PESCADERIA GANDARA</td><td>34</td></tr><tr><td>PAPELERIA DANY</td><td>34</td></tr><tr><td>UNIFORMES ALMACENES GARCIA</td><td>34</td></tr><tr><td>PESCADERIA DELFIN</td><td>33</td></tr><tr><td>PESCADERIA LIZ DEL MAR</td><td>33</td></tr><tr><td>PESCADERIA YURIDIA</td><td>33</td></tr><tr><td>MERCADO DEL MAR FELIPE ANGELES HIGUERILL</td><td>33</td></tr><tr><td>PAPELERIA LA PALMA</td><td>33</td></tr><tr><td>MÓNICA ESTEFANIA ORTIZ ZORRILLA</td><td>33</td></tr><tr><td>FAMSA</td><td>33</td></tr><tr><td>PAPELERIA NEWBERRY</td><td>32</td></tr><tr><td>PAPELERIA AL FERROCARRIL</td><td>32</td></tr><tr><td>PESCADERIA GUASAVEÑA</td><td>32</td></tr><tr><td>ORZO ARTICULOS ESCOLARES Y DE OFICINA</td><td>32</td></tr><tr><td>PAPELERIA EL CEDRO</td><td>32</td></tr><tr><td>PESCADERIA TAMPIQUEÑOS</td><td>31</td></tr><tr><td>PAPELERIA EL RECREO</td><td>31</td></tr><tr><td>PESCADERIA ALDAMARI</td><td>31</td></tr><tr><td>LIBRERIA DE SANCHO PANZA</td><td>31</td></tr><tr><td>PESCADERIA BARRA DE NAVIDAD</td><td>30</td></tr><tr><td>PAPELERIA LA GOMA</td><td>30</td></tr><tr><td>PESCADERIA LA NUEVA</td><td>30</td></tr><tr><td>PESCADERIA HERMANOS LUNA</td><td>30</td></tr><tr><td>PESCADERIA GOLFO DE MEXICO</td><td>30</td></tr><tr><td>PESCADERIA EL MANGLE</td><td>30</td></tr><tr><td>PAPELERIA ZERO</td><td>29</td></tr><tr><td>PESCADERIA S/N</td><td>29</td></tr><tr><td>COMPAÑIA PAPELERA DE MORELOS</td><td>29</td></tr><tr><td>PESCADERIA LA JAIBA</td><td>29</td></tr><tr><td>MINISUPER INALA</td><td>28</td></tr><tr><td>MERCADO DEL MAR SAN FELIPE</td><td>28</td></tr><tr><td>PESCADERIA EL TEJANO DE QUERETARO</td><td>28</td></tr><tr><td>PESCADERIA EL FORO</td><td>28</td></tr><tr><td>PESCADOS Y MARSCOS ESTRELLA</td><td>28</td></tr><tr><td>PESCADERIA EL PATON</td><td>27</td></tr><tr><td>PAPELERIA ROSETE ARANDA</td><td>27</td></tr><tr><td>JUGUETRON</td><td>27</td></tr><tr><td>BEST BUY</td><td>27</td></tr><tr><td>JULIO CEPEDA JUGUETERIAS</td><td>27</td></tr><tr><td>PESCADERIA ALVAREZ</td><td>27</td></tr><tr><td>PAPELERIA MADERO</td><td>27</td></tr><tr><td>PESCADOS Y MARISCOS SANDRA</td><td>27</td></tr><tr><td>PAPELERIA EL ALMACEN</td><td>27</td></tr><tr><td>PESCADOS Y MARISCOS MIGUEL HIDAGO</td><td>26</td></tr><tr><td>PESCADERIA MARI-MICH</td><td>26</td></tr><tr><td>PAPELERIA MAPED</td><td>26</td></tr><tr><td>PAPELERIA JALISCO</td><td>26</td></tr><tr><td>LIBRERIA Y PAPELERIA DEL MAESTRO</td><td>25</td></tr><tr><td>CENTRO NACIONAL DE DISTRIBUCION JUTEGA</td><td>25</td></tr><tr><td>LA COLONIAL</td><td>25</td></tr><tr><td>JUGUETIBICI</td><td>25</td></tr><tr><td>PAPELERIA LA FUERZA</td><td>25</td></tr><tr><td>MUEBLERIAS</td><td>25</td></tr><tr><td>VIANA</td><td>24</td></tr><tr><td>PESCADERIAS</td><td>24</td></tr><tr><td>LA VIGA DE MORELOS</td><td>24</td></tr><tr><td>PAPELERIA SARACHO</td><td>24</td></tr><tr><td>MUEBLERIA CREDILAND</td><td>24</td></tr><tr><td>MUEBLES AMERICA</td><td>24</td></tr><tr><td>PAPELERIA FOX</td><td>24</td></tr><tr><td>MUEBLERIA FOTO CONTINO</td><td>24</td></tr><tr><td>UNIFORMES EL NUEVO MUNDO</td><td>24</td></tr><tr><td>PESCADERIA DEL FUERTE</td><td>24</td></tr><tr><td>MEGA TOYS</td><td>24</td></tr><tr><td>TELEBODEGA</td><td>24</td></tr><tr><td>ULTRA HOGAR</td><td>23</td></tr><tr><td>PAPELERIA DEL PARQUE</td><td>23</td></tr><tr><td>PAPELERIA MATTY S</td><td>23</td></tr><tr><td>MUEBLERIA RYSE DE MORELIA</td><td>23</td></tr><tr><td>LA MARINA</td><td>23</td></tr><tr><td>MUEBLERIA ELIZONDO</td><td>23</td></tr><tr><td>PAPELERIA  BIZMART</td><td>23</td></tr><tr><td>PAPELERIAS CUAUHTEMOC</td><td>22</td></tr><tr><td>MUNDO DE LOS MARISCOS</td><td>22</td></tr><tr><td>PESCADERIA CEPESMAR</td><td>22</td></tr><tr><td>MUEBLERIAS PORTILLO</td><td>22</td></tr><tr><td>MUEBLERIA MAYA</td><td>22</td></tr><tr><td>PESCADERIA LINDO SINALOA</td><td>22</td></tr><tr><td>ESCAPARATE</td><td>22</td></tr><tr><td>EL SALTO SIN NOMBRE</td><td>22</td></tr><tr><td>MUEBLES DEL ANGEL</td><td>22</td></tr><tr><td>MEGA ELEKTRA</td><td>22</td></tr><tr><td>MUEBLERIA EL GRAN SALTO</td><td>22</td></tr><tr><td>HERMANOS VAZQUEZ</td><td>22</td></tr><tr><td>PAPELERIA EL AGUILA</td><td>22</td></tr><tr><td>PAPELERIA OFFICE SERVICE</td><td>22</td></tr><tr><td>ORGANIZACION PAPELERA MEXICANA</td><td>22</td></tr><tr><td>PALACIO DEL MUEBLE</td><td>22</td></tr><tr><td>LA PERLA ESCOLAR DE NAYARIT S.A. DE C.V.</td><td>22</td></tr><tr><td>UNIFORMES TROFEO</td><td>21</td></tr><tr><td>EL BODEGON</td><td>21</td></tr><tr><td>MUEBLERIA CENTRAL</td><td>21</td></tr><tr><td>PESCADERIA LA BARCA</td><td>21</td></tr><tr><td>MUEBLERIA GUADALUPANA</td><td>21</td></tr><tr><td>SURTIFIRME S.A. DE C.V. (HOGAR & MAS)</td><td>21</td></tr><tr><td>SIGUBA</td><td>21</td></tr><tr><td>PROHOGAR</td><td>21</td></tr><tr><td>NOVA LUXE</td><td>20</td></tr><tr><td>OFFICE CENTER</td><td>20</td></tr><tr><td>PESCADERIA SILVA</td><td>20</td></tr><tr><td>PAPELERIA DELTA</td><td>20</td></tr><tr><td>MUEBLERIA MILENIO</td><td>20</td></tr><tr><td>COLCHONES Y MUEBLES DE CAMPECHE</td><td>20</td></tr><tr><td>PESCADERIA CANTAMAR</td><td>19</td></tr><tr><td>PESCADERIA LA MARINERA DEL 23</td><td>19</td></tr><tr><td>PESCADERIA LAS TRUCHAS</td><td>19</td></tr><tr><td>JUGUETERIA JUGUETIMUNDO</td><td>19</td></tr><tr><td>EKAR DE GAS</td><td>19</td></tr><tr><td>LA COSTA MARISQUERA</td><td>19</td></tr><tr><td>PAPELERIA LAPI</td><td>19</td></tr><tr><td>FARMACIA MADIR</td><td>19</td></tr><tr><td>PESCADERIA BOCA DEL RIO</td><td>18</td></tr><tr><td>PESCADERIA ALEX</td><td>18</td></tr><tr><td>ELECTROMUEBLES</td><td>18</td></tr><tr><td>MUEBLERIA EL SURTIDOR DEL HOGAR</td><td>18</td></tr><tr><td>PESCADERIA HERMANOS VILLEGAS</td><td>18</td></tr><tr><td>JUGUETERIA LA PALMA</td><td>18</td></tr><tr><td>PESCADERIA LA MARISQUERIA DEL 23</td><td>17</td></tr><tr><td>PESCADERÍA COMERCIALIZADORA DEL MAR</td><td>17</td></tr><tr><td>PAPELERIA LAPICITO</td><td>17</td></tr><tr><td>MUEBLERIA VALDEZ BALUARTE</td><td>17</td></tr><tr><td>MARISCOS LA ESTRELLA</td><td>17</td></tr><tr><td>MUEBLERIA FUTURAMA</td><td>16</td></tr><tr><td>PESCADERIA BAHIA DE KINO</td><td>16</td></tr><tr><td>ZARAGOZA MUEBLES</td><td>15</td></tr><tr><td>VIGO PAPELERIA</td><td>14</td></tr><tr><td>PESCADERIA QUETZALCOATL</td><td>14</td></tr><tr><td>PESCADERIA EL BARQUITO</td><td>14</td></tr><tr><td>RYSE</td><td>14</td></tr><tr><td>LIBRERIA DE CRISTAL</td><td>13</td></tr><tr><td>CRISTALERIA LA VIOLETA</td><td>13</td></tr><tr><td>CASA VALDEZ</td><td>13</td></tr><tr><td>PESCADERIA BAHIA KINO</td><td>13</td></tr><tr><td>RAC</td><td>13</td></tr><tr><td>PESCADERIA SEVILLA CARRO VERDE</td><td>13</td></tr><tr><td>PAPELERIA EL ARTILLERO</td><td>13</td></tr><tr><td>PESCADERIA DISTRIBUIDORA GUASAVE</td><td>12</td></tr><tr><td>PESCADOS Y MARISCOS PUERTO NUEVO</td><td>12</td></tr><tr><td>MUEBLES BURA</td><td>12</td></tr><tr><td>PESCADOS Y MARISCOS MIRAMAR</td><td>12</td></tr><tr><td>MUEBLERIA PATJANE CEJA</td><td>12</td></tr><tr><td>PESCADERIA EL MALECON</td><td>11</td></tr><tr><td>TRICO (VINATERIA)</td><td>11</td></tr><tr><td>PESCADERIA GUERRERO</td><td>11</td></tr><tr><td>PESCADERIA GAMBERO</td><td>11</td></tr><tr><td>PESCADERIA MUÑOZ</td><td>11</td></tr><tr><td>PESCADOS Y MARISCOS PLOMADA</td><td>10</td></tr><tr><td>CREACIONES LIZT</td><td>10</td></tr><tr><td>MUEBLERIAS EL GALLO</td><td>10</td></tr><tr><td>MARISCOS PAPILLON</td><td>10</td></tr><tr><td>PROVEEDORA DE OFICINAS</td><td>10</td></tr><tr><td>PESCADERIA EL CHARAL</td><td>10</td></tr><tr><td>LIBRERIAS GONVILL</td><td>9</td></tr><tr><td>MUEBLERIA ALMACENES DEL NORTE</td><td>9</td></tr><tr><td>EDITORIAL IZTACCIHUATL DE MONTERREY</td><td>9</td></tr><tr><td>LIBRERIA PARROQUIAL</td><td>9</td></tr><tr><td>LIBRERIA UNIVERSITARIA</td><td>9</td></tr><tr><td>LA EUROPEA</td><td>9</td></tr><tr><td>LIBRERIA EL LEON</td><td>9</td></tr><tr><td>LIBRERIA DEL CENTRO</td><td>9</td></tr><tr><td>MARIA LUISA RIVERA FLORES</td><td>9</td></tr><tr><td>PESCADERIA EL POPULAR ELIAS</td><td>9</td></tr><tr><td>LIBRERIA BALANZA</td><td>9</td></tr><tr><td>LIBRERIA LIBRO CENTRO</td><td>9</td></tr><tr><td>LIBRERIA PORRUA</td><td>9</td></tr><tr><td>LIBRERIA GARCIA</td><td>9</td></tr><tr><td>PAPELERIA Y LIBRERIA SAN MIGUEL</td><td>9</td></tr><tr><td>LIBRERIA IBAÑEZ</td><td>9</td></tr><tr><td>LIBRERIA CENTRO</td><td>9</td></tr><tr><td>PATROCINIO DE MARIA</td><td>9</td></tr><tr><td>LIBRERIA CIENCIA Y CONTEXTO</td><td>9</td></tr><tr><td>LIBRERIA DEL SOTANO JUAREZ</td><td>9</td></tr><tr><td>LIBRERIA UNIVERSAL DE AGUASCALIENTES</td><td>9</td></tr><tr><td>LIBRERIA MEXICO DEL PACIFICO</td><td>9</td></tr><tr><td>LIBRERIA PATRIA DE MONTERREY</td><td>9</td></tr><tr><td>LIBRERIA IMAGEN DE TOLUCA</td><td>9</td></tr><tr><td>LIBRERIA HIDALGO</td><td>9</td></tr><tr><td>LIBRERIA EL BACHILLER</td><td>9</td></tr><tr><td>LIBROS EDUCATIVOS</td><td>9</td></tr><tr><td>LIBRERIA UNIVERSO XXI</td><td>9</td></tr><tr><td>PAPELERIA CUAUTLA</td><td>9</td></tr><tr><td>CENTRO LIBRERO DE MORELIA</td><td>9</td></tr><tr><td>LIBRERIA EL TINTERO</td><td>9</td></tr><tr><td>LIBRERIA MADERO DE MORELIA</td><td>9</td></tr><tr><td>LIBRERIA MADERO</td><td>9</td></tr><tr><td>GRUPO LIBRERO DEL SURESTE</td><td>9</td></tr><tr><td>LIBRERIA DEL PARQUE</td><td>9</td></tr><tr><td>NOVEDADES CLARA</td><td>9</td></tr><tr><td>LIBRERIA ATHENAS</td><td>9</td></tr><tr><td>EDITORIAL TRILLAS</td><td>9</td></tr><tr><td>LIBRERIA NOROESTE</td><td>9</td></tr><tr><td>LIBRERIA DEL SOTANO</td><td>9</td></tr><tr><td>LIBRERIA LA GRANDE</td><td>9</td></tr><tr><td>LIBRERIA BELISARIO CHAVEZ</td><td>9</td></tr><tr><td>CENTRO LIBRERO DE PUEBLA</td><td>9</td></tr><tr><td>UNIFORMES COTICA</td><td>8</td></tr><tr><td>UNIFORMES LA CIUDAD DE VERACRUZ</td><td>8</td></tr><tr><td>PLAZA DEL LIBRO</td><td>8</td></tr><tr><td>CASA LUZ</td><td>8</td></tr><tr><td>PAPELERIA GARCIA</td><td>8</td></tr><tr><td>COMERC. DE PESCADOS Y MARISCOS VARASA</td><td>8</td></tr><tr><td>LIBRERIA ZAPLANA</td><td>8</td></tr><tr><td>UNIFORMES EL SURTIDOR DE XOCHIMILCO</td><td>8</td></tr><tr><td>UNIFORMES UNIKA</td><td>8</td></tr><tr><td>UNIFORMES ROA</td><td>8</td></tr><tr><td>UNIFORMES CASA SUSI</td><td>8</td></tr><tr><td>PESCADOS Y MARISCOS BARI</td><td>8</td></tr><tr><td>UNIFORMES COLIBRI</td><td>8</td></tr><tr><td>UNIFORMES ESTTELA</td><td>8</td></tr><tr><td>UNIFORMES ESCOLARES Y DEPORTIVOS</td><td>8</td></tr><tr><td>UNIFORMES DEPORTES JUVENTUD</td><td>8</td></tr><tr><td>UNIFORMES ESCOLARES TEJIDOS NAVA</td><td>8</td></tr><tr><td>GALA DISEÑO EN MUEBLES, S.A. DE C.V.</td><td>8</td></tr><tr><td>UNIFORMES CASA CRUZ</td><td>8</td></tr><tr><td>LIBRERIA ZARAGOZA</td><td>8</td></tr><tr><td>NOVEDADES OLAGUE S.A. DE C.V.</td><td>8</td></tr><tr><td>GALA</td><td>8</td></tr><tr><td>UNIFORMES SAAVEDRA</td><td>8</td></tr><tr><td>LIBRERIA  DILIMAD</td><td>8</td></tr><tr><td>ALMACENES EL AGUILA</td><td>8</td></tr><tr><td>UNIFORMES ESCOLARES ROSY</td><td>8</td></tr><tr><td>UNIFORMES EL LEON</td><td>8</td></tr><tr><td>LIBRERIA LA CULTURA</td><td>8</td></tr><tr><td>ALMACENES RODRIGUEZ</td><td>8</td></tr><tr><td>PAPELERIA AMERICA</td><td>8</td></tr><tr><td>LA ESTRELLITA</td><td>8</td></tr><tr><td>ABARROTES Y VINOS LA FAVORITA</td><td>8</td></tr><tr><td>MILANO</td><td>8</td></tr><tr><td>CASA RIME</td><td>8</td></tr><tr><td>PAPELERIA MERCI-CABOS</td><td>7</td></tr><tr><td>UNIFORMES CASA TINO</td><td>7</td></tr><tr><td>UNIFORMES LUCE</td><td>7</td></tr><tr><td>TENIS COMERCIAL JID</td><td>7</td></tr><tr><td>LOYEP (UNIFORMES)</td><td>7</td></tr><tr><td>UNIFORMES MAKALI</td><td>7</td></tr><tr><td>LIBRERIA DE CARSA</td><td>7</td></tr><tr><td>UNIFORMES BEKAMEX</td><td>7</td></tr><tr><td>CASA MORALES</td><td>7</td></tr><tr><td>LIBRERIA BALLENITA</td><td>7</td></tr><tr><td>LIBRERIA DRAGONES Y DINOSAURIOS</td><td>7</td></tr><tr><td>UNIFORMES EL ARTILLERO</td><td>7</td></tr><tr><td>UNIFORAMA</td><td>7</td></tr><tr><td>UNIFORMES TEJIDOS KEYRI</td><td>7</td></tr><tr><td>UNIFORMES ACOSTA</td><td>7</td></tr><tr><td>OPERADORA PRISSA</td><td>6</td></tr><tr><td>UNIFORMES MARUSA</td><td>6</td></tr><tr><td>UNIFORMES ERICK</td><td>6</td></tr><tr><td>UNIFORMES NOVEDADES ROSITA</td><td>6</td></tr><tr><td>SAN FRANCISCO DE ASIS (ROPA Y TELAS)</td><td>6</td></tr><tr><td>PANADERIAS TRADICIONALES</td><td>6</td></tr><tr><td>UNIFORMES NOVEDADES GLER</td><td>6</td></tr><tr><td>FARMACIA PROVIDENCIA</td><td>6</td></tr><tr><td>PESCADERIA JUAREZ</td><td>6</td></tr><tr><td>VINOS Y LICORES EL TECOLOTE</td><td>6</td></tr><tr><td>PESCADERIA FALUA</td><td>6</td></tr><tr><td>UNIFORMES CREACIONES PIÑA</td><td>6</td></tr><tr><td>LIBRERIA UNIVERSAL</td><td>6</td></tr><tr><td>UNIFORMES ALMACENES SANTA CRUZ</td><td>6</td></tr><tr><td>UNIFORMES REA</td><td>6</td></tr><tr><td>APARATOS Y MUEBLES DE MORELIA</td><td>5</td></tr><tr><td>LA CASTELLANA</td><td>5</td></tr><tr><td>UNIFORMES CASA MIMI</td><td>5</td></tr><tr><td>LA FUENTE (VINATERIA)</td><td>5</td></tr><tr><td>BECERRIL AIR</td><td>5</td></tr><tr><td>UNIFORMES MARINES</td><td>5</td></tr><tr><td>UNIFORMES EL GENERAL</td><td>5</td></tr><tr><td>ALMACENES GARCIA</td><td>5</td></tr><tr><td>MERCADO PEDRO SAINZ DE BARANDA</td><td>5</td></tr><tr><td>GAME RUSH</td><td>5</td></tr><tr><td>UNIFORMES CASA CASTILLA</td><td>5</td></tr><tr><td>LA CAVA</td><td>5</td></tr><tr><td>MARISCOS VILLA AZUL</td><td>5</td></tr><tr><td>LA DIVINA</td><td>4</td></tr><tr><td>VINOS Y LICORES EL GALLITO</td><td>4</td></tr><tr><td>GIGANTE</td><td>4</td></tr><tr><td>LICORES DE ANZA</td><td>4</td></tr><tr><td>PESCADERIA EXPENDIO LOS RUFINOS</td><td>4</td></tr><tr><td>LA CUBIELLA</td><td>4</td></tr><tr><td>VINOS Y LICORES CALAFIA</td><td>4</td></tr><tr><td>VINOTECA</td><td>4</td></tr><tr><td>SUPER KOMPRAS</td><td>4</td></tr><tr><td>VINOS Y LICORES EL REY</td><td>4</td></tr><tr><td>VINATERIA LA PLAYA</td><td>4</td></tr><tr><td>VINOS Y LICORES LA CONQUISTA</td><td>4</td></tr><tr><td>VINOS GIRALDA</td><td>4</td></tr><tr><td>MAGADAN</td><td>4</td></tr><tr><td>UNIFORMES BARRERA</td><td>4</td></tr><tr><td>MERCANTIL VINATERA</td><td>4</td></tr><tr><td>PESCADERIA LA PERLA DEL PACIFICO</td><td>4</td></tr><tr><td>LIBRERIA ZACATECAS</td><td>4</td></tr><tr><td>MARISCOS LA SEPTIMA</td><td>4</td></tr><tr><td>VINOS BONATERRA</td><td>3</td></tr><tr><td>SUPER MAZ</td><td>3</td></tr><tr><td>PESCADERIA SANALONA</td><td>3</td></tr><tr><td>CORPOVINO MEJIA</td><td>3</td></tr><tr><td>VINATERIA GRUPO ARCE</td><td>3</td></tr><tr><td>LICORES TUZOS</td><td>3</td></tr><tr><td>VINOS Y LICORES MAGADAN QUIMIA</td><td>3</td></tr><tr><td>CORPOVINO</td><td>3</td></tr><tr><td>TIENDA DE ABARROTES</td><td>2</td></tr><tr><td>GAMES FOR LESS</td><td>2</td></tr><tr><td>SUPER PAPELERA, S.A. DE C.V.</td><td>2</td></tr><tr><td>LA VIÑA DEL VINO</td><td>2</td></tr><tr><td>MARISCOS LA PLAYITA</td><td>2</td></tr><tr><td>TRICO PLAZA BELLA</td><td>2</td></tr><tr><td>MINISUPER CHARLY</td><td>2</td></tr><tr><td>MUEBLERIA MI CASA</td><td>2</td></tr><tr><td>MUEBLERIA VAIANA</td><td>2</td></tr><tr><td>MINISUPER 56</td><td>2</td></tr><tr><td>BLOCKBUSTER</td><td>2</td></tr><tr><td>GAME PLANET</td><td>2</td></tr><tr><td>MINISUPER AZTECA</td><td>2</td></tr><tr><td>GAMERS</td><td>2</td></tr><tr><td>ZAPATERIA PAKAR</td><td>1</td></tr><tr><td>ZAPATERIA COPPEL CANADA</td><td>1</td></tr><tr><td>PESCADERIA LA AMISTAD</td><td>1</td></tr><tr><td>ZAPATERIA CHARLY</td><td>1</td></tr><tr><td>TENIS MENDEZ RUIZ</td><td>1</td></tr><tr><td>ZAPATERIA LA RIVERA</td><td>1</td></tr><tr><td>ZAPATERIA 3 HERMANOS</td><td>1</td></tr><tr><td>THE B STORE</td><td>1</td></tr><tr><td>ZAPATERIA LA LUNA</td><td>1</td></tr><tr><td>CALZADO TELLARI</td><td>1</td></tr><tr><td>TENIS LA BARATA</td><td>1</td></tr><tr><td>COMERCIAL V H</td><td>1</td></tr><tr><td>TENIS DEL CARMEN</td><td>1</td></tr><tr><td>ZAPATERIA DESTROYER</td><td>1</td></tr><tr><td>TRICO RELOJ</td><td>1</td></tr><tr><td>cadenaComercial</td><td>1</td></tr><tr><td>MINISUPER LA GLORIA</td><td>1</td></tr><tr><td>ZAPATERIA ZLOP</td><td>1</td></tr><tr><td>JULIO GUADALUPE SANCHEZ AGUILAR</td><td>1</td></tr><tr><td>ZAPATERIA LAS VEGAS</td><td>1</td></tr><tr><td>TENIS LA LUNA</td><td>1</td></tr><tr><td>ZAPATERIA SANHDAK</td><td>1</td></tr><tr><td>ZAPATERIA TLAXCALA</td><td>1</td></tr><tr><td>ZAPATERIAS 3 HERMANOS</td><td>1</td></tr><tr><td>ZAPATERIA GENESIS</td><td>1</td></tr><tr><td>ZAPATERIA AZTECA</td><td>1</td></tr><tr><td>ZAPATERIA EL GLOBITO</td><td>1</td></tr><tr><td>PESCADOS Y MARISCOS DON LEO</td><td>1</td></tr><tr><td>ZAPATERIA LA PERLA</td><td>1</td></tr><tr><td>ZAPATERIA RODRIGUEZ</td><td>1</td></tr><tr><td>DANIEL S UNIFORMES</td><td>1</td></tr><tr><td>LA BARATA</td><td>1</td></tr><tr><td>LIBRERIA AMERICAN BOOK STORE</td><td>1</td></tr><tr><td>TENIS SANTIAGO SPORT</td><td>1</td></tr></tbody></table></div>"
      ]
     },
     "metadata": {},
     "output_type": "display_data"
    }
   ],
   "source": [
    "## 1.f - cadena comercial con mayor variedad de productos monitoreados\n",
    "\n",
    "display(\n",
    "sqlContext.sql(\"\"\"\n",
    "      select cadenaComercial, count(distinct producto) as variedad_productos\n",
    "      from profeco\n",
    "      group by cadenaComercial\n",
    "      order by variedad_productos desc\n",
    "             \n",
    "                           \"\"\")\n",
    ")"
   ]
  },
  {
   "cell_type": "markdown",
   "metadata": {},
   "source": [
    "## Análisis exploratorio"
   ]
  },
  {
   "cell_type": "markdown",
   "metadata": {},
   "source": [
    "### Pregunta 2.a canasta básica que permita comparar precios geográfica y temporalmente\n"
   ]
  },
  {
   "cell_type": "markdown",
   "metadata": {},
   "source": [
    "\n",
    "De acuerdo a este [link](http://elinpc.com.mx/canasta-basica-mexicana/): \n",
    "  \n",
    "\"La canasta básica es un conjunto de bienes y servicios indispensables para que una familia pueda satisfacer sus necesidades básicas de consumo a partir de su ingreso.\"\n",
    "\n",
    "\"Para determinar el contenido final en la canasta básica, se toman en cuenta familias promedio, ingresos y encuestas. La Encuesta Ingreso-Gasto de los Hogares (ENIGH) emitida por el INEGI proporciona los gastos asociados de los hogares en 580 bienes y servicios.\"\n",
    "\n",
    "\"En base a esto, el Banco de México seleccionaba ciertos productos y servicios y los integraba en una canasta básica, al final calcula el peso de cada uno en la construcción del INPC, esta acción recibe el nombre de ponderación. Actualmente el INEGI es el encargado de realizar toda la operación.\"\n",
    "\n",
    "Entonces, creo que requiero mucha más información y contexto del problema para poder generar una canasta básica. Sin embargo creo que una buena forma de atacar el problema es ver cuáles son los productos con más registros por mes y estado. \n",
    "\n"
   ]
  },
  {
   "cell_type": "code",
   "execution_count": 28,
   "metadata": {},
   "outputs": [
    {
     "data": {
      "text/html": [
       "<style scoped>\n",
       "  .table-result-container {\n",
       "    max-height: 300px;\n",
       "    overflow: auto;\n",
       "  }\n",
       "  table, th, td {\n",
       "    border: 1px solid black;\n",
       "    border-collapse: collapse;\n",
       "  }\n",
       "  th, td {\n",
       "    padding: 5px;\n",
       "  }\n",
       "  th {\n",
       "    text-align: left;\n",
       "  }\n",
       "</style><div class='table-result-container'><table class='table-result'><thead style='background-color: white'><tr><th>productos_distintos</th></tr></thead><tbody><tr><td>1107</td></tr></tbody></table></div>"
      ]
     },
     "metadata": {},
     "output_type": "display_data"
    }
   ],
   "source": [
    "display(\n",
    "sqlContext.sql(\"\"\"\n",
    "      select count(distinct producto) as productos_distintos\n",
    "      from profeco\n",
    "                           \"\"\")\n",
    ")"
   ]
  },
  {
   "cell_type": "code",
   "execution_count": 29,
   "metadata": {},
   "outputs": [
    {
     "data": {
      "text/html": [
       "<style scoped>\n",
       "  .table-result-container {\n",
       "    max-height: 300px;\n",
       "    overflow: auto;\n",
       "  }\n",
       "  table, th, td {\n",
       "    border: 1px solid black;\n",
       "    border-collapse: collapse;\n",
       "  }\n",
       "  th, td {\n",
       "    padding: 5px;\n",
       "  }\n",
       "  th {\n",
       "    text-align: left;\n",
       "  }\n",
       "</style><div class='table-result-container'><table class='table-result'><thead style='background-color: white'><tr><th>producto</th><th>estados_present</th><th>registros</th></tr></thead><tbody><tr><td>SALSA DE CHILE</td><td>1</td><td>1</td></tr><tr><td>BISTEC DEL 7</td><td>1</td><td>1</td></tr><tr><td>TORTA IMPERIAL</td><td>1</td><td>1</td></tr><tr><td>producto</td><td>1</td><td>1</td></tr><tr><td>ONICIT</td><td>1</td><td>3</td></tr><tr><td>POLVORON</td><td>2</td><td>5</td></tr><tr><td>VERDILLO</td><td>1</td><td>5</td></tr><tr><td>PAPAS Y SIMILARES</td><td>8</td><td>7</td></tr><tr><td>RIOJANO</td><td>2</td><td>8</td></tr><tr><td>LIZETA</td><td>1</td><td>9</td></tr><tr><td>GEODON IM</td><td>2</td><td>10</td></tr><tr><td>NIMBEX</td><td>2</td><td>12</td></tr><tr><td>LEBRANCHA</td><td>2</td><td>15</td></tr><tr><td>GUAVINA</td><td>1</td><td>15</td></tr><tr><td>COCINERO</td><td>1</td><td>17</td></tr><tr><td>PINTA</td><td>1</td><td>17</td></tr><tr><td>TIBURON</td><td>1</td><td>18</td></tr><tr><td>SABALO</td><td>1</td><td>19</td></tr><tr><td>BOTETE</td><td>2</td><td>20</td></tr><tr><td>BOBO ESCAMA</td><td>1</td><td>20</td></tr><tr><td>SARGO</td><td>2</td><td>21</td></tr><tr><td>CHILES GUEROS CARRICILLOS</td><td>9</td><td>22</td></tr><tr><td>RAYA</td><td>1</td><td>22</td></tr><tr><td>CASTA RICA</td><td>1</td><td>23</td></tr><tr><td>RETAZO DE PESCADO</td><td>1</td><td>24</td></tr><tr><td>TENHUAYACA</td><td>1</td><td>24</td></tr><tr><td>SERVITRIM F</td><td>20</td><td>25</td></tr><tr><td>MAPLUXIN</td><td>20</td><td>25</td></tr><tr><td>KAOPECTATE</td><td>16</td><td>25</td></tr><tr><td>ANGULA</td><td>2</td><td>25</td></tr><tr><td>ACTIFED</td><td>19</td><td>26</td></tr><tr><td>SUIFLOX</td><td>19</td><td>26</td></tr><tr><td>RADUCTIL</td><td>19</td><td>27</td></tr><tr><td>ECTIVA</td><td>19</td><td>27</td></tr><tr><td>BUFFERIN</td><td>16</td><td>27</td></tr><tr><td>PACTENS</td><td>16</td><td>28</td></tr><tr><td>OMNIPEN</td><td>16</td><td>28</td></tr><tr><td>FILETE DE RES</td><td>32</td><td>30</td></tr><tr><td>BREDON</td><td>20</td><td>30</td></tr><tr><td>METODINE</td><td>18</td><td>30</td></tr><tr><td>AUGMENTIN</td><td>20</td><td>31</td></tr><tr><td>PELADILLAS</td><td>7</td><td>31</td></tr><tr><td>CO-TYLENOL</td><td>20</td><td>32</td></tr><tr><td>OSTION</td><td>4</td><td>32</td></tr><tr><td>PRALINE</td><td>6</td><td>33</td></tr><tr><td>AVELLANA</td><td>6</td><td>34</td></tr><tr><td>CATAPRESAN</td><td>19</td><td>35</td></tr><tr><td>BAQUETA</td><td>1</td><td>35</td></tr><tr><td>PAN TOSTADO</td><td>32</td><td>38</td></tr><tr><td>DISCO MAGNETICO</td><td>10</td><td>39</td></tr><tr><td>LIBRO DE TEXTO DE ESPAÑOL</td><td>22</td><td>43</td></tr><tr><td>PIERNA DE CERDO ENTERA/PERNIL</td><td>32</td><td>44</td></tr><tr><td>BOQUERON</td><td>9</td><td>48</td></tr><tr><td>LIBRO DE TEXTO DE INGLES</td><td>20</td><td>52</td></tr><tr><td>PIERNA</td><td>1</td><td>60</td></tr><tr><td>CANGREJO</td><td>1</td><td>68</td></tr><tr><td>LIBRO DE TEXTO DE CIVISMO</td><td>22</td><td>71</td></tr><tr><td>LOMO DE CERDO</td><td>32</td><td>72</td></tr><tr><td>LIBRO DE TEXTO DE HISTORIA</td><td>22</td><td>72</td></tr><tr><td>LIBRO DE TEXTO DE FISICA Y QUIMICA</td><td>21</td><td>73</td></tr><tr><td>LIBRO DE TEXTO DE ESPANOL</td><td>21</td><td>74</td></tr><tr><td>LIBRO DE TEXTO DE GEOGRAFIA</td><td>21</td><td>74</td></tr><tr><td>LIBRO DE TEXTO DE MATEMATICAS</td><td>22</td><td>75</td></tr><tr><td>LIBRO DE TEXTO DE BIOLOGIA</td><td>22</td><td>75</td></tr><tr><td>PIERNA DE POLLO</td><td>32</td><td>76</td></tr><tr><td>BISTEC DE DIEZMILLO DE RES</td><td>31</td><td>77</td></tr><tr><td>FALDA DE RES</td><td>32</td><td>79</td></tr><tr><td>MILANESA DE RES</td><td>32</td><td>79</td></tr><tr><td>CHULETA AHUMADA DE CERDO</td><td>32</td><td>79</td></tr><tr><td>MUELA DE CANGREJO MORO</td><td>4</td><td>79</td></tr><tr><td>RETAZO C/HUESO DE RES</td><td>32</td><td>80</td></tr><tr><td>PESCADO SECO SALADO</td><td>17</td><td>82</td></tr><tr><td>ESPINAZO DE CERDO</td><td>32</td><td>83</td></tr><tr><td>POLLO ENTERO</td><td>32</td><td>84</td></tr><tr><td>ARMABLES</td><td>32</td><td>88</td></tr><tr><td>TOCINO AHUMADO</td><td>9</td><td>89</td></tr><tr><td>KIR. LUNCH</td><td>2</td><td>91</td></tr><tr><td>ZWAN PREMIUM</td><td>2</td><td>94</td></tr><tr><td>JUGUETES VARIOS</td><td>21</td><td>108</td></tr><tr><td>CABRILLA</td><td>1</td><td>114</td></tr><tr><td>TILAPIA</td><td>3</td><td>115</td></tr><tr><td>MONTABLES</td><td>29</td><td>123</td></tr><tr><td>SURIMI</td><td>1</td><td>124</td></tr><tr><td>COCHITO</td><td>2</td><td>132</td></tr><tr><td>CARACOL</td><td>3</td><td>138</td></tr><tr><td>ROBALITO</td><td>1</td><td>141</td></tr><tr><td>TURRON</td><td>13</td><td>145</td></tr><tr><td>PAMPANILLO</td><td>21</td><td>146</td></tr><tr><td>CASTAÑAS</td><td>16</td><td>154</td></tr><tr><td>VIVA</td><td>2</td><td>155</td></tr><tr><td>PANALES DESECHABLES</td><td>2</td><td>174</td></tr><tr><td>CISAPRIDA</td><td>21</td><td>175</td></tr><tr><td>FUMARATO FERROSO</td><td>21</td><td>177</td></tr><tr><td>JUGUETES (JUEGOS DE MESA)</td><td>21</td><td>178</td></tr><tr><td>MONTABLES ELECTRICOS</td><td>32</td><td>180</td></tr><tr><td>GUAIFENESINA Y CITRATO OXOLAMINA</td><td>19</td><td>180</td></tr><tr><td>FRAXIPARINE</td><td>22</td><td>181</td></tr><tr><td>KAOMYCIN</td><td>22</td><td>184</td></tr><tr><td>PIROXICAM</td><td>22</td><td>184</td></tr><tr><td>CLOTRIMAZOL DUAL</td><td>20</td><td>184</td></tr><tr><td>PALMITATO RETINOL ERGOCALCIFEROL</td><td>20</td><td>184</td></tr><tr><td>QUINFAMIDA ALBENDAZOL</td><td>21</td><td>186</td></tr><tr><td>PARACETAMOL IBUPROFENO</td><td>20</td><td>186</td></tr><tr><td>TOBRAMICINA DEXAMETASONA</td><td>20</td><td>187</td></tr><tr><td>MEDROXIPROGESTERONA/ ESTRADIOL</td><td>20</td><td>187</td></tr><tr><td>CLORHIDRATO DE BENCIDAMINA</td><td>20</td><td>187</td></tr><tr><td>KETOCONAZOL-CLINDAMICINA</td><td>19</td><td>188</td></tr><tr><td>METRONIDAZOL, NISTATINA, FLUOCINOLONA</td><td>20</td><td>190</td></tr><tr><td>BIFONAZOL</td><td>20</td><td>191</td></tr><tr><td>GLUCOSAMINA, CONDROITINA,</td><td>20</td><td>191</td></tr><tr><td>ALGESTONA ESTRADIOL</td><td>20</td><td>192</td></tr><tr><td>KETOCONAZOL SHAMPOO</td><td>20</td><td>192</td></tr><tr><td>ITRACONAZOL/ SECNIDAZOL</td><td>20</td><td>192</td></tr><tr><td>CARNITINA</td><td>21</td><td>193</td></tr><tr><td>MELOXICAM METOCARBAMOL</td><td>20</td><td>193</td></tr><tr><td>COMPLEJO B/ DEXAMETASONA, LIDOCAINA</td><td>20</td><td>194</td></tr><tr><td>LIDOCAINA/HIDROCORTISONA/SUBACETATO DE</td><td>20</td><td>194</td></tr><tr><td>PARACETAMOL BUTILHIOSCINA</td><td>20</td><td>195</td></tr><tr><td>GEL ANTIBACTERIAL ZUUM</td><td>21</td><td>198</td></tr><tr><td>LORATADINA FENILEFRINA</td><td>21</td><td>200</td></tr><tr><td>JERINGAS ESTERILES DE PLAST. P/INSULINA</td><td>21</td><td>200</td></tr><tr><td>NAPROXENO, CARISOPRODOL</td><td>20</td><td>201</td></tr><tr><td>MOTOS Y CARROS ELECTRICOS</td><td>32</td><td>202</td></tr><tr><td>MOTOS Y CARROS MECANICOS</td><td>32</td><td>202</td></tr><tr><td>RELENZA</td><td>22</td><td>202</td></tr><tr><td>MUPIROCINA</td><td>21</td><td>202</td></tr><tr><td>EDUCATIVOS</td><td>32</td><td>203</td></tr><tr><td>DE DESTREZA</td><td>32</td><td>203</td></tr><tr><td>PREDXAL</td><td>22</td><td>203</td></tr><tr><td>NOVADOR</td><td>22</td><td>203</td></tr><tr><td>ZOVIRAX DISPERSABLE</td><td>22</td><td>203</td></tr><tr><td>LEVONORGESTREL / ETINILESTRADIOL</td><td>21</td><td>203</td></tr><tr><td>INSULINA</td><td>22</td><td>205</td></tr><tr><td>AZOMYR</td><td>22</td><td>205</td></tr><tr><td>CLORFENAMINA/ FENILEFRINA/ PARACETAMOL</td><td>21</td><td>205</td></tr><tr><td>LORATADINA AMBROXOL</td><td>20</td><td>205</td></tr><tr><td>PENAMOX</td><td>22</td><td>207</td></tr><tr><td>HIDROCILINA</td><td>22</td><td>207</td></tr><tr><td>OFLOXACINO</td><td>21</td><td>207</td></tr><tr><td>ESPASMO-CIBALGINA</td><td>22</td><td>208</td></tr><tr><td>VALIUM</td><td>22</td><td>208</td></tr><tr><td>IODOPOVIDINA</td><td>21</td><td>208</td></tr><tr><td>CUBRE BOCA SIMPLE DE TELA</td><td>21</td><td>208</td></tr><tr><td>SYNALAR SIMPLE</td><td>22</td><td>209</td></tr><tr><td>CLAVULIN</td><td>22</td><td>209</td></tr><tr><td>LIDOCAINA CON HIDROCORTISONA</td><td>21</td><td>209</td></tr><tr><td>PREXIGE</td><td>22</td><td>210</td></tr><tr><td>ZOVIRAX</td><td>22</td><td>210</td></tr><tr><td>CONAZOL</td><td>22</td><td>210</td></tr><tr><td>ENI</td><td>22</td><td>210</td></tr><tr><td>OXIMETAZOLINA</td><td>21</td><td>210</td></tr><tr><td>MICRORGAN</td><td>22</td><td>211</td></tr><tr><td>NEUGERON MASTICABLE</td><td>22</td><td>211</td></tr><tr><td>LONOL NEBULIZADOR</td><td>22</td><td>211</td></tr><tr><td>PROFENID 200</td><td>22</td><td>211</td></tr><tr><td>CO-APROVEL</td><td>22</td><td>211</td></tr><tr><td>KETOROLACO TROMETAMINA</td><td>21</td><td>211</td></tr><tr><td>PREMARIN</td><td>22</td><td>212</td></tr><tr><td>DALACIN V</td><td>22</td><td>212</td></tr><tr><td>BROXOL</td><td>22</td><td>212</td></tr><tr><td>IMIGRAN</td><td>22</td><td>212</td></tr><tr><td>XENICAL</td><td>22</td><td>212</td></tr><tr><td>ACIDO ALENDRONICO</td><td>21</td><td>212</td></tr><tr><td>ARTRENAC</td><td>22</td><td>213</td></tr><tr><td>ABILIFY</td><td>22</td><td>213</td></tr><tr><td>VOLTAREN RETARD</td><td>22</td><td>213</td></tr><tr><td>CECLOR</td><td>22</td><td>213</td></tr><tr><td>FIRAC</td><td>22</td><td>213</td></tr><tr><td>SURGAM 300</td><td>22</td><td>214</td></tr><tr><td>ZESTRIL</td><td>22</td><td>214</td></tr><tr><td>ILOSONE CAPSULAS</td><td>22</td><td>214</td></tr><tr><td>BECONASE. AQUA</td><td>22</td><td>214</td></tr><tr><td>MYCOSPOR</td><td>22</td><td>215</td></tr><tr><td>RISPERDAL</td><td>22</td><td>215</td></tr><tr><td>KLARICID H.P.</td><td>22</td><td>215</td></tr><tr><td>VERMOX</td><td>22</td><td>215</td></tr><tr><td>FELDENE</td><td>22</td><td>215</td></tr><tr><td>ELANTAN</td><td>22</td><td>215</td></tr><tr><td>TAMIFLU</td><td>22</td><td>215</td></tr><tr><td>BIPASMIN COMPUESTO N</td><td>22</td><td>215</td></tr><tr><td>ZENTEL</td><td>22</td><td>215</td></tr><tr><td>LANOXIN</td><td>22</td><td>215</td></tr><tr><td>MARVELON</td><td>22</td><td>216</td></tr><tr><td>CEPACOL MENTA</td><td>22</td><td>216</td></tr><tr><td>ACULAREN</td><td>22</td><td>216</td></tr><tr><td>AKINETON</td><td>22</td><td>216</td></tr><tr><td>PARIET</td><td>22</td><td>216</td></tr><tr><td>NEUGERON</td><td>22</td><td>216</td></tr><tr><td>NIFEDIPINO</td><td>21</td><td>216</td></tr><tr><td>DAONIL</td><td>22</td><td>217</td></tr><tr><td>OSSOPAN</td><td>22</td><td>217</td></tr><tr><td>PEDIALYTE</td><td>22</td><td>217</td></tr><tr><td>TESALON</td><td>22</td><td>217</td></tr><tr><td>RANISEN</td><td>22</td><td>217</td></tr><tr><td>TEGRETOL</td><td>22</td><td>217</td></tr><tr><td>NEUROBION 10,000. HYPAK</td><td>22</td><td>217</td></tr><tr><td>CATAFLAM EMULGEL</td><td>22</td><td>217</td></tr><tr><td>SEKRETOVIT EX</td><td>22</td><td>217</td></tr><tr><td>CEPOREX</td><td>22</td><td>217</td></tr><tr><td>CHAZARILLA ESCUELA OFICIAL</td><td>21</td><td>217</td></tr><tr><td>DILACORAN RETARD</td><td>22</td><td>218</td></tr><tr><td>ISOX 15d.</td><td>22</td><td>218</td></tr><tr><td>TABALON 400</td><td>22</td><td>218</td></tr><tr><td>FACICAM</td><td>22</td><td>218</td></tr><tr><td>NAXEN</td><td>22</td><td>218</td></tr><tr><td>ICADEN V OVULO</td><td>22</td><td>218</td></tr><tr><td>DICAL</td><td>22</td><td>218</td></tr><tr><td>ISORBID</td><td>22</td><td>218</td></tr><tr><td>AZANTAC</td><td>22</td><td>218</td></tr><tr><td>TRIMEBUTINA</td><td>21</td><td>218</td></tr><tr><td>COMPLEJO B/ DICLOFENACO</td><td>21</td><td>218</td></tr><tr><td>GYNOVIN</td><td>22</td><td>219</td></tr><tr><td>CAPOTENA</td><td>22</td><td>219</td></tr><tr><td>ECTAPRIM</td><td>22</td><td>219</td></tr><tr><td>SEPTRIN F</td><td>22</td><td>219</td></tr><tr><td>DIPROSPAN HYPAK</td><td>22</td><td>219</td></tr><tr><td>FLAGYL</td><td>22</td><td>219</td></tr><tr><td>DIFLUCAN</td><td>22</td><td>219</td></tr><tr><td>CEFADROXILO</td><td>21</td><td>219</td></tr><tr><td>CATAFLAM</td><td>22</td><td>220</td></tr><tr><td>PROZAC 20</td><td>22</td><td>220</td></tr><tr><td>DICETEL</td><td>22</td><td>220</td></tr><tr><td>INHIBITRON</td><td>22</td><td>220</td></tr><tr><td>MELOX PLUS CEREZA</td><td>22</td><td>220</td></tr><tr><td>LUTORAL</td><td>22</td><td>221</td></tr><tr><td>ESKAPAR</td><td>22</td><td>221</td></tr><tr><td>GARAMICINA</td><td>22</td><td>221</td></tr><tr><td>FLAGENASE 400</td><td>22</td><td>222</td></tr><tr><td>BINOTAL</td><td>22</td><td>222</td></tr><tr><td>NISTATINA</td><td>21</td><td>222</td></tr><tr><td>CHOCO KRISPIS</td><td>32</td><td>223</td></tr><tr><td>DAFLOXEN</td><td>22</td><td>223</td></tr><tr><td>BUSCAPINA</td><td>22</td><td>223</td></tr><tr><td>BISOLVON ADULTO</td><td>22</td><td>223</td></tr><tr><td>NORDET</td><td>22</td><td>224</td></tr><tr><td>SARIDON</td><td>22</td><td>224</td></tr><tr><td>ADEL</td><td>22</td><td>224</td></tr><tr><td>ACIDO NALIDIXICO FENAZOPIRIDINA</td><td>21</td><td>224</td></tr><tr><td>BISOLVON INFANTIL</td><td>22</td><td>225</td></tr><tr><td>DESENFRIOL-ITO</td><td>22</td><td>225</td></tr><tr><td>MICROGYNON</td><td>22</td><td>225</td></tr><tr><td>CALCIGENOL DOBLE</td><td>22</td><td>225</td></tr><tr><td>AEROFLUX</td><td>22</td><td>226</td></tr><tr><td>INDERALICI</td><td>22</td><td>226</td></tr><tr><td>AMOXIL</td><td>22</td><td>226</td></tr><tr><td>CLORANFENICOL</td><td>21</td><td>226</td></tr><tr><td>TETREX</td><td>22</td><td>227</td></tr><tr><td>GRANEODIN</td><td>22</td><td>227</td></tr><tr><td>ACLORAL</td><td>22</td><td>228</td></tr><tr><td>AMOXIBRON</td><td>22</td><td>228</td></tr><tr><td>BENZETACIL</td><td>22</td><td>230</td></tr><tr><td>AMBROXOL CLENBUTEROL</td><td>21</td><td>231</td></tr><tr><td>DIMETAPP (INFANTIL)</td><td>22</td><td>236</td></tr><tr><td>ALIMENTO PREPARADO P/NINOS</td><td>32</td><td>238</td></tr><tr><td>GALICIA</td><td>2</td><td>241</td></tr><tr><td>CAMISA ESCUELA OFICIAL</td><td>32</td><td>247</td></tr><tr><td>BLUSA ESCUELA OFICIAL</td><td>32</td><td>248</td></tr><tr><td>FALDA ESCUELA OFICIAL</td><td>32</td><td>248</td></tr><tr><td>PANTALON CORTO SHORTS ESCUELA</td><td>31</td><td>248</td></tr><tr><td>QUADRAX</td><td>22</td><td>248</td></tr><tr><td>SUETER ESCUELA OFICIAL</td><td>32</td><td>249</td></tr><tr><td>BATA ESCUELA OFICIAL</td><td>32</td><td>250</td></tr><tr><td>ALCOHOL DESNATURALIZADO 70 G.L.</td><td>22</td><td>250</td></tr><tr><td>TENIS</td><td>31</td><td>251</td></tr><tr><td>PANTALON ESCUELA OFICIAL</td><td>32</td><td>255</td></tr><tr><td>SERC 16</td><td>21</td><td>258</td></tr><tr><td>VIRAZIDE</td><td>22</td><td>264</td></tr><tr><td>CLARITYNE</td><td>22</td><td>268</td></tr><tr><td>SECOTEX</td><td>21</td><td>269</td></tr><tr><td>VITACILINA</td><td>21</td><td>271</td></tr><tr><td>SALOFALK</td><td>21</td><td>272</td></tr><tr><td>VONTROL</td><td>21</td><td>272</td></tr><tr><td>PENPROCILINA</td><td>21</td><td>272</td></tr><tr><td>TOBRADEX</td><td>21</td><td>273</td></tr><tr><td>SUFREXAL</td><td>21</td><td>273</td></tr><tr><td>LAMICTAL. DISPERSABLE</td><td>21</td><td>273</td></tr><tr><td>ZYPREXA</td><td>21</td><td>273</td></tr><tr><td>ZYLOPRIM</td><td>21</td><td>273</td></tr><tr><td>HOJAS DE PAPEL</td><td>22</td><td>274</td></tr><tr><td>SOLDRIN OTICO</td><td>21</td><td>274</td></tr><tr><td>SPORASEC</td><td>21</td><td>274</td></tr><tr><td>STADIUM</td><td>21</td><td>274</td></tr><tr><td>\"PREMARIN. CREMA \"\"\"\"V\"\"\"\"\"</td><td>21</td><td>274</td></tr><tr><td>PROSCAR</td><td>21</td><td>274</td></tr><tr><td>PROGYLUTON</td><td>21</td><td>275</td></tr><tr><td>NEO-MELUBRINA. INFANTIL</td><td>21</td><td>275</td></tr><tr><td>TABCIN ACTIVE</td><td>21</td><td>275</td></tr><tr><td>PIRIFUR</td><td>21</td><td>277</td></tr><tr><td>PERLUTAL</td><td>21</td><td>277</td></tr><tr><td>MUCOFLUX</td><td>21</td><td>278</td></tr><tr><td>MESULID</td><td>21</td><td>279</td></tr><tr><td>HISTIACIL FLU</td><td>22</td><td>280</td></tr><tr><td>LASILACTON</td><td>21</td><td>280</td></tr><tr><td>XL3</td><td>22</td><td>281</td></tr><tr><td>SERVICEF</td><td>22</td><td>281</td></tr><tr><td>SENSIBIT</td><td>22</td><td>281</td></tr><tr><td>HYZAAR</td><td>21</td><td>281</td></tr><tr><td>FOSAMAX</td><td>21</td><td>282</td></tr><tr><td>KLARICID</td><td>22</td><td>283</td></tr><tr><td>GLIMETAL</td><td>21</td><td>283</td></tr><tr><td>KLARICYD 12 H</td><td>21</td><td>283</td></tr><tr><td>VILONA</td><td>22</td><td>284</td></tr><tr><td>COZAAR</td><td>21</td><td>284</td></tr><tr><td>DOLO-NEUROBION RETARD</td><td>21</td><td>284</td></tr><tr><td>DAFLOXEN F.</td><td>21</td><td>284</td></tr><tr><td>CIPRO XR</td><td>21</td><td>285</td></tr><tr><td>CALTUSINE</td><td>21</td><td>285</td></tr><tr><td>GYNOCLIN V</td><td>21</td><td>285</td></tr><tr><td>GAMMADOL</td><td>21</td><td>285</td></tr><tr><td>XL-DOL</td><td>22</td><td>286</td></tr><tr><td>ISCOVER</td><td>21</td><td>286</td></tr><tr><td>FERRANINA-COMPLEX</td><td>21</td><td>286</td></tr><tr><td>DENVAR</td><td>21</td><td>286</td></tr><tr><td>DESENFRIOL-ITO PLUS</td><td>21</td><td>286</td></tr><tr><td>GOLD</td><td>22</td><td>287</td></tr><tr><td>CEREAL MIXTO</td><td>21</td><td>287</td></tr><tr><td>BONADOXINA</td><td>21</td><td>287</td></tr><tr><td>DACTIL OB</td><td>21</td><td>287</td></tr><tr><td>DOLOCAM-PLUS</td><td>21</td><td>287</td></tr><tr><td>ELECTROLIT. SUERO REHIDRATANTE</td><td>21</td><td>287</td></tr><tr><td>CHILES LARGOS O GUEROS CARRICILLOS</td><td>20</td><td>287</td></tr><tr><td>ADEROGYL C</td><td>22</td><td>288</td></tr><tr><td>AUTRIN 600</td><td>21</td><td>288</td></tr><tr><td>BACTROBAN</td><td>21</td><td>288</td></tr><tr><td>EPAMIN</td><td>21</td><td>288</td></tr><tr><td>FISOPRED</td><td>21</td><td>288</td></tr><tr><td>CYCLOFEMINA</td><td>21</td><td>289</td></tr><tr><td>BI-EUGLUCON. M</td><td>21</td><td>289</td></tr><tr><td>LERTAMINE</td><td>22</td><td>290</td></tr><tr><td>CALCORT</td><td>21</td><td>290</td></tr><tr><td>CEDAX</td><td>21</td><td>290</td></tr><tr><td>ANTIFLU-DES. PEDIATRICO</td><td>21</td><td>290</td></tr><tr><td>AFRINEX ACTIVE</td><td>22</td><td>291</td></tr><tr><td>ALIN</td><td>21</td><td>291</td></tr><tr><td>AMARYL</td><td>21</td><td>292</td></tr><tr><td>ACTRON</td><td>21</td><td>293</td></tr><tr><td>AZITROCIN</td><td>22</td><td>295</td></tr><tr><td>BACTRIM</td><td>22</td><td>295</td></tr><tr><td>TABCIN 500</td><td>22</td><td>296</td></tr><tr><td>CLORO-TRIMETON</td><td>22</td><td>296</td></tr><tr><td>COLACION</td><td>27</td><td>297</td></tr><tr><td>THERAFLU EXTE</td><td>22</td><td>298</td></tr><tr><td>KEFLEX TABLETAS</td><td>22</td><td>298</td></tr><tr><td>BRAN FLAKES</td><td>22</td><td>298</td></tr><tr><td>VIGAMOXI</td><td>22</td><td>298</td></tr><tr><td>ADVIL</td><td>22</td><td>299</td></tr><tr><td>CEVALIN</td><td>22</td><td>300</td></tr><tr><td>D HECTOR</td><td>2</td><td>313</td></tr><tr><td>VILLAJAIBA</td><td>24</td><td>316</td></tr><tr><td>CUADERNO FORMA COLLEGE</td><td>22</td><td>317</td></tr><tr><td>FOCO</td><td>22</td><td>321</td></tr><tr><td>CINTILLA</td><td>25</td><td>326</td></tr><tr><td>CUADERNO FORMA FRANCESA</td><td>22</td><td>346</td></tr><tr><td>CUADERNO FORMA ITALIANA</td><td>22</td><td>348</td></tr><tr><td>BENZATINA BENCILPENICILINA</td><td>22</td><td>358</td></tr><tr><td>PETO</td><td>21</td><td>384</td></tr><tr><td>S/M</td><td>2</td><td>397</td></tr><tr><td>FRUTAS CUBIERTAS</td><td>27</td><td>413</td></tr><tr><td>NESQUIK</td><td>32</td><td>439</td></tr><tr><td>PLIEGOS DE PAPEL</td><td>32</td><td>468</td></tr><tr><td>CHILCHOTA</td><td>3</td><td>470</td></tr><tr><td>GURRUBATA</td><td>26</td><td>474</td></tr><tr><td>VENTOLIN</td><td>22</td><td>486</td></tr><tr><td>PEDIALYTE. ELECTROLITOS ORALES</td><td>22</td><td>489</td></tr><tr><td>AVIANT</td><td>22</td><td>493</td></tr><tr><td>PAVO</td><td>30</td><td>515</td></tr><tr><td>SPECIAL K</td><td>22</td><td>519</td></tr><tr><td>BACALAO</td><td>30</td><td>526</td></tr><tr><td>COLORES DE MADERA</td><td>32</td><td>528</td></tr><tr><td>CUADERNO PROFESIONAL</td><td>32</td><td>543</td></tr><tr><td>DVD / BLU-RAY</td><td>32</td><td>557</td></tr><tr><td>QUESOS TIPO AMERICANO</td><td>31</td><td>565</td></tr><tr><td>JARABE PARA PREPARAR BEBIDAS</td><td>1</td><td>589</td></tr><tr><td>BESUGO</td><td>28</td><td>612</td></tr><tr><td>DATIL</td><td>31</td><td>615</td></tr><tr><td>SHAMPOO PARA BEBES Y NIÑOS</td><td>22</td><td>626</td></tr><tr><td>CHUCUMITE</td><td>29</td><td>627</td></tr><tr><td>ENSERES DOMESTICOS</td><td>32</td><td>644</td></tr><tr><td>CARTULINA</td><td>30</td><td>670</td></tr><tr><td>LANGOSTA</td><td>31</td><td>677</td></tr><tr><td>CUADERNO FORMA FRANCESA ENGRAPADO</td><td>31</td><td>718</td></tr><tr><td>CARNE MOLIDA DE RES</td><td>22</td><td>720</td></tr><tr><td>TELEVISORES</td><td>22</td><td>723</td></tr><tr><td>PAMPANO</td><td>30</td><td>740</td></tr><tr><td>CUADERNO FORMA ITALIANA PASTA DURA</td><td>29</td><td>769</td></tr><tr><td>LANGOSTINO</td><td>29</td><td>769</td></tr><tr><td>CHILES LARGOS EN ESCABECHE</td><td>26</td><td>798</td></tr><tr><td>GALLETAS SALADAS</td><td>22</td><td>811</td></tr><tr><td>COLOR CORTO</td><td>31</td><td>814</td></tr><tr><td>CORN FLAKES</td><td>22</td><td>819</td></tr><tr><td>CUADERNO FORMA FRANCESA PASTA DURA</td><td>32</td><td>843</td></tr><tr><td>BLANCO NILO</td><td>32</td><td>883</td></tr><tr><td>MERLUZA</td><td>32</td><td>937</td></tr><tr><td>CLAVO</td><td>5</td><td>938</td></tr><tr><td>DETERGENTE PARA ROPA Y TRASTES</td><td>1</td><td>941</td></tr><tr><td>MERO</td><td>32</td><td>955</td></tr><tr><td>JUGUETES MONTABLES ELECTRICOS</td><td>32</td><td>957</td></tr><tr><td>CHARAL</td><td>30</td><td>979</td></tr><tr><td>CAMARON MOLIDO</td><td>26</td><td>991</td></tr><tr><td>CAMARON SECO</td><td>28</td><td>994</td></tr><tr><td>PILONCILLO</td><td>5</td><td>1007</td></tr><tr><td>CARNE MOLIDA DE CERDO</td><td>32</td><td>1010</td></tr><tr><td>CHILE</td><td>32</td><td>1011</td></tr><tr><td>PECHUGA DE POLLO</td><td>32</td><td>1013</td></tr><tr><td>JABON LIMPIADOR</td><td>32</td><td>1014</td></tr><tr><td>CUADERNO FORMA FRANCESA. COSIDO</td><td>32</td><td>1018</td></tr><tr><td>ALL-BRAN</td><td>32</td><td>1022</td></tr><tr><td>CUADERNO FORMA ITALIANA ENGRAPADO</td><td>32</td><td>1059</td></tr><tr><td>CUADERNO FORMA ITALIANA C/ESP.</td><td>32</td><td>1077</td></tr><tr><td>TRUCHA</td><td>31</td><td>1080</td></tr><tr><td>SABRITONES</td><td>32</td><td>1091</td></tr><tr><td>POLVO PARA BEBIDAS SABOR CHOCOLATE</td><td>32</td><td>1116</td></tr><tr><td>MANTARRAYA</td><td>31</td><td>1120</td></tr><tr><td>ZUCARITAS</td><td>32</td><td>1127</td></tr><tr><td>CARPA</td><td>32</td><td>1146</td></tr><tr><td>GALLETAS DULCES</td><td>32</td><td>1153</td></tr><tr><td>QUESO MANCHEGO</td><td>3</td><td>1154</td></tr><tr><td>CURVINA</td><td>32</td><td>1157</td></tr><tr><td>RUBIA</td><td>32</td><td>1164</td></tr><tr><td>QUESO SIERRA</td><td>3</td><td>1169</td></tr><tr><td>PASAS</td><td>3</td><td>1176</td></tr><tr><td>BETAMETASONA</td><td>32</td><td>1192</td></tr><tr><td>CALLO DE HACHA</td><td>32</td><td>1219</td></tr><tr><td>BISTEC DE ESPALDILLA DE RES</td><td>32</td><td>1266</td></tr><tr><td>MORTADELA</td><td>2</td><td>1286</td></tr><tr><td>HIGADO DE RES</td><td>32</td><td>1304</td></tr><tr><td>CHULETA DE RES/CHULETA COSTILLA/CHULETON</td><td>33</td><td>1306</td></tr><tr><td>LOBINA</td><td>32</td><td>1322</td></tr><tr><td>CABEZA DE CERDO</td><td>33</td><td>1323</td></tr><tr><td>PANZA DE RES</td><td>33</td><td>1330</td></tr><tr><td>GALLETAS POPULARES</td><td>33</td><td>1331</td></tr><tr><td>MILANESA DE CERDO</td><td>33</td><td>1331</td></tr><tr><td>OREJON</td><td>31</td><td>1331</td></tr><tr><td>PATA DE CERDO</td><td>33</td><td>1343</td></tr><tr><td>CHILES</td><td>3</td><td>1382</td></tr><tr><td>DISCO COMPACTO</td><td>33</td><td>1391</td></tr><tr><td>LENGUADO</td><td>32</td><td>1447</td></tr><tr><td>QUESO DE PUERCO</td><td>4</td><td>1455</td></tr><tr><td>PARGO</td><td>32</td><td>1459</td></tr><tr><td>DESENGRAPADORA</td><td>33</td><td>1477</td></tr><tr><td>PECHUGA DE PAVO</td><td>2</td><td>1480</td></tr><tr><td>SUBSALICILATO DE BISMUTO</td><td>32</td><td>1489</td></tr><tr><td>FRESA</td><td>31</td><td>1506</td></tr><tr><td>BLOCK</td><td>32</td><td>1552</td></tr><tr><td>BANDERA</td><td>32</td><td>1596</td></tr><tr><td>JAIBON</td><td>32</td><td>1608</td></tr><tr><td>PLUMINES</td><td>32</td><td>1659</td></tr><tr><td>GRAPAS</td><td>32</td><td>1670</td></tr><tr><td>JUREL</td><td>32</td><td>1685</td></tr><tr><td>CUADERNO FORMA COLLEGE. COSIDO</td><td>32</td><td>1702</td></tr><tr><td>QUESO OAXACA</td><td>11</td><td>1702</td></tr><tr><td>BICOLOR</td><td>33</td><td>1734</td></tr><tr><td>SALCHICHA</td><td>3</td><td>1735</td></tr><tr><td>BAGRE</td><td>32</td><td>1779</td></tr><tr><td>LISINOPRIL</td><td>32</td><td>1817</td></tr><tr><td>GUANABANA</td><td>30</td><td>1826</td></tr><tr><td>LOSARTAN HIDROCLOROTIAZIDA</td><td>32</td><td>1840</td></tr><tr><td>JUGUETES MONTABLES</td><td>33</td><td>1866</td></tr><tr><td>CACAHUATES</td><td>29</td><td>1885</td></tr><tr><td>ROBALO</td><td>32</td><td>1917</td></tr><tr><td>JEREZ</td><td>32</td><td>1940</td></tr><tr><td>DIMENHIDRINATO</td><td>33</td><td>1988</td></tr><tr><td>VERDOLAGA</td><td>32</td><td>2075</td></tr><tr><td>PLASTILINA</td><td>33</td><td>2089</td></tr><tr><td>ALMEJA</td><td>32</td><td>2107</td></tr><tr><td>CUADERNO FORMA ITALIANA COSIDO</td><td>33</td><td>2168</td></tr><tr><td>ELECTROLITOS ORALES</td><td>32</td><td>2203</td></tr><tr><td>CUADERNO PROFESIONAL COSIDO</td><td>32</td><td>2222</td></tr><tr><td>JAIBA</td><td>32</td><td>2254</td></tr><tr><td>LISA</td><td>32</td><td>2270</td></tr><tr><td>TEJOCOTE</td><td>33</td><td>2282</td></tr><tr><td>PLANTAGO PSYLLIUM</td><td>33</td><td>2301</td></tr><tr><td>CAÑA</td><td>33</td><td>2326</td></tr><tr><td>ALCACHOFA</td><td>32</td><td>2335</td></tr><tr><td>REGLAS</td><td>33</td><td>2338</td></tr><tr><td>COMPAS</td><td>32</td><td>2347</td></tr><tr><td>AJONJOLI</td><td>25</td><td>2352</td></tr><tr><td>MARCADORES</td><td>32</td><td>2389</td></tr><tr><td>SALSA MEXICANA</td><td>32</td><td>2445</td></tr><tr><td>DICLOFENACO. VITAMINAS B1, B6 Y B13</td><td>33</td><td>2479</td></tr><tr><td>ACEITUNA. GORDAL</td><td>32</td><td>2507</td></tr><tr><td>MUNECAS</td><td>32</td><td>2518</td></tr><tr><td>OLANZAPINA</td><td>32</td><td>2549</td></tr><tr><td>SIMVASTATINA</td><td>32</td><td>2552</td></tr><tr><td>DICCIONARIO</td><td>33</td><td>2576</td></tr><tr><td>CEFACLOR</td><td>32</td><td>2582</td></tr><tr><td>NESTLE</td><td>32</td><td>2590</td></tr><tr><td>NITROFURANTOINA</td><td>33</td><td>2629</td></tr><tr><td>ESPIRONOLACTONA</td><td>33</td><td>2647</td></tr><tr><td>PIMIENTA</td><td>31</td><td>2663</td></tr><tr><td>CHALET</td><td>31</td><td>2716</td></tr><tr><td>ROMERITOS</td><td>32</td><td>2729</td></tr><tr><td>BUTILHIOSCINA/ METAMIZOL SODICO</td><td>32</td><td>2763</td></tr><tr><td>AMANTADINA CLORFENAMINA PARACETAMOL</td><td>33</td><td>2766</td></tr><tr><td>TRIMETOPRIMA SULFAMETOXAZOL</td><td>33</td><td>2770</td></tr><tr><td>LIMA</td><td>32</td><td>2772</td></tr><tr><td>CALCITRIOL</td><td>33</td><td>2805</td></tr><tr><td>DESLORATADINA</td><td>33</td><td>2809</td></tr><tr><td>JAMON</td><td>17</td><td>2853</td></tr><tr><td>CUADERNO FORMA FRANCESA C/ESP.</td><td>33</td><td>2854</td></tr><tr><td>TOPIRAMATO</td><td>32</td><td>2864</td></tr><tr><td>CAZON</td><td>33</td><td>2874</td></tr><tr><td>PAPEL BOND TAMANO CARTA</td><td>33</td><td>2903</td></tr><tr><td>SENOSIDOS A-B</td><td>33</td><td>2915</td></tr><tr><td>CIRUELA</td><td>33</td><td>2952</td></tr><tr><td>HIDROXOCOBALAMINA TIAMINA PIRIDOXINA</td><td>33</td><td>2979</td></tr><tr><td>DEXAMETASONA</td><td>33</td><td>3005</td></tr><tr><td>SIERRA</td><td>32</td><td>3055</td></tr><tr><td>CEFOTAXIMA</td><td>33</td><td>3092</td></tr><tr><td>MISOPROSTOL</td><td>33</td><td>3134</td></tr><tr><td>KEFLEX PEDIÁTRICO</td><td>32</td><td>3162</td></tr><tr><td>FOLDERS</td><td>32</td><td>3164</td></tr><tr><td>LAMOTRIGINA</td><td>33</td><td>3167</td></tr><tr><td>TUNA</td><td>33</td><td>3185</td></tr><tr><td>MELOXICAM</td><td>33</td><td>3202</td></tr><tr><td>HUACHINANGO</td><td>32</td><td>3219</td></tr><tr><td>ATORVASTATINA</td><td>33</td><td>3250</td></tr><tr><td>AMBROXOL SALBUTAMOL</td><td>33</td><td>3291</td></tr><tr><td>LINCOMICINA</td><td>33</td><td>3327</td></tr><tr><td>JUEGO DE GEOMETRIA</td><td>33</td><td>3328</td></tr><tr><td>DEXTROMETORFANO GUAIFENESINA</td><td>33</td><td>3357</td></tr><tr><td>GRANADA</td><td>32</td><td>3446</td></tr><tr><td>DEXABION</td><td>32</td><td>3467</td></tr><tr><td>NAPROXENO SODICO, PARACETAMOL</td><td>32</td><td>3483</td></tr><tr><td>CALCULADORAS</td><td>33</td><td>3490</td></tr><tr><td>PARACETAMOL/CAFEINA</td><td>33</td><td>3495</td></tr><tr><td>BROMURO DE PINAVERIO</td><td>33</td><td>3498</td></tr><tr><td>TOSTADAS DE MAIZ</td><td>33</td><td>3527</td></tr><tr><td>FINASTERIDA</td><td>33</td><td>3627</td></tr><tr><td>LORATADINA BETAMETASONA</td><td>33</td><td>3680</td></tr><tr><td>ACIDO FOLICO</td><td>33</td><td>3700</td></tr><tr><td>NOCHEBUENA</td><td>31</td><td>3727</td></tr><tr><td>VENLAFAXINA</td><td>33</td><td>3735</td></tr><tr><td>DIFENIDOL</td><td>33</td><td>3747</td></tr><tr><td>CEFUROXIMA</td><td>33</td><td>3749</td></tr><tr><td>PULPO</td><td>32</td><td>3775</td></tr><tr><td>PEDYALITE. SR-45. ELECTROLITOS ORALES</td><td>32</td><td>3841</td></tr><tr><td>ATIVAN</td><td>32</td><td>3866</td></tr><tr><td>ACEITUNA. RELLENA CON PIMIENTO</td><td>32</td><td>3890</td></tr><tr><td>PAPEL LUSTRE</td><td>33</td><td>3914</td></tr><tr><td>FUROSEMIDA</td><td>33</td><td>3915</td></tr><tr><td>MONTELUKAST</td><td>33</td><td>3960</td></tr><tr><td>QUESO. COTIJA</td><td>32</td><td>3981</td></tr><tr><td>PAPEL CHINA</td><td>33</td><td>4004</td></tr><tr><td>DAFLON</td><td>33</td><td>4024</td></tr><tr><td>SALMON</td><td>32</td><td>4030</td></tr><tr><td>METFORMINA-GLIBENCLAMIDA</td><td>33</td><td>4055</td></tr><tr><td>LEVONORGESTREL</td><td>33</td><td>4081</td></tr><tr><td>CINTA ADHESIVA</td><td>33</td><td>4086</td></tr><tr><td>LACTACYD</td><td>33</td><td>4139</td></tr><tr><td>ACEITUNA. MANZANILLA</td><td>32</td><td>4148</td></tr><tr><td>DICLOFENACO. VITAMINAS B1, B6 Y B12</td><td>33</td><td>4152</td></tr><tr><td>HABA</td><td>32</td><td>4157</td></tr><tr><td>ACARBOSA</td><td>33</td><td>4208</td></tr><tr><td>CINARIZINA</td><td>33</td><td>4239</td></tr><tr><td>METAMIZOL SODICO</td><td>33</td><td>4249</td></tr><tr><td>MAMEY</td><td>32</td><td>4284</td></tr><tr><td>BUTILHIOSCINA</td><td>33</td><td>4296</td></tr><tr><td>NAPROXENO</td><td>33</td><td>4305</td></tr><tr><td>FLUOXETINA</td><td>33</td><td>4308</td></tr><tr><td>BETAMETASONA/ CLOTRIMAZOL/ GENTAMICINA</td><td>33</td><td>4337</td></tr><tr><td>CLINDAMICINA</td><td>33</td><td>4367</td></tr><tr><td>NITAZOXANIDA</td><td>33</td><td>4395</td></tr><tr><td>CARNE TERNERA</td><td>32</td><td>4400</td></tr><tr><td>BENZONATATO</td><td>33</td><td>4431</td></tr><tr><td>ENALAPRIL</td><td>33</td><td>4475</td></tr><tr><td>DICLOXACILINA</td><td>33</td><td>4488</td></tr><tr><td>ASENLIX</td><td>33</td><td>4489</td></tr><tr><td>PORTAMINAS</td><td>33</td><td>4528</td></tr><tr><td>FLUCONAZOL</td><td>33</td><td>4529</td></tr><tr><td>GABAPENTINA</td><td>33</td><td>4542</td></tr><tr><td>BEZAFIBRATO</td><td>33</td><td>4547</td></tr><tr><td>PRAVASTATINA</td><td>33</td><td>4549</td></tr><tr><td>PARMA. SABORI</td><td>32</td><td>4572</td></tr><tr><td>SERTRALINA</td><td>33</td><td>4575</td></tr><tr><td>CLARITROMICINA</td><td>33</td><td>4638</td></tr><tr><td>TIJERAS</td><td>32</td><td>4674</td></tr><tr><td>CETIRIZINA</td><td>33</td><td>4708</td></tr><tr><td>SILDENAFIL</td><td>33</td><td>4747</td></tr><tr><td>PAROXETINA</td><td>33</td><td>4755</td></tr><tr><td>TEMPRA</td><td>32</td><td>4757</td></tr><tr><td>TRAMADOL</td><td>33</td><td>4759</td></tr><tr><td>CLORFENAMINA COMPUESTA</td><td>33</td><td>4820</td></tr><tr><td>RABANO</td><td>32</td><td>4832</td></tr><tr><td>CEFTRIAXONA</td><td>33</td><td>4858</td></tr><tr><td>GLYVENOL</td><td>33</td><td>4880</td></tr><tr><td>CYTOTEC</td><td>33</td><td>4970</td></tr><tr><td>PASA (UVA PASA)</td><td>32</td><td>5002</td></tr><tr><td>ROMPOPE</td><td>32</td><td>5029</td></tr><tr><td>CIRUELA PASA</td><td>32</td><td>5034</td></tr><tr><td>KEPPRA</td><td>33</td><td>5053</td></tr><tr><td>GAVINDO</td><td>33</td><td>5063</td></tr><tr><td>AMBROXOL</td><td>33</td><td>5079</td></tr><tr><td>LEVOFLOXACINO</td><td>33</td><td>5097</td></tr><tr><td>CEFALEXINA</td><td>33</td><td>5108</td></tr><tr><td>GENTAMICINA</td><td>33</td><td>5140</td></tr><tr><td>GLANIQUE</td><td>33</td><td>5141</td></tr><tr><td>PEGAMENTO</td><td>33</td><td>5152</td></tr><tr><td>HALCION</td><td>33</td><td>5182</td></tr><tr><td>CIPROFLOXACINO</td><td>33</td><td>5184</td></tr><tr><td>METFORMINA</td><td>33</td><td>5211</td></tr><tr><td>BIOMETRIX</td><td>33</td><td>5226</td></tr><tr><td>AZITROMICINA</td><td>33</td><td>5255</td></tr><tr><td>MICONAZOL</td><td>33</td><td>5270</td></tr><tr><td>COMPETACT</td><td>33</td><td>5304</td></tr><tr><td>PANTOPRAZOL</td><td>33</td><td>5311</td></tr><tr><td>ALKA-SELTZER</td><td>32</td><td>5317</td></tr><tr><td>METOPROLOL</td><td>33</td><td>5349</td></tr><tr><td>ITRACONAZOL</td><td>33</td><td>5353</td></tr><tr><td>GALVUS MET</td><td>33</td><td>5365</td></tr><tr><td>CARBAMAZEPINA</td><td>33</td><td>5376</td></tr><tr><td>EXFORGE HCT</td><td>33</td><td>5379</td></tr><tr><td>CHICHAROS</td><td>32</td><td>5418</td></tr><tr><td>TAMSULOSINA</td><td>33</td><td>5436</td></tr><tr><td>AJO</td><td>32</td><td>5448</td></tr><tr><td>AVODART</td><td>33</td><td>5450</td></tr><tr><td>ARAVA</td><td>33</td><td>5464</td></tr><tr><td>TACEX IM</td><td>33</td><td>5476</td></tr><tr><td>NUEZ</td><td>32</td><td>5476</td></tr><tr><td>HUMALOG MIX 25</td><td>33</td><td>5487</td></tr><tr><td>DICLOFENACO</td><td>33</td><td>5496</td></tr><tr><td>SALBUTAMOL</td><td>33</td><td>5509</td></tr><tr><td>APROVEL</td><td>33</td><td>5535</td></tr><tr><td>HER-KLIN NF. SHAMPOO</td><td>33</td><td>5537</td></tr><tr><td>SIDRA</td><td>32</td><td>5559</td></tr><tr><td>BLOPRESS PLUS</td><td>33</td><td>5563</td></tr><tr><td>LORATADINA</td><td>33</td><td>5569</td></tr><tr><td>ORLISTAT</td><td>33</td><td>5574</td></tr><tr><td>CLEXANE</td><td>33</td><td>5577</td></tr><tr><td>CO-DIOVAN</td><td>33</td><td>5598</td></tr><tr><td>MOTOS Y CARROS MECÁNICOS</td><td>33</td><td>5599</td></tr><tr><td>ENALADIL</td><td>33</td><td>5607</td></tr><tr><td>AMARYL M</td><td>33</td><td>5624</td></tr><tr><td>HUMULIN  N. INSULINA HUMANA</td><td>33</td><td>5630</td></tr><tr><td>EVISTA</td><td>33</td><td>5632</td></tr><tr><td>REDUSTAT</td><td>33</td><td>5634</td></tr><tr><td>CAPTOPRIL</td><td>33</td><td>5635</td></tr><tr><td>JANUVIA</td><td>33</td><td>5647</td></tr><tr><td>BIOMICS</td><td>33</td><td>5650</td></tr><tr><td>DIMOFLAX</td><td>33</td><td>5670</td></tr><tr><td>DURAZNO</td><td>33</td><td>5683</td></tr><tr><td>AMBROXOL DEXTROMETORFANO</td><td>33</td><td>5694</td></tr><tr><td>KRYTAN TEK OFTENO</td><td>33</td><td>5715</td></tr><tr><td>GOMA BORRADOR</td><td>32</td><td>5730</td></tr><tr><td>EFEXOR XR</td><td>33</td><td>5765</td></tr><tr><td>DIOVAN</td><td>33</td><td>5765</td></tr><tr><td>CHOLAL MODIFICADO</td><td>33</td><td>5785</td></tr><tr><td>BONVIVA</td><td>33</td><td>5791</td></tr><tr><td>HUMYLUB OFTENO</td><td>33</td><td>5804</td></tr><tr><td>AMPLIRON DUO</td><td>33</td><td>5805</td></tr><tr><td>DEXIVANT</td><td>33</td><td>5819</td></tr><tr><td>ADIMOD</td><td>33</td><td>5819</td></tr><tr><td>EXFORGE</td><td>33</td><td>5820</td></tr><tr><td>PRISTIQ</td><td>33</td><td>5823</td></tr><tr><td>ALCAPARRA</td><td>33</td><td>5834</td></tr><tr><td>CLORAMFENI OFTENO</td><td>33</td><td>5834</td></tr><tr><td>DAGLA</td><td>33</td><td>5837</td></tr><tr><td>BEXIDENT ENCIAS</td><td>33</td><td>5839</td></tr><tr><td>NOCHE BUENA CHALET</td><td>32</td><td>5869</td></tr><tr><td>VAINILLA</td><td>32</td><td>5897</td></tr><tr><td>ALOPURINOL</td><td>33</td><td>5902</td></tr><tr><td>REDOTEX</td><td>33</td><td>5908</td></tr><tr><td>NIMESULIDA</td><td>33</td><td>5910</td></tr><tr><td>BENCILPENICILINA PROCAINICA</td><td>33</td><td>5911</td></tr><tr><td>SISTEMA GB. Solución Alopecia</td><td>33</td><td>5934</td></tr><tr><td>KANK-A</td><td>33</td><td>5935</td></tr><tr><td>ALTRULINE</td><td>33</td><td>5958</td></tr><tr><td>TAFIL</td><td>33</td><td>5968</td></tr><tr><td>SOMAZINA</td><td>33</td><td>5975</td></tr><tr><td>PAXIL</td><td>33</td><td>5976</td></tr><tr><td>JAMAICA</td><td>32</td><td>5979</td></tr><tr><td>CEFAXONA I.M.</td><td>33</td><td>5988</td></tr><tr><td>DORIXINA RELAX</td><td>33</td><td>6005</td></tr><tr><td>ELATEC</td><td>33</td><td>6006</td></tr><tr><td>ISODINE BUCOFARINGEO</td><td>33</td><td>6007</td></tr><tr><td>LANTUS. INSULINA GLARGINA</td><td>33</td><td>6029</td></tr><tr><td>BREDELIN</td><td>33</td><td>6034</td></tr><tr><td>ADALAT OROS</td><td>33</td><td>6035</td></tr><tr><td>ZACTOS</td><td>33</td><td>6041</td></tr><tr><td>CONTROLIP</td><td>33</td><td>6052</td></tr><tr><td>ACLIMAFEL</td><td>33</td><td>6064</td></tr><tr><td>SECOTEX OCAS</td><td>33</td><td>6065</td></tr><tr><td>RIVOTRIL. GOTAS</td><td>33</td><td>6065</td></tr><tr><td>ANGELIQ A</td><td>33</td><td>6069</td></tr><tr><td>DORIXINA FORTE</td><td>33</td><td>6085</td></tr><tr><td>XATRAL-OD</td><td>33</td><td>6090</td></tr><tr><td>DIABION</td><td>33</td><td>6090</td></tr><tr><td>AUGMENTIN 12 H.</td><td>33</td><td>6093</td></tr><tr><td>TRAYENTA</td><td>33</td><td>6096</td></tr><tr><td>RANITIDINA</td><td>33</td><td>6098</td></tr><tr><td>UNICLAR</td><td>33</td><td>6125</td></tr><tr><td>NEXIUM</td><td>33</td><td>6144</td></tr><tr><td>COMBIVENT. RESPIMAT</td><td>33</td><td>6145</td></tr><tr><td>CEFURACET</td><td>33</td><td>6148</td></tr><tr><td>DIMEGAN-D</td><td>33</td><td>6150</td></tr><tr><td>PARMA CAMPESTRE</td><td>33</td><td>6151</td></tr><tr><td>FABROVEN</td><td>33</td><td>6161</td></tr><tr><td>AMOXICLAV. BID</td><td>33</td><td>6172</td></tr><tr><td>PIASCLEDINE 300</td><td>33</td><td>6189</td></tr><tr><td>ZINTREPID</td><td>33</td><td>6191</td></tr><tr><td>GLIMEPIRIDA</td><td>32</td><td>6195</td></tr><tr><td>ESPAVEN PEDIATRICO</td><td>33</td><td>6208</td></tr><tr><td>CALAMAR</td><td>33</td><td>6222</td></tr><tr><td>GENOPRAZOL</td><td>33</td><td>6226</td></tr><tr><td>SIRDALUD</td><td>33</td><td>6228</td></tr><tr><td>REFRESH TEARS</td><td>33</td><td>6228</td></tr><tr><td>AVAMYS 2A</td><td>33</td><td>6242</td></tr><tr><td>TRAVATAN</td><td>33</td><td>6243</td></tr><tr><td>SERETIDE DISKUS</td><td>33</td><td>6244</td></tr><tr><td>CLENDIX</td><td>33</td><td>6248</td></tr><tr><td>SUEROX</td><td>33</td><td>6259</td></tr><tr><td>CAFIASPIRINA</td><td>33</td><td>6260</td></tr><tr><td>PATANOL</td><td>33</td><td>6261</td></tr><tr><td>VASCULFLOW</td><td>33</td><td>6263</td></tr><tr><td>UNIVAL</td><td>33</td><td>6265</td></tr><tr><td>VARTALON COMPOSITUM</td><td>33</td><td>6269</td></tr><tr><td>DAXON</td><td>33</td><td>6285</td></tr><tr><td>POSTDAY</td><td>33</td><td>6287</td></tr><tr><td>ULSEN PCS</td><td>33</td><td>6288</td></tr><tr><td>CEFTREX IM</td><td>33</td><td>6289</td></tr><tr><td>SERMION</td><td>33</td><td>6303</td></tr><tr><td>AFUMIX</td><td>33</td><td>6306</td></tr><tr><td>NÚCLEO C.M.P. FORTE</td><td>33</td><td>6306</td></tr><tr><td>VARITON</td><td>33</td><td>6310</td></tr><tr><td>EUTIROX 100</td><td>33</td><td>6311</td></tr><tr><td>BEDOYECTA</td><td>33</td><td>6317</td></tr><tr><td>MOJARRA</td><td>33</td><td>6328</td></tr><tr><td>PLAQUENIL</td><td>33</td><td>6336</td></tr><tr><td>PREVEFEM COMPLEX</td><td>33</td><td>6338</td></tr><tr><td>HISTIACIL NF</td><td>33</td><td>6350</td></tr><tr><td>EVRA</td><td>33</td><td>6353</td></tr><tr><td>COMBIVENT</td><td>33</td><td>6355</td></tr><tr><td>ARTRIDOL</td><td>33</td><td>6356</td></tr><tr><td>AVELOX 7D</td><td>33</td><td>6358</td></tr><tr><td>PLAVIX</td><td>33</td><td>6360</td></tr><tr><td>VYTORIN 10/20</td><td>33</td><td>6360</td></tr><tr><td>DESENFRIOL-D</td><td>33</td><td>6362</td></tr><tr><td>AFUNGIL</td><td>33</td><td>6374</td></tr><tr><td>ATACAND PLUS</td><td>33</td><td>6374</td></tr><tr><td>ZOFILIP</td><td>33</td><td>6376</td></tr><tr><td>FERRANINA FOL</td><td>33</td><td>6378</td></tr><tr><td>A.S.COR</td><td>33</td><td>6379</td></tr><tr><td>ENTEROGERMINA</td><td>33</td><td>6381</td></tr><tr><td>IMODIUM</td><td>33</td><td>6385</td></tr><tr><td>SELOPRES ZOK</td><td>33</td><td>6389</td></tr><tr><td>BACTRIM F</td><td>33</td><td>6391</td></tr><tr><td>DIANE</td><td>33</td><td>6392</td></tr><tr><td>CIPROFLOX</td><td>33</td><td>6397</td></tr><tr><td>DAFLON 500 M.</td><td>33</td><td>6401</td></tr><tr><td>PENTREXYL</td><td>33</td><td>6402</td></tr><tr><td>NOOTROPIL</td><td>33</td><td>6406</td></tr><tr><td>OROXADIN</td><td>33</td><td>6419</td></tr><tr><td>STERIMAR</td><td>33</td><td>6429</td></tr><tr><td>SERC</td><td>33</td><td>6434</td></tr><tr><td>TECTA</td><td>33</td><td>6437</td></tr><tr><td>SILKA MEDIC</td><td>33</td><td>6441</td></tr><tr><td>SYSTANE</td><td>33</td><td>6450</td></tr><tr><td>TRENTAL</td><td>33</td><td>6453</td></tr><tr><td>CANESTEN V</td><td>33</td><td>6455</td></tr><tr><td>ADEROGYL 15</td><td>33</td><td>6462</td></tr><tr><td>NOVOTIRAL</td><td>33</td><td>6465</td></tr><tr><td>PINA</td><td>32</td><td>6470</td></tr><tr><td>TAFIROL FLEX</td><td>33</td><td>6472</td></tr><tr><td>ANTIFLU-DES JR.</td><td>33</td><td>6495</td></tr><tr><td>LOSEC A-20</td><td>33</td><td>6503</td></tr><tr><td>REDOXON. Forte</td><td>33</td><td>6506</td></tr><tr><td>VIDEOCAMARAS</td><td>32</td><td>6512</td></tr><tr><td>SINUBERASE</td><td>33</td><td>6519</td></tr><tr><td>ASPIRINA PROTECT</td><td>33</td><td>6521</td></tr><tr><td>DALACIN C</td><td>33</td><td>6523</td></tr><tr><td>PULMONAROM</td><td>33</td><td>6526</td></tr><tr><td>LOPID</td><td>33</td><td>6536</td></tr><tr><td>LAGRICEL OFTENO</td><td>33</td><td>6539</td></tr><tr><td>BEDOYECTA-TRI</td><td>33</td><td>6572</td></tr><tr><td>IBERO. BARCELONA</td><td>30</td><td>6585</td></tr><tr><td>CELESTONE SOLUSPAN</td><td>33</td><td>6586</td></tr><tr><td>NOVOVARTALON</td><td>33</td><td>6612</td></tr><tr><td>PEMIX</td><td>33</td><td>6612</td></tr><tr><td>FEBRAX</td><td>33</td><td>6620</td></tr><tr><td>AMIKACINA</td><td>33</td><td>6621</td></tr><tr><td>PULMICORT</td><td>33</td><td>6627</td></tr><tr><td>DOLAC</td><td>33</td><td>6628</td></tr><tr><td>PANTOZOL</td><td>33</td><td>6644</td></tr><tr><td>FLANAX</td><td>33</td><td>6657</td></tr><tr><td>ROCEPHIN IM</td><td>33</td><td>6658</td></tr><tr><td>TIAMINAL B12</td><td>33</td><td>6663</td></tr><tr><td>TENORETIC</td><td>33</td><td>6672</td></tr><tr><td>STUGERON FORTE</td><td>33</td><td>6679</td></tr><tr><td>DIPROSPAN</td><td>33</td><td>6680</td></tr><tr><td>LIVIAL</td><td>33</td><td>6696</td></tr><tr><td>QG5</td><td>33</td><td>6699</td></tr><tr><td>RINELON</td><td>33</td><td>6709</td></tr><tr><td>TRAMACET</td><td>33</td><td>6710</td></tr><tr><td>ZINNAT</td><td>33</td><td>6711</td></tr><tr><td>PANOTO-S</td><td>33</td><td>6715</td></tr><tr><td>GARBANZA</td><td>33</td><td>6717</td></tr><tr><td>SUFREXAL COMBI</td><td>33</td><td>6730</td></tr><tr><td>NIKZON</td><td>33</td><td>6738</td></tr><tr><td>TENORMIN</td><td>33</td><td>6742</td></tr><tr><td>UNESIA</td><td>33</td><td>6748</td></tr><tr><td>VENALOT DEPOT</td><td>33</td><td>6750</td></tr><tr><td>MICTASOL</td><td>33</td><td>6756</td></tr><tr><td>LINCOCIN</td><td>33</td><td>6757</td></tr><tr><td>MUCOSOLVAN</td><td>33</td><td>6764</td></tr><tr><td>ANTIFLU-DES</td><td>33</td><td>6766</td></tr><tr><td>ULSEN</td><td>33</td><td>6769</td></tr><tr><td>MEDICASP SHAMPOO</td><td>33</td><td>6769</td></tr><tr><td>YASMIN 24/4</td><td>33</td><td>6774</td></tr><tr><td>MATERNA</td><td>33</td><td>6786</td></tr><tr><td>SIES</td><td>33</td><td>6789</td></tr><tr><td>CREMA BATIDA</td><td>33</td><td>6792</td></tr><tr><td>SINERGIX</td><td>33</td><td>6795</td></tr><tr><td>MANDARINA</td><td>33</td><td>6813</td></tr><tr><td>SEVERIN N.F.</td><td>33</td><td>6815</td></tr><tr><td>NEURALIN</td><td>33</td><td>6816</td></tr><tr><td>NORVAS</td><td>33</td><td>6827</td></tr><tr><td>SELOKEN ZOK</td><td>33</td><td>6830</td></tr><tr><td>VERMOX PLUS</td><td>33</td><td>6847</td></tr><tr><td>TREXEN DUO</td><td>33</td><td>6856</td></tr><tr><td>REDOXON</td><td>33</td><td>6866</td></tr><tr><td>LIBERTRIM SII</td><td>33</td><td>6886</td></tr><tr><td>NEXT. TABS</td><td>33</td><td>6897</td></tr><tr><td>TYLEX 750</td><td>33</td><td>6908</td></tr><tr><td>YASMIN</td><td>33</td><td>6926</td></tr><tr><td>CANELA</td><td>32</td><td>6941</td></tr><tr><td>QUADRIDERM NF</td><td>33</td><td>6942</td></tr><tr><td>TE</td><td>32</td><td>6950</td></tr><tr><td>TAMARINDO</td><td>33</td><td>6963</td></tr><tr><td>VAGITROL -V</td><td>33</td><td>6967</td></tr><tr><td>POSIPEN</td><td>33</td><td>6967</td></tr><tr><td>TREDA</td><td>33</td><td>6985</td></tr><tr><td>PICOT SAL DE UVAS</td><td>33</td><td>7002</td></tr><tr><td>METICORTEN</td><td>33</td><td>7012</td></tr><tr><td>PLUMONES</td><td>33</td><td>7039</td></tr><tr><td>MOTOS Y CARROS ELÉCTRICOS</td><td>32</td><td>7056</td></tr><tr><td>MACRODANTINA</td><td>33</td><td>7087</td></tr><tr><td>MANTECA DE CERDO</td><td>33</td><td>7110</td></tr><tr><td>SUPRADOL</td><td>33</td><td>7126</td></tr><tr><td>PRODOLINA</td><td>33</td><td>7134</td></tr><tr><td>SEDALMERCK</td><td>33</td><td>7161</td></tr><tr><td>TELMISARTAN</td><td>33</td><td>7182</td></tr><tr><td>MOTRIN</td><td>33</td><td>7233</td></tr><tr><td>SACAPUNTAS</td><td>33</td><td>7269</td></tr><tr><td>MANGO</td><td>33</td><td>7272</td></tr><tr><td>REPUESTOS DE NAVAJAS</td><td>33</td><td>7295</td></tr><tr><td>ALMENDRAS</td><td>33</td><td>7320</td></tr><tr><td>NEO MELUBRINA</td><td>33</td><td>7338</td></tr><tr><td>PARACETAMOL</td><td>33</td><td>7350</td></tr><tr><td>AMPICILINA</td><td>33</td><td>7369</td></tr><tr><td>CHAMPIÑON</td><td>33</td><td>7392</td></tr><tr><td>CLOPIDOGREL</td><td>33</td><td>7494</td></tr><tr><td>ELECTRONICOS DE VIDEO</td><td>33</td><td>7511</td></tr><tr><td>OMEPRAZOL</td><td>33</td><td>7523</td></tr><tr><td>MUÑECOS ELECTRICOS</td><td>32</td><td>7658</td></tr><tr><td>FRANJA</td><td>33</td><td>7872</td></tr><tr><td>NOPAL</td><td>32</td><td>7923</td></tr><tr><td>CHURRUMAIS CON LIMONCITO</td><td>33</td><td>7928</td></tr><tr><td>KRAFT. SINGLES</td><td>33</td><td>8027</td></tr><tr><td>TERBINAFINA</td><td>33</td><td>8121</td></tr><tr><td>BARRA LIMPIADORA</td><td>32</td><td>8216</td></tr><tr><td>AMLODIPINO</td><td>33</td><td>8341</td></tr><tr><td>AMOXICILINA</td><td>33</td><td>8399</td></tr><tr><td>SINGULAIR</td><td>33</td><td>8427</td></tr><tr><td>KIWI</td><td>33</td><td>8525</td></tr><tr><td>PHARMATON. Con Gingeng G115</td><td>33</td><td>8566</td></tr><tr><td>KEFLEX</td><td>33</td><td>8622</td></tr><tr><td>EJOTE</td><td>32</td><td>8678</td></tr><tr><td>LOSARTÁN</td><td>33</td><td>8799</td></tr><tr><td>AIRES ACONDICIONADOS</td><td>32</td><td>8882</td></tr><tr><td>ACICLOVIR</td><td>33</td><td>8931</td></tr><tr><td>SANDIA</td><td>33</td><td>8968</td></tr><tr><td>CALABAZA</td><td>32</td><td>8969</td></tr><tr><td>HELADO</td><td>33</td><td>9056</td></tr><tr><td>COLIFLOR</td><td>33</td><td>9081</td></tr><tr><td>APIO</td><td>33</td><td>9150</td></tr><tr><td>ACELGA</td><td>33</td><td>9310</td></tr><tr><td>ESPINACAS</td><td>33</td><td>9315</td></tr><tr><td>BETABEL</td><td>33</td><td>9341</td></tr><tr><td>TOMATE</td><td>33</td><td>9342</td></tr><tr><td>GUAYABA</td><td>33</td><td>9426</td></tr><tr><td>KETOCONAZOL</td><td>33</td><td>9426</td></tr><tr><td>FUD YORK</td><td>32</td><td>9429</td></tr><tr><td>NARANJA</td><td>33</td><td>9431</td></tr><tr><td>KETOROLACO</td><td>33</td><td>9456</td></tr><tr><td>LAPIZ ADHESIVO</td><td>33</td><td>9462</td></tr><tr><td>CAMARON</td><td>33</td><td>9467</td></tr><tr><td>FUD. TURKEY LINE</td><td>33</td><td>9473</td></tr><tr><td>SALSA DE SOYA</td><td>33</td><td>9520</td></tr><tr><td>PIMIENTO</td><td>32</td><td>9600</td></tr><tr><td>BROCOLI</td><td>33</td><td>9713</td></tr><tr><td>GLIBENCLAMIDA</td><td>33</td><td>9745</td></tr><tr><td>POLVO P/HORNEAR</td><td>32</td><td>9804</td></tr><tr><td>JICAMA</td><td>33</td><td>9860</td></tr><tr><td>MAIZ POZOLERO</td><td>33</td><td>10030</td></tr><tr><td>VENTILADORES</td><td>32</td><td>10030</td></tr><tr><td>JARABE P/PREPARAR BEBIDAS</td><td>33</td><td>10098</td></tr><tr><td>LAPIZ</td><td>33</td><td>10114</td></tr><tr><td>TORONJA</td><td>33</td><td>10138</td></tr><tr><td>JUGUETES ARMABLES</td><td>32</td><td>10192</td></tr><tr><td>PAN BLANCO BOLILLO</td><td>34</td><td>10207</td></tr><tr><td>CHAYOTE</td><td>32</td><td>10221</td></tr><tr><td>IBERO</td><td>32</td><td>10329</td></tr><tr><td>PEPINO</td><td>33</td><td>10361</td></tr><tr><td>PAPAYA</td><td>33</td><td>10372</td></tr><tr><td>GRASA COMESTIBLE</td><td>33</td><td>10645</td></tr><tr><td>AGUACATE</td><td>33</td><td>10750</td></tr><tr><td>ALPURA</td><td>33</td><td>10754</td></tr><tr><td>JANUMET</td><td>33</td><td>10773</td></tr><tr><td>FOSAMAX PLUS</td><td>33</td><td>10774</td></tr><tr><td>SERVILLETAS DE PAPEL BLANCO</td><td>33</td><td>10824</td></tr><tr><td>PAPA</td><td>33</td><td>10832</td></tr><tr><td>PILAS ELECTRICAS</td><td>32</td><td>10902</td></tr><tr><td>CAJETA</td><td>33</td><td>10953</td></tr><tr><td>CERILLOS</td><td>33</td><td>11043</td></tr><tr><td>ATACAND</td><td>33</td><td>11062</td></tr><tr><td>CYMBALTA</td><td>33</td><td>11113</td></tr><tr><td>PRODUCTO LACTEO</td><td>33</td><td>11176</td></tr><tr><td>ARCOXIA</td><td>33</td><td>11224</td></tr><tr><td>FOSFOCIL</td><td>33</td><td>11242</td></tr><tr><td>BOLIGRAFO</td><td>33</td><td>11317</td></tr><tr><td>ZANAHORIA</td><td>33</td><td>11438</td></tr><tr><td>CRESTOR</td><td>33</td><td>11478</td></tr><tr><td>ELEQUINE</td><td>33</td><td>11482</td></tr><tr><td>DOLOCARTIGEN</td><td>33</td><td>11532</td></tr><tr><td>RIVOTRIL</td><td>33</td><td>11537</td></tr><tr><td>PERA</td><td>33</td><td>11640</td></tr><tr><td>IBUPROFENO</td><td>33</td><td>11649</td></tr><tr><td>VICK VAPORUB</td><td>33</td><td>11756</td></tr><tr><td>BUSCAPINA COMPOSITUM</td><td>33</td><td>11802</td></tr><tr><td>LIPITOR</td><td>33</td><td>11807</td></tr><tr><td>DOLO-NEUROBION</td><td>33</td><td>11862</td></tr><tr><td>DOLO-NEUROBION FORTE</td><td>33</td><td>12084</td></tr><tr><td>CHILE SECO</td><td>32</td><td>12114</td></tr><tr><td>ASPIRINA</td><td>33</td><td>12126</td></tr><tr><td>TERRAMICINA</td><td>33</td><td>12171</td></tr><tr><td>AMOXICILINA, ACIDO CLAVULANICO</td><td>33</td><td>12200</td></tr><tr><td>LAMPARA AHORRADORA</td><td>33</td><td>12227</td></tr><tr><td>UVA</td><td>32</td><td>12296</td></tr><tr><td>VIAGRA</td><td>33</td><td>12606</td></tr><tr><td>MANZANA</td><td>33</td><td>12609</td></tr><tr><td>MICARDIS PLUS</td><td>33</td><td>12690</td></tr><tr><td>CRAYONES</td><td>33</td><td>12844</td></tr><tr><td>ALPINO. PAVINO</td><td>33</td><td>12866</td></tr><tr><td>NEXIUM-MUPS</td><td>33</td><td>13000</td></tr><tr><td>RIOPAN</td><td>33</td><td>13023</td></tr><tr><td>CHOCOLATE EN TABLILLAS</td><td>33</td><td>13118</td></tr><tr><td>LOS VOLCANES</td><td>33</td><td>13339</td></tr><tr><td>VIDEOJUEGOS</td><td>33</td><td>13389</td></tr><tr><td>PARMA. CAMPESTRE</td><td>33</td><td>13443</td></tr><tr><td>MIEL DE ABEJA</td><td>33</td><td>13545</td></tr><tr><td>HARINA DE ARROZ</td><td>33</td><td>13560</td></tr><tr><td>CUADERNO PROFESIONAL C/ESP.</td><td>33</td><td>13767</td></tr><tr><td>LENTEJA</td><td>33</td><td>14043</td></tr><tr><td>DUBY</td><td>33</td><td>14135</td></tr><tr><td>MELON</td><td>33</td><td>14381</td></tr><tr><td>AZUCAR</td><td>33</td><td>14394</td></tr><tr><td>CAPERUCITA</td><td>33</td><td>14434</td></tr><tr><td>SANDWICHERAS</td><td>33</td><td>14591</td></tr><tr><td>FORMULA LACTEA</td><td>32</td><td>14853</td></tr><tr><td>HORNO ELECTRICO</td><td>32</td><td>14864</td></tr><tr><td>AUTOPISTAS</td><td>33</td><td>14878</td></tr><tr><td>DURAZNOS EN ALMIBAR</td><td>33</td><td>14945</td></tr><tr><td>TOSTADORES DE PAN</td><td>32</td><td>14992</td></tr><tr><td>FRIJOLES</td><td>33</td><td>15113</td></tr><tr><td>HARINA DE MAIZ</td><td>33</td><td>15354</td></tr><tr><td>NOCHE BUENA</td><td>32</td><td>15508</td></tr><tr><td>ALEVIAN DUO</td><td>33</td><td>15564</td></tr><tr><td>WHISKY</td><td>33</td><td>15742</td></tr><tr><td>COCTEL DE FRUTAS EN ALMIBAR</td><td>33</td><td>15907</td></tr><tr><td>RON</td><td>33</td><td>16361</td></tr><tr><td>LECHUGA</td><td>32</td><td>16384</td></tr><tr><td>COL</td><td>33</td><td>16674</td></tr><tr><td>MUÑECAS ELECTRICAS</td><td>33</td><td>16751</td></tr><tr><td>SALSA CATSUP</td><td>33</td><td>16784</td></tr><tr><td>BRANDY</td><td>33</td><td>16869</td></tr><tr><td>SAN RAFAEL. REAL</td><td>33</td><td>16939</td></tr><tr><td>CELEBREX</td><td>33</td><td>16965</td></tr><tr><td>OLLA DE PRESION EXPRESS</td><td>32</td><td>17002</td></tr><tr><td>LEXAPRO</td><td>33</td><td>17197</td></tr><tr><td>TOSTADAS DE MAÍZ</td><td>33</td><td>17306</td></tr><tr><td>JITOMATE</td><td>33</td><td>17336</td></tr><tr><td>LIMON</td><td>33</td><td>17339</td></tr><tr><td>RADIOGRABADORAS</td><td>33</td><td>17396</td></tr><tr><td>PLATANO</td><td>33</td><td>17555</td></tr><tr><td>CELESTAMINE-NS</td><td>33</td><td>17604</td></tr><tr><td>LECHE EVAPORADA</td><td>33</td><td>17692</td></tr><tr><td>LEVITRA</td><td>33</td><td>18021</td></tr><tr><td>DETERGENTE P/ROPA Y TRASTES</td><td>33</td><td>18210</td></tr><tr><td>MICARDIS</td><td>33</td><td>18213</td></tr><tr><td>LYRICA</td><td>33</td><td>18373</td></tr><tr><td>MOLE ROJO EN PASTA</td><td>33</td><td>18614</td></tr><tr><td>CEBOLLA</td><td>33</td><td>18802</td></tr><tr><td>CIALIS</td><td>33</td><td>18975</td></tr><tr><td>ALPINO</td><td>33</td><td>19384</td></tr><tr><td>TORTILLA DE HARINA DE TRIGO</td><td>33</td><td>19527</td></tr><tr><td>ALIMENTO PREPARADO P/NIÑOS</td><td>33</td><td>19578</td></tr><tr><td>ACONDICIONADOR DE TELAS</td><td>33</td><td>19671</td></tr><tr><td>ACONDICIONADOR Y ENJUAGUE</td><td>33</td><td>19727</td></tr><tr><td>SARDINA</td><td>33</td><td>19879</td></tr><tr><td>ARROZ</td><td>33</td><td>20004</td></tr></tbody></table></div>"
      ]
     },
     "metadata": {},
     "output_type": "display_data"
    }
   ],
   "source": [
    "display(\n",
    "sqlContext.sql(\"\"\"\n",
    "      with conteo_estados as(\n",
    "          select producto, count(distinct estado) as estados_present\n",
    "          from profeco\n",
    "          group by producto\n",
    "          order by estados_present desc \n",
    "          \n",
    "      ), conteo_registros as(\n",
    "          select producto, count(distinct fechaRegistro) as registros\n",
    "          from profeco\n",
    "          group by producto\n",
    "          order by registros desc\n",
    "      ) \n",
    "      select conteo_estados.producto, estados_present, registros\n",
    "      from conteo_estados inner join conteo_registros\n",
    "      on conteo_estados.producto = conteo_registros.producto\n",
    "      order by registros, estados_present desc\n",
    "                           \"\"\")\n",
    ")"
   ]
  },
  {
   "cell_type": "markdown",
   "metadata": {},
   "source": [
    "Entonces, si nos vamos al final de la tabla podemos ver que los productos ARROZ, SARDINA, ACONDICIONADOR Y ENJUAGE, ACONDICIONADOR DE TELAS, TORTILLA DE HARINA DE TRIGO, ALPINO, CIALIS son los productos con mayor número de registros y presentes en todos los estados. Con estos productos iniciaría para mi canasta básica. "
   ]
  },
  {
   "cell_type": "markdown",
   "metadata": {},
   "source": [
    "### Pregunta 2.b "
   ]
  },
  {
   "cell_type": "code",
   "execution_count": 31,
   "metadata": {
    "scrolled": true
   },
   "outputs": [
    {
     "data": {
      "text/html": [
       "<style scoped>\n",
       "  .table-result-container {\n",
       "    max-height: 300px;\n",
       "    overflow: auto;\n",
       "  }\n",
       "  table, th, td {\n",
       "    border: 1px solid black;\n",
       "    border-collapse: collapse;\n",
       "  }\n",
       "  th, td {\n",
       "    padding: 5px;\n",
       "  }\n",
       "  th {\n",
       "    text-align: left;\n",
       "  }\n",
       "</style><div class='table-result-container'><table class='table-result'><thead style='background-color: white'><tr><th>estado</th><th>precio_promedio</th></tr></thead><tbody><tr><td>HIDALGO</td><td>834.2184101102062</td></tr><tr><td>DURANGO</td><td>814.5400373523249</td></tr><tr><td>SAN LUIS POTOSÍ</td><td>752.664526972986</td></tr><tr><td>CAMPECHE</td><td>734.6088549119725</td></tr><tr><td>NAYARIT</td><td>730.7130878728536</td></tr><tr><td>QUINTANA ROO</td><td>711.7065111700188</td></tr><tr><td>TABASCO</td><td>710.0588436794137</td></tr><tr><td>COLIMA</td><td>696.8027222255952</td></tr><tr><td>PUEBLA</td><td>681.5476859679271</td></tr><tr><td>BAJA CALIFORNIA SUR</td><td>674.8786398073177</td></tr><tr><td>MORELOS</td><td>671.6692834760285</td></tr><tr><td>SINALOA</td><td>652.6141006213358</td></tr><tr><td>GUANAJUATO</td><td>645.7116632729964</td></tr><tr><td>CHIHUAHUA</td><td>641.4655546937796</td></tr><tr><td>VERACRUZ DE IGNACIO DE LA LLAVE</td><td>634.9249368930169</td></tr><tr><td>QUERÉTARO</td><td>618.2184814970835</td></tr><tr><td>CHIAPAS</td><td>611.3816784610445</td></tr><tr><td>OAXACA</td><td>608.6523411499164</td></tr><tr><td>COAHUILA DE ZARAGOZA</td><td>606.6663458824703</td></tr><tr><td>YUCATÁN</td><td>598.672959671062</td></tr><tr><td>SONORA</td><td>579.0162067619874</td></tr><tr><td>ZACATECAS</td><td>575.5566764626394</td></tr><tr><td>MICHOACÁN DE OCAMPO</td><td>551.9244191209742</td></tr><tr><td>BAJA CALIFORNIA</td><td>529.2377854049311</td></tr><tr><td>NUEVO LEÓN</td><td>516.8222266136851</td></tr><tr><td>GUERRERO</td><td>496.74419935863745</td></tr><tr><td>TAMAULIPAS</td><td>470.7829666731945</td></tr><tr><td>JALISCO</td><td>455.2341296073011</td></tr><tr><td>AGUASCALIENTES</td><td>452.51161569699093</td></tr><tr><td>TLAXCALA</td><td>387.2743059059381</td></tr><tr><td>MÉXICO</td><td>367.7493964685927</td></tr><tr><td>DISTRITO FEDERAL</td><td>325.2177098081877</td></tr><tr><td> COL. EDUARDO GUERRA</td><td>204.69219164520842</td></tr><tr><td>null</td><td>132.4808682407439</td></tr><tr><td> ESQ. SUR 125\"</td><td>1.6386363632751233</td></tr><tr><td>estado</td><td>null</td></tr></tbody></table></div>"
      ]
     },
     "metadata": {},
     "output_type": "display_data"
    }
   ],
   "source": [
    "# 2.b ciudad más cara del país y la más barata\n",
    "# precio promedio por estado, los municipios son mucho más específicos\n",
    "# y no todos pueden considerarse como ciudades \n",
    "\n",
    "display(\n",
    "sqlContext.sql(\"\"\"\n",
    "          select estado, avg(cast(precio as float)) as precio_promedio\n",
    "          from profeco\n",
    "          group by estado\n",
    "          order by precio_promedio desc\n",
    "                           \"\"\")\n",
    ")"
   ]
  },
  {
   "cell_type": "markdown",
   "metadata": {},
   "source": [
    "Por facilidad, vamos a calcular el precio promedio por estado como aproximación a buscar cuál es la ciudad más barata y cuál es la más cara. Decidimos usar estado y no municipio porque hay muchos municipios que no podrían considerarse como ciudad. Vemos que el estado más caro es Hidalgo y el estado más barato es el Distrito Federal. \n",
    "\n",
    "Es muy posible que los estados más baratos o más caros cambien según el producto. "
   ]
  },
  {
   "cell_type": "markdown",
   "metadata": {},
   "source": [
    "### Pregunta 2.c"
   ]
  },
  {
   "cell_type": "code",
   "execution_count": 33,
   "metadata": {},
   "outputs": [
    {
     "data": {
      "text/html": [
       "<style scoped>\n",
       "  .ansiout {\n",
       "    display: block;\n",
       "    unicode-bidi: embed;\n",
       "    white-space: pre-wrap;\n",
       "    word-wrap: break-word;\n",
       "    word-break: break-all;\n",
       "    font-family: \"Source Code Pro\", \"Menlo\", monospace;;\n",
       "    font-size: 13px;\n",
       "    color: #555;\n",
       "    margin-left: 4px;\n",
       "    line-height: 19px;\n",
       "  }\n",
       "</style>\n",
       "<div class=\"ansiout\"></div>"
      ]
     },
     "metadata": {},
     "output_type": "display_data"
    }
   ],
   "source": [
    "# 2.c hay algún patro estacional entre años\n",
    "# TO_DATE(CAST(UNIX_TIMESTAMP('08/26/2016', 'MM/dd/yyyy') AS TIMESTAMP)) AS newdate\n",
    "registros_fecha = spark.sql(\"\"\"\n",
    "          select to_date(cast(fechaRegistro as timestamp)) as date, count(*) as registros\n",
    "          from profeco\n",
    "          group by date\n",
    "        \"\"\")\n",
    "\n",
    "registros_fecha.registerTempTable(\"registros_fecha\")"
   ]
  },
  {
   "cell_type": "code",
   "execution_count": 34,
   "metadata": {
    "scrolled": true
   },
   "outputs": [
    {
     "data": {
      "text/html": [
       "<style scoped>\n",
       "  .table-result-container {\n",
       "    max-height: 300px;\n",
       "    overflow: auto;\n",
       "  }\n",
       "  table, th, td {\n",
       "    border: 1px solid black;\n",
       "    border-collapse: collapse;\n",
       "  }\n",
       "  th, td {\n",
       "    padding: 5px;\n",
       "  }\n",
       "  th {\n",
       "    text-align: left;\n",
       "  }\n",
       "</style><div class='table-result-container'><table class='table-result'><thead style='background-color: white'><tr><th>year</th><th>month</th><th>registros</th></tr></thead><tbody><tr><td>2012</td><td>10</td><td>888932</td></tr><tr><td>2015</td><td>2</td><td>1187827</td></tr><tr><td>2014</td><td>4</td><td>762835</td></tr><tr><td>2015</td><td>12</td><td>1420173</td></tr><tr><td>2012</td><td>8</td><td>924176</td></tr><tr><td>2013</td><td>2</td><td>762116</td></tr><tr><td>2012</td><td>12</td><td>840283</td></tr><tr><td>2012</td><td>4</td><td>723632</td></tr><tr><td>null</td><td>null</td><td>20</td></tr><tr><td>2014</td><td>10</td><td>1316682</td></tr><tr><td>2014</td><td>12</td><td>1174471</td></tr><tr><td>2013</td><td>9</td><td>763683</td></tr><tr><td>2013</td><td>10</td><td>886272</td></tr><tr><td>2014</td><td>5</td><td>679063</td></tr><tr><td>2016</td><td>2</td><td>1224407</td></tr><tr><td>2013</td><td>12</td><td>731511</td></tr><tr><td>2014</td><td>1</td><td>794281</td></tr><tr><td>2011</td><td>3</td><td>679647</td></tr><tr><td>2013</td><td>3</td><td>767350</td></tr><tr><td>2014</td><td>8</td><td>1262470</td></tr><tr><td>2013</td><td>6</td><td>781439</td></tr><tr><td>2012</td><td>9</td><td>727320</td></tr><tr><td>2012</td><td>7</td><td>937622</td></tr><tr><td>2015</td><td>4</td><td>1280822</td></tr><tr><td>2015</td><td>8</td><td>1559364</td></tr><tr><td>2011</td><td>2</td><td>575118</td></tr><tr><td>2011</td><td>4</td><td>609948</td></tr><tr><td>2015</td><td>11</td><td>1243197</td></tr><tr><td>2011</td><td>12</td><td>648710</td></tr><tr><td>2011</td><td>8</td><td>801032</td></tr><tr><td>2015</td><td>9</td><td>1600942</td></tr><tr><td>2013</td><td>7</td><td>1006594</td></tr><tr><td>2014</td><td>9</td><td>1192714</td></tr><tr><td>2013</td><td>4</td><td>884771</td></tr><tr><td>2014</td><td>3</td><td>794667</td></tr><tr><td>2015</td><td>10</td><td>1551913</td></tr><tr><td>2013</td><td>11</td><td>757397</td></tr><tr><td>2013</td><td>5</td><td>822502</td></tr><tr><td>2011</td><td>5</td><td>646121</td></tr><tr><td>2011</td><td>7</td><td>740513</td></tr><tr><td>2014</td><td>2</td><td>729477</td></tr><tr><td>2016</td><td>1</td><td>2466698</td></tr><tr><td>2012</td><td>11</td><td>765145</td></tr><tr><td>2016</td><td>4</td><td>1348858</td></tr><tr><td>2014</td><td>6</td><td>1109280</td></tr><tr><td>2011</td><td>6</td><td>778947</td></tr><tr><td>2015</td><td>3</td><td>1315897</td></tr><tr><td>2011</td><td>11</td><td>562616</td></tr><tr><td>2012</td><td>1</td><td>453012</td></tr><tr><td>2015</td><td>7</td><td>1679341</td></tr><tr><td>2012</td><td>2</td><td>644856</td></tr><tr><td>2015</td><td>6</td><td>1414328</td></tr><tr><td>2014</td><td>11</td><td>1207240</td></tr><tr><td>2012</td><td>3</td><td>757943</td></tr><tr><td>2011</td><td>10</td><td>578839</td></tr><tr><td>2012</td><td>5</td><td>839473</td></tr><tr><td>2013</td><td>1</td><td>881897</td></tr><tr><td>2013</td><td>8</td><td>952008</td></tr><tr><td>2015</td><td>1</td><td>1259116</td></tr><tr><td>2011</td><td>1</td><td>628380</td></tr><tr><td>2015</td><td>5</td><td>1144027</td></tr><tr><td>2012</td><td>6</td><td>866313</td></tr><tr><td>2011</td><td>9</td><td>609180</td></tr><tr><td>2014</td><td>7</td><td>1342025</td></tr><tr><td>2016</td><td>3</td><td>1243282</td></tr></tbody></table></div>"
      ]
     },
     "metadata": {},
     "output_type": "display_data"
    }
   ],
   "source": [
    "display(\n",
    "sqlContext.sql(\"\"\"\n",
    "                           SELECT extract(year from date) as year, \n",
    "                           extract(month from date) as month, \n",
    "                           sum(registros) as registros\n",
    "                           FROM registros_fecha\n",
    "                           GROUP BY year, month\n",
    "                           \"\"\")\n",
    ")"
   ]
  },
  {
   "cell_type": "code",
   "execution_count": 35,
   "metadata": {},
   "outputs": [
    {
     "data": {
      "text/html": [
       "<style scoped>\n",
       "  .ansiout {\n",
       "    display: block;\n",
       "    unicode-bidi: embed;\n",
       "    white-space: pre-wrap;\n",
       "    word-wrap: break-word;\n",
       "    word-break: break-all;\n",
       "    font-family: \"Source Code Pro\", \"Menlo\", monospace;;\n",
       "    font-size: 13px;\n",
       "    color: #555;\n",
       "    margin-left: 4px;\n",
       "    line-height: 19px;\n",
       "  }\n",
       "</style>\n",
       "<div class=\"ansiout\"></div>"
      ]
     },
     "metadata": {},
     "output_type": "display_data"
    }
   ],
   "source": [
    "registros_mensuales = sqlContext.sql(\"\"\"\n",
    "                           SELECT extract(year from date) as year, \n",
    "                           extract(month from date) as month, \n",
    "                           sum(registros) as registros\n",
    "                           FROM registros_fecha\n",
    "                           GROUP BY year, month\n",
    "                           \"\"\")\n"
   ]
  },
  {
   "cell_type": "code",
   "execution_count": 36,
   "metadata": {},
   "outputs": [
    {
     "data": {
      "text/html": [
       "<style scoped>\n",
       "  .ansiout {\n",
       "    display: block;\n",
       "    unicode-bidi: embed;\n",
       "    white-space: pre-wrap;\n",
       "    word-wrap: break-word;\n",
       "    word-break: break-all;\n",
       "    font-family: \"Source Code Pro\", \"Menlo\", monospace;;\n",
       "    font-size: 13px;\n",
       "    color: #555;\n",
       "    margin-left: 4px;\n",
       "    line-height: 19px;\n",
       "  }\n",
       "</style>\n",
       "<div class=\"ansiout\"></div>"
      ]
     },
     "metadata": {},
     "output_type": "display_data"
    }
   ],
   "source": [
    "registros_mensuales.registerTempTable(\"registros_mensuales\")"
   ]
  },
  {
   "cell_type": "code",
   "execution_count": 37,
   "metadata": {},
   "outputs": [
    {
     "data": {
      "text/html": [
       "<div style=\"max-width:1500px;overflow:auto;\">\n",
       "<table border=\"1\" class=\"dataframe\">\n",
       "  <thead>\n",
       "    <tr style=\"text-align: right;\">\n",
       "      <th></th>\n",
       "      <th>year</th>\n",
       "      <th>month</th>\n",
       "      <th>registros</th>\n",
       "    </tr>\n",
       "  </thead>\n",
       "  <tbody>\n",
       "    <tr>\n",
       "      <th>0</th>\n",
       "      <td>2012.0</td>\n",
       "      <td>10.0</td>\n",
       "      <td>888932</td>\n",
       "    </tr>\n",
       "    <tr>\n",
       "      <th>1</th>\n",
       "      <td>2015.0</td>\n",
       "      <td>2.0</td>\n",
       "      <td>1187827</td>\n",
       "    </tr>\n",
       "    <tr>\n",
       "      <th>2</th>\n",
       "      <td>2014.0</td>\n",
       "      <td>4.0</td>\n",
       "      <td>762835</td>\n",
       "    </tr>\n",
       "    <tr>\n",
       "      <th>3</th>\n",
       "      <td>2015.0</td>\n",
       "      <td>12.0</td>\n",
       "      <td>1420173</td>\n",
       "    </tr>\n",
       "    <tr>\n",
       "      <th>4</th>\n",
       "      <td>2012.0</td>\n",
       "      <td>8.0</td>\n",
       "      <td>924176</td>\n",
       "    </tr>\n",
       "  </tbody>\n",
       "</table>\n",
       "</div>"
      ]
     },
     "metadata": {},
     "output_type": "display_data"
    }
   ],
   "source": [
    "registros_mensuales_df = pd.DataFrame(registros_mensuales.toPandas())\n",
    "registros_mensuales_df.head()"
   ]
  },
  {
   "cell_type": "code",
   "execution_count": 38,
   "metadata": {
    "scrolled": true
   },
   "outputs": [
    {
     "data": {
      "text/html": [
       "<div style=\"max-width:1500px;overflow:auto;\">\n",
       "<table border=\"1\" class=\"dataframe\">\n",
       "  <thead>\n",
       "    <tr style=\"text-align: right;\">\n",
       "      <th></th>\n",
       "      <th>index</th>\n",
       "      <th>year</th>\n",
       "      <th>month</th>\n",
       "      <th>registros</th>\n",
       "    </tr>\n",
       "  </thead>\n",
       "  <tbody>\n",
       "    <tr>\n",
       "      <th>0</th>\n",
       "      <td>59</td>\n",
       "      <td>2011.0</td>\n",
       "      <td>1.0</td>\n",
       "      <td>628380</td>\n",
       "    </tr>\n",
       "    <tr>\n",
       "      <th>1</th>\n",
       "      <td>25</td>\n",
       "      <td>2011.0</td>\n",
       "      <td>2.0</td>\n",
       "      <td>575118</td>\n",
       "    </tr>\n",
       "    <tr>\n",
       "      <th>2</th>\n",
       "      <td>17</td>\n",
       "      <td>2011.0</td>\n",
       "      <td>3.0</td>\n",
       "      <td>679647</td>\n",
       "    </tr>\n",
       "    <tr>\n",
       "      <th>3</th>\n",
       "      <td>26</td>\n",
       "      <td>2011.0</td>\n",
       "      <td>4.0</td>\n",
       "      <td>609948</td>\n",
       "    </tr>\n",
       "    <tr>\n",
       "      <th>4</th>\n",
       "      <td>37</td>\n",
       "      <td>2011.0</td>\n",
       "      <td>5.0</td>\n",
       "      <td>646121</td>\n",
       "    </tr>\n",
       "    <tr>\n",
       "      <th>5</th>\n",
       "      <td>45</td>\n",
       "      <td>2011.0</td>\n",
       "      <td>6.0</td>\n",
       "      <td>778947</td>\n",
       "    </tr>\n",
       "    <tr>\n",
       "      <th>6</th>\n",
       "      <td>39</td>\n",
       "      <td>2011.0</td>\n",
       "      <td>7.0</td>\n",
       "      <td>740513</td>\n",
       "    </tr>\n",
       "    <tr>\n",
       "      <th>7</th>\n",
       "      <td>29</td>\n",
       "      <td>2011.0</td>\n",
       "      <td>8.0</td>\n",
       "      <td>801032</td>\n",
       "    </tr>\n",
       "    <tr>\n",
       "      <th>8</th>\n",
       "      <td>62</td>\n",
       "      <td>2011.0</td>\n",
       "      <td>9.0</td>\n",
       "      <td>609180</td>\n",
       "    </tr>\n",
       "    <tr>\n",
       "      <th>9</th>\n",
       "      <td>54</td>\n",
       "      <td>2011.0</td>\n",
       "      <td>10.0</td>\n",
       "      <td>578839</td>\n",
       "    </tr>\n",
       "    <tr>\n",
       "      <th>10</th>\n",
       "      <td>47</td>\n",
       "      <td>2011.0</td>\n",
       "      <td>11.0</td>\n",
       "      <td>562616</td>\n",
       "    </tr>\n",
       "    <tr>\n",
       "      <th>11</th>\n",
       "      <td>27</td>\n",
       "      <td>2011.0</td>\n",
       "      <td>12.0</td>\n",
       "      <td>648710</td>\n",
       "    </tr>\n",
       "    <tr>\n",
       "      <th>12</th>\n",
       "      <td>48</td>\n",
       "      <td>2012.0</td>\n",
       "      <td>1.0</td>\n",
       "      <td>453012</td>\n",
       "    </tr>\n",
       "    <tr>\n",
       "      <th>13</th>\n",
       "      <td>50</td>\n",
       "      <td>2012.0</td>\n",
       "      <td>2.0</td>\n",
       "      <td>644856</td>\n",
       "    </tr>\n",
       "    <tr>\n",
       "      <th>14</th>\n",
       "      <td>53</td>\n",
       "      <td>2012.0</td>\n",
       "      <td>3.0</td>\n",
       "      <td>757943</td>\n",
       "    </tr>\n",
       "    <tr>\n",
       "      <th>15</th>\n",
       "      <td>6</td>\n",
       "      <td>2012.0</td>\n",
       "      <td>4.0</td>\n",
       "      <td>723632</td>\n",
       "    </tr>\n",
       "    <tr>\n",
       "      <th>16</th>\n",
       "      <td>55</td>\n",
       "      <td>2012.0</td>\n",
       "      <td>5.0</td>\n",
       "      <td>839473</td>\n",
       "    </tr>\n",
       "    <tr>\n",
       "      <th>17</th>\n",
       "      <td>61</td>\n",
       "      <td>2012.0</td>\n",
       "      <td>6.0</td>\n",
       "      <td>866313</td>\n",
       "    </tr>\n",
       "    <tr>\n",
       "      <th>18</th>\n",
       "      <td>22</td>\n",
       "      <td>2012.0</td>\n",
       "      <td>7.0</td>\n",
       "      <td>937622</td>\n",
       "    </tr>\n",
       "    <tr>\n",
       "      <th>19</th>\n",
       "      <td>4</td>\n",
       "      <td>2012.0</td>\n",
       "      <td>8.0</td>\n",
       "      <td>924176</td>\n",
       "    </tr>\n",
       "    <tr>\n",
       "      <th>20</th>\n",
       "      <td>21</td>\n",
       "      <td>2012.0</td>\n",
       "      <td>9.0</td>\n",
       "      <td>727320</td>\n",
       "    </tr>\n",
       "    <tr>\n",
       "      <th>21</th>\n",
       "      <td>0</td>\n",
       "      <td>2012.0</td>\n",
       "      <td>10.0</td>\n",
       "      <td>888932</td>\n",
       "    </tr>\n",
       "    <tr>\n",
       "      <th>22</th>\n",
       "      <td>41</td>\n",
       "      <td>2012.0</td>\n",
       "      <td>11.0</td>\n",
       "      <td>765145</td>\n",
       "    </tr>\n",
       "    <tr>\n",
       "      <th>23</th>\n",
       "      <td>7</td>\n",
       "      <td>2012.0</td>\n",
       "      <td>12.0</td>\n",
       "      <td>840283</td>\n",
       "    </tr>\n",
       "    <tr>\n",
       "      <th>24</th>\n",
       "      <td>56</td>\n",
       "      <td>2013.0</td>\n",
       "      <td>1.0</td>\n",
       "      <td>881897</td>\n",
       "    </tr>\n",
       "    <tr>\n",
       "      <th>25</th>\n",
       "      <td>5</td>\n",
       "      <td>2013.0</td>\n",
       "      <td>2.0</td>\n",
       "      <td>762116</td>\n",
       "    </tr>\n",
       "    <tr>\n",
       "      <th>26</th>\n",
       "      <td>18</td>\n",
       "      <td>2013.0</td>\n",
       "      <td>3.0</td>\n",
       "      <td>767350</td>\n",
       "    </tr>\n",
       "    <tr>\n",
       "      <th>27</th>\n",
       "      <td>33</td>\n",
       "      <td>2013.0</td>\n",
       "      <td>4.0</td>\n",
       "      <td>884771</td>\n",
       "    </tr>\n",
       "    <tr>\n",
       "      <th>28</th>\n",
       "      <td>38</td>\n",
       "      <td>2013.0</td>\n",
       "      <td>5.0</td>\n",
       "      <td>822502</td>\n",
       "    </tr>\n",
       "    <tr>\n",
       "      <th>29</th>\n",
       "      <td>20</td>\n",
       "      <td>2013.0</td>\n",
       "      <td>6.0</td>\n",
       "      <td>781439</td>\n",
       "    </tr>\n",
       "    <tr>\n",
       "      <th>...</th>\n",
       "      <td>...</td>\n",
       "      <td>...</td>\n",
       "      <td>...</td>\n",
       "      <td>...</td>\n",
       "    </tr>\n",
       "    <tr>\n",
       "      <th>35</th>\n",
       "      <td>16</td>\n",
       "      <td>2013.0</td>\n",
       "      <td>12.0</td>\n",
       "      <td>731511</td>\n",
       "    </tr>\n",
       "    <tr>\n",
       "      <th>36</th>\n",
       "      <td>15</td>\n",
       "      <td>2014.0</td>\n",
       "      <td>1.0</td>\n",
       "      <td>794281</td>\n",
       "    </tr>\n",
       "    <tr>\n",
       "      <th>37</th>\n",
       "      <td>40</td>\n",
       "      <td>2014.0</td>\n",
       "      <td>2.0</td>\n",
       "      <td>729477</td>\n",
       "    </tr>\n",
       "    <tr>\n",
       "      <th>38</th>\n",
       "      <td>34</td>\n",
       "      <td>2014.0</td>\n",
       "      <td>3.0</td>\n",
       "      <td>794667</td>\n",
       "    </tr>\n",
       "    <tr>\n",
       "      <th>39</th>\n",
       "      <td>2</td>\n",
       "      <td>2014.0</td>\n",
       "      <td>4.0</td>\n",
       "      <td>762835</td>\n",
       "    </tr>\n",
       "    <tr>\n",
       "      <th>40</th>\n",
       "      <td>13</td>\n",
       "      <td>2014.0</td>\n",
       "      <td>5.0</td>\n",
       "      <td>679063</td>\n",
       "    </tr>\n",
       "    <tr>\n",
       "      <th>41</th>\n",
       "      <td>44</td>\n",
       "      <td>2014.0</td>\n",
       "      <td>6.0</td>\n",
       "      <td>1109280</td>\n",
       "    </tr>\n",
       "    <tr>\n",
       "      <th>42</th>\n",
       "      <td>63</td>\n",
       "      <td>2014.0</td>\n",
       "      <td>7.0</td>\n",
       "      <td>1342025</td>\n",
       "    </tr>\n",
       "    <tr>\n",
       "      <th>43</th>\n",
       "      <td>19</td>\n",
       "      <td>2014.0</td>\n",
       "      <td>8.0</td>\n",
       "      <td>1262470</td>\n",
       "    </tr>\n",
       "    <tr>\n",
       "      <th>44</th>\n",
       "      <td>32</td>\n",
       "      <td>2014.0</td>\n",
       "      <td>9.0</td>\n",
       "      <td>1192714</td>\n",
       "    </tr>\n",
       "    <tr>\n",
       "      <th>45</th>\n",
       "      <td>8</td>\n",
       "      <td>2014.0</td>\n",
       "      <td>10.0</td>\n",
       "      <td>1316682</td>\n",
       "    </tr>\n",
       "    <tr>\n",
       "      <th>46</th>\n",
       "      <td>51</td>\n",
       "      <td>2014.0</td>\n",
       "      <td>11.0</td>\n",
       "      <td>1207240</td>\n",
       "    </tr>\n",
       "    <tr>\n",
       "      <th>47</th>\n",
       "      <td>10</td>\n",
       "      <td>2014.0</td>\n",
       "      <td>12.0</td>\n",
       "      <td>1174471</td>\n",
       "    </tr>\n",
       "    <tr>\n",
       "      <th>48</th>\n",
       "      <td>58</td>\n",
       "      <td>2015.0</td>\n",
       "      <td>1.0</td>\n",
       "      <td>1259116</td>\n",
       "    </tr>\n",
       "    <tr>\n",
       "      <th>49</th>\n",
       "      <td>1</td>\n",
       "      <td>2015.0</td>\n",
       "      <td>2.0</td>\n",
       "      <td>1187827</td>\n",
       "    </tr>\n",
       "    <tr>\n",
       "      <th>50</th>\n",
       "      <td>46</td>\n",
       "      <td>2015.0</td>\n",
       "      <td>3.0</td>\n",
       "      <td>1315897</td>\n",
       "    </tr>\n",
       "    <tr>\n",
       "      <th>51</th>\n",
       "      <td>23</td>\n",
       "      <td>2015.0</td>\n",
       "      <td>4.0</td>\n",
       "      <td>1280822</td>\n",
       "    </tr>\n",
       "    <tr>\n",
       "      <th>52</th>\n",
       "      <td>60</td>\n",
       "      <td>2015.0</td>\n",
       "      <td>5.0</td>\n",
       "      <td>1144027</td>\n",
       "    </tr>\n",
       "    <tr>\n",
       "      <th>53</th>\n",
       "      <td>52</td>\n",
       "      <td>2015.0</td>\n",
       "      <td>6.0</td>\n",
       "      <td>1414328</td>\n",
       "    </tr>\n",
       "    <tr>\n",
       "      <th>54</th>\n",
       "      <td>49</td>\n",
       "      <td>2015.0</td>\n",
       "      <td>7.0</td>\n",
       "      <td>1679341</td>\n",
       "    </tr>\n",
       "    <tr>\n",
       "      <th>55</th>\n",
       "      <td>24</td>\n",
       "      <td>2015.0</td>\n",
       "      <td>8.0</td>\n",
       "      <td>1559364</td>\n",
       "    </tr>\n",
       "    <tr>\n",
       "      <th>56</th>\n",
       "      <td>30</td>\n",
       "      <td>2015.0</td>\n",
       "      <td>9.0</td>\n",
       "      <td>1600942</td>\n",
       "    </tr>\n",
       "    <tr>\n",
       "      <th>57</th>\n",
       "      <td>35</td>\n",
       "      <td>2015.0</td>\n",
       "      <td>10.0</td>\n",
       "      <td>1551913</td>\n",
       "    </tr>\n",
       "    <tr>\n",
       "      <th>58</th>\n",
       "      <td>28</td>\n",
       "      <td>2015.0</td>\n",
       "      <td>11.0</td>\n",
       "      <td>1243197</td>\n",
       "    </tr>\n",
       "    <tr>\n",
       "      <th>59</th>\n",
       "      <td>3</td>\n",
       "      <td>2015.0</td>\n",
       "      <td>12.0</td>\n",
       "      <td>1420173</td>\n",
       "    </tr>\n",
       "    <tr>\n",
       "      <th>60</th>\n",
       "      <td>42</td>\n",
       "      <td>2016.0</td>\n",
       "      <td>1.0</td>\n",
       "      <td>2466698</td>\n",
       "    </tr>\n",
       "    <tr>\n",
       "      <th>61</th>\n",
       "      <td>14</td>\n",
       "      <td>2016.0</td>\n",
       "      <td>2.0</td>\n",
       "      <td>1224407</td>\n",
       "    </tr>\n",
       "    <tr>\n",
       "      <th>62</th>\n",
       "      <td>64</td>\n",
       "      <td>2016.0</td>\n",
       "      <td>3.0</td>\n",
       "      <td>1243282</td>\n",
       "    </tr>\n",
       "    <tr>\n",
       "      <th>63</th>\n",
       "      <td>43</td>\n",
       "      <td>2016.0</td>\n",
       "      <td>4.0</td>\n",
       "      <td>1348858</td>\n",
       "    </tr>\n",
       "    <tr>\n",
       "      <th>64</th>\n",
       "      <td>9</td>\n",
       "      <td>NaN</td>\n",
       "      <td>NaN</td>\n",
       "      <td>20</td>\n",
       "    </tr>\n",
       "  </tbody>\n",
       "</table>\n",
       "<p>65 rows × 4 columns</p>\n",
       "</div>"
      ]
     },
     "metadata": {},
     "output_type": "display_data"
    }
   ],
   "source": [
    "registros_mensuales_df = registros_mensuales_df.sort_values(by=['year', 'month']).reset_index()\n",
    "#registros_mensuales_df = registros_mensuales_df.drop(columns = ['index'])\n",
    "registros_mensuales_df"
   ]
  },
  {
   "cell_type": "code",
   "execution_count": 39,
   "metadata": {},
   "outputs": [
    {
     "data": {
      "text/html": [
       "<div style=\"max-width:1500px;overflow:auto;\">\n",
       "<table border=\"1\" class=\"dataframe\">\n",
       "  <thead>\n",
       "    <tr style=\"text-align: right;\">\n",
       "      <th></th>\n",
       "      <th>nu</th>\n",
       "      <th>year</th>\n",
       "      <th>month</th>\n",
       "      <th>registros</th>\n",
       "    </tr>\n",
       "  </thead>\n",
       "  <tbody>\n",
       "    <tr>\n",
       "      <th>0</th>\n",
       "      <td>59</td>\n",
       "      <td>2011.0</td>\n",
       "      <td>1.0</td>\n",
       "      <td>628380</td>\n",
       "    </tr>\n",
       "    <tr>\n",
       "      <th>1</th>\n",
       "      <td>25</td>\n",
       "      <td>2011.0</td>\n",
       "      <td>2.0</td>\n",
       "      <td>575118</td>\n",
       "    </tr>\n",
       "  </tbody>\n",
       "</table>\n",
       "</div>"
      ]
     },
     "metadata": {},
     "output_type": "display_data"
    }
   ],
   "source": [
    "registros_mensuales_df.rename(columns = {'index':'nu'}, inplace = True)\n",
    "registros_mensuales_df.head(2)"
   ]
  },
  {
   "cell_type": "code",
   "execution_count": 40,
   "metadata": {},
   "outputs": [
    {
     "data": {
      "text/html": [
       "<div style=\"max-width:1500px;overflow:auto;\">\n",
       "<table border=\"1\" class=\"dataframe\">\n",
       "  <thead>\n",
       "    <tr style=\"text-align: right;\">\n",
       "      <th></th>\n",
       "      <th>index</th>\n",
       "      <th>nu</th>\n",
       "      <th>year</th>\n",
       "      <th>month</th>\n",
       "      <th>registros</th>\n",
       "    </tr>\n",
       "  </thead>\n",
       "  <tbody>\n",
       "    <tr>\n",
       "      <th>0</th>\n",
       "      <td>0</td>\n",
       "      <td>59</td>\n",
       "      <td>2011.0</td>\n",
       "      <td>1.0</td>\n",
       "      <td>628380</td>\n",
       "    </tr>\n",
       "    <tr>\n",
       "      <th>1</th>\n",
       "      <td>1</td>\n",
       "      <td>25</td>\n",
       "      <td>2011.0</td>\n",
       "      <td>2.0</td>\n",
       "      <td>575118</td>\n",
       "    </tr>\n",
       "    <tr>\n",
       "      <th>2</th>\n",
       "      <td>2</td>\n",
       "      <td>17</td>\n",
       "      <td>2011.0</td>\n",
       "      <td>3.0</td>\n",
       "      <td>679647</td>\n",
       "    </tr>\n",
       "    <tr>\n",
       "      <th>3</th>\n",
       "      <td>3</td>\n",
       "      <td>26</td>\n",
       "      <td>2011.0</td>\n",
       "      <td>4.0</td>\n",
       "      <td>609948</td>\n",
       "    </tr>\n",
       "    <tr>\n",
       "      <th>4</th>\n",
       "      <td>4</td>\n",
       "      <td>37</td>\n",
       "      <td>2011.0</td>\n",
       "      <td>5.0</td>\n",
       "      <td>646121</td>\n",
       "    </tr>\n",
       "  </tbody>\n",
       "</table>\n",
       "</div>"
      ]
     },
     "metadata": {},
     "output_type": "display_data"
    }
   ],
   "source": [
    "registros_mensuales_df_a = registros_mensuales_df.reset_index()\n",
    "registros_mensuales_df_a.head()"
   ]
  },
  {
   "cell_type": "code",
   "execution_count": 41,
   "metadata": {},
   "outputs": [
    {
     "data": {
      "text/html": [
       "<style scoped>\n",
       "  .ansiout {\n",
       "    display: block;\n",
       "    unicode-bidi: embed;\n",
       "    white-space: pre-wrap;\n",
       "    word-wrap: break-word;\n",
       "    word-break: break-all;\n",
       "    font-family: \"Source Code Pro\", \"Menlo\", monospace;;\n",
       "    font-size: 13px;\n",
       "    color: #555;\n",
       "    margin-left: 4px;\n",
       "    line-height: 19px;\n",
       "  }\n",
       "</style>\n",
       "<div class=\"ansiout\"></div>"
      ]
     },
     "metadata": {},
     "output_type": "display_data"
    }
   ],
   "source": [
    "#registros_mensuales_df_a.loc[0, 'registros']\n",
    "registros_mensuales_df_a = registros_mensuales_df_a[registros_mensuales_df_a.index < 64]\n",
    "#registros_mensuales_df_a"
   ]
  },
  {
   "cell_type": "code",
   "execution_count": 42,
   "metadata": {},
   "outputs": [
    {
     "data": {
      "text/html": [
       "<style scoped>\n",
       "  .ansiout {\n",
       "    display: block;\n",
       "    unicode-bidi: embed;\n",
       "    white-space: pre-wrap;\n",
       "    word-wrap: break-word;\n",
       "    word-break: break-all;\n",
       "    font-family: \"Source Code Pro\", \"Menlo\", monospace;;\n",
       "    font-size: 13px;\n",
       "    color: #555;\n",
       "    margin-left: 4px;\n",
       "    line-height: 19px;\n",
       "  }\n",
       "</style>\n",
       "<div class=\"ansiout\"><span class=\"ansired\">Out[</span><span class=\"ansired\">93</span><span class=\"ansired\">]: </span>year\n",
       "2011.0     801032\n",
       "2012.0     937622\n",
       "2013.0    1006594\n",
       "2014.0    1342025\n",
       "2015.0    1679341\n",
       "2016.0    2466698\n",
       "Name: registros, dtype: int64</div>"
      ]
     },
     "metadata": {},
     "output_type": "display_data"
    }
   ],
   "source": [
    "registros_mensuales_df_a.groupby('year')['registros'].max()"
   ]
  },
  {
   "cell_type": "code",
   "execution_count": 43,
   "metadata": {},
   "outputs": [],
   "source": []
  },
  {
   "cell_type": "code",
   "execution_count": 44,
   "metadata": {},
   "outputs": [
    {
     "data": {
      "image/png": "[encoded data removed]"
     },
     "metadata": {},
     "output_type": "display_data"
    }
   ],
   "source": [
    "est_fig = registros_mensuales_df_a.plot.line(x = 'index', y = 'registros')\n",
    "plt.xticks(range(0,61,12), ['2011', '2012', '2013','2014', '2015', '2016'])\n",
    "plt.xlabel('Mes / año')\n",
    "plt.ylabel('Registros')\n",
    "display(est_fig.figure)"
   ]
  },
  {
   "cell_type": "markdown",
   "metadata": {},
   "source": [
    "### Respuesta 2c y 2e"
   ]
  },
  {
   "cell_type": "markdown",
   "metadata": {},
   "source": [
    "\n",
    "**2c**\n",
    "\n",
    "Si consideramos el número de registros por mes en cada año podemos observar que el número de registros ha aumentado con el tiempo. Aunque no es muy evidente en algunos años (como en el 2013), podemos ver que el número de registros tiene un brinco en julio de casi todos los años (esto se observa del 2012 al 2015). En 2011 el pico se da en agosto y el 2016 lo descartamos pues solo hay observación de 4 meses. \n",
    "  \n",
    "Como esta subida en el número de registros de en julio de cada año, podemos decir que el periodo estacional del número de registros por mes es de 12 meses.\n",
    "\n",
    "**2e**\n",
    "\n",
    "Creo que hacer un análisis de series de tiempo a nivel general (registros por mes) no sería concluyente porque ese no es el propósito de este conjunto de datos. Sería mucho más útil este análisis a un nivel mucho más desagregado, el principal riesgo es la alta cardinalidad de las variables por la forma de captura."
   ]
  },
  {
   "cell_type": "markdown",
   "metadata": {},
   "source": [
    "## Visualización de categorías y precio en León"
   ]
  },
  {
   "cell_type": "code",
   "execution_count": 46,
   "metadata": {},
   "outputs": [
    {
     "data": {
      "text/html": [
       "<style scoped>\n",
       "  .table-result-container {\n",
       "    max-height: 300px;\n",
       "    overflow: auto;\n",
       "  }\n",
       "  table, th, td {\n",
       "    border: 1px solid black;\n",
       "    border-collapse: collapse;\n",
       "  }\n",
       "  th, td {\n",
       "    padding: 5px;\n",
       "  }\n",
       "  th {\n",
       "    text-align: left;\n",
       "  }\n",
       "</style><div class='table-result-container'><table class='table-result'><thead style='background-color: white'><tr><th>municipio</th><th>conteo</th></tr></thead><tbody><tr><td>LEON                                    </td><td>1908469</td></tr></tbody></table></div>"
      ]
     },
     "metadata": {},
     "output_type": "display_data"
    }
   ],
   "source": [
    "# pregunta 3\n",
    "\n",
    "display(\n",
    "sqlContext.sql(\"\"\"\n",
    "                           SELECT municipio, count(*) as conteo\n",
    "                           from profeco\n",
    "                           where municipio like '%LEON%' OR\n",
    "                           municipio like '%GUANAJUATO%'\n",
    "                           group by municipio\n",
    "                   \n",
    "                           \"\"\")\n",
    ")"
   ]
  },
  {
   "cell_type": "code",
   "execution_count": 47,
   "metadata": {},
   "outputs": [
    {
     "data": {
      "text/html": [
       "<style scoped>\n",
       "  .table-result-container {\n",
       "    max-height: 300px;\n",
       "    overflow: auto;\n",
       "  }\n",
       "  table, th, td {\n",
       "    border: 1px solid black;\n",
       "    border-collapse: collapse;\n",
       "  }\n",
       "  th, td {\n",
       "    padding: 5px;\n",
       "  }\n",
       "  th {\n",
       "    text-align: left;\n",
       "  }\n",
       "</style><div class='table-result-container'><table class='table-result'><thead style='background-color: white'><tr><th>estado</th></tr></thead><tbody><tr><td>GUANAJUATO</td></tr></tbody></table></div>"
      ]
     },
     "metadata": {},
     "output_type": "display_data"
    }
   ],
   "source": [
    "# pregunta 3\n",
    "\n",
    "display(\n",
    "sqlContext.sql(\"\"\"\n",
    "                           SELECT distinct(estado)\n",
    "                           from profeco\n",
    "                           where municipio like '%LEON%' OR\n",
    "                           municipio like '%GUANAJUATO%'                   \n",
    "                           \"\"\")\n",
    ")"
   ]
  },
  {
   "cell_type": "code",
   "execution_count": 48,
   "metadata": {
    "scrolled": true
   },
   "outputs": [
    {
     "data": {
      "text/html": [
       "<style scoped>\n",
       "  .table-result-container {\n",
       "    max-height: 300px;\n",
       "    overflow: auto;\n",
       "  }\n",
       "  table, th, td {\n",
       "    border: 1px solid black;\n",
       "    border-collapse: collapse;\n",
       "  }\n",
       "  th, td {\n",
       "    padding: 5px;\n",
       "  }\n",
       "  th {\n",
       "    text-align: left;\n",
       "  }\n",
       "</style><div class='table-result-container'><table class='table-result'><thead style='background-color: white'><tr><th>categoria</th><th>precio_min</th><th>precio_prom</th><th>precio_max</th></tr></thead><tbody><tr><td>MATERIAL ESCOLAR</td><td>2.8</td><td>45.45463657704959</td><td>424.0</td></tr><tr><td>ARTS. PARA EL CUIDADO PERSONAL</td><td>1.0</td><td>35.191717672172906</td><td>200.0</td></tr><tr><td>PESCADOS Y MARISCOS EN CONSERVA</td><td>2.0</td><td>18.021276001455675</td><td>190.0</td></tr><tr><td>UTENSILIOS DOMESTICOS</td><td>89.0</td><td>1268.6473939277053</td><td>5649.0</td></tr><tr><td>DETERGENTES Y PRODUCTOS SIMILARES</td><td>2.0</td><td>28.004186558473997</td><td>143.1</td></tr><tr><td>CARNE Y VISCERAS DE RES</td><td>7.0</td><td>88.92804054261289</td><td>360.0</td></tr><tr><td>PRODUCTOS DE TEMPORADA (NAVIDEÐOS)</td><td>1.9</td><td>56.81156159235169</td><td>349.0</td></tr><tr><td>GALLETAS PASTAS Y HARINAS DE TRIGO</td><td>1.9</td><td>21.29918672862403</td><td>61.75</td></tr><tr><td>HORTALIZAS FRESCAS</td><td>0.45</td><td>17.343713318846493</td><td>150.0</td></tr><tr><td>DERIVADOS DE LECHE</td><td>1.0</td><td>44.57507571554146</td><td>172.8</td></tr><tr><td>TORTILLAS Y DERIVADOS DEL MAIZ</td><td>1.0</td><td>13.293155518400198</td><td>28.72</td></tr><tr><td>GRASAS ANIMALES COMESTIBLES</td><td>11.9</td><td>28.611409288835137</td><td>44.9</td></tr><tr><td>APARATOS ELECTRONICOS</td><td>75.0</td><td>5969.165949702561</td><td>148499.1</td></tr><tr><td>LEGUMBRES SECAS</td><td>4.0</td><td>21.929232943822072</td><td>49.4</td></tr><tr><td>CAFE</td><td>4.0</td><td>51.133042384113416</td><td>97.26</td></tr><tr><td>MUEBLES DE COCINA</td><td>350.0</td><td>5804.788850370349</td><td>23399.0</td></tr><tr><td>CARNES FRIAS SECAS Y EMBUTIDOS</td><td>6.0</td><td>72.88109485612884</td><td>198.0</td></tr><tr><td>CHOCOLATES Y GOLOSINAS</td><td>1.0</td><td>21.699187195054016</td><td>89.9</td></tr><tr><td>PAN</td><td>0.85</td><td>15.26154174390618</td><td>30.5</td></tr><tr><td>CERVEZA</td><td>3.0</td><td>63.57516707187955</td><td>149.0</td></tr><tr><td>MEDICAMENTOS</td><td>1.0</td><td>304.9944159932073</td><td>3022.9</td></tr><tr><td>REFRESCOS ENVASADOS</td><td>1.0</td><td>14.143880478571395</td><td>43.9</td></tr><tr><td>CONDIMENTOS</td><td>1.0</td><td>23.998196871964627</td><td>439.0</td></tr><tr><td>ACEITES Y GRASAS VEG. COMESTIBLES</td><td>3.0</td><td>27.020871896584204</td><td>67.9</td></tr><tr><td>TE</td><td>9.9</td><td>13.883187337606397</td><td>20.7</td></tr><tr><td>PESCADOS Y MARISCOS</td><td>13.0</td><td>108.33267988350734</td><td>699.0</td></tr><tr><td>CARNE DE AVE</td><td>17.9</td><td>48.54806812994319</td><td>92.9</td></tr><tr><td>FRUTAS Y LEGUMBRES PROCESADAS</td><td>1.0</td><td>17.71862519976987</td><td>81.0</td></tr><tr><td>VINOS Y LICORES</td><td>12.0</td><td>134.55869439715786</td><td>425.3</td></tr><tr><td>CARNE Y VISCERAS DE CERDO</td><td>3.0</td><td>59.74092141727071</td><td>126.0</td></tr><tr><td>FRUTAS FRESCAS</td><td>0.85</td><td>23.498191505164844</td><td>113.4</td></tr><tr><td>ACCESORIOS DOMESTICOS</td><td>2.3</td><td>62.23252671445198</td><td>129.9</td></tr><tr><td>ARROZ Y CEREALES PREPARADOS</td><td>3.0</td><td>28.95522988120018</td><td>62.5</td></tr><tr><td>APARATOS ELECTRICOS</td><td>25.0</td><td>2964.49117266456</td><td>55799.1</td></tr><tr><td>ARTS. DE ESPARCIMIENTO (JUGUETES)</td><td>49.0</td><td>611.6048194569464</td><td>9799.0</td></tr><tr><td>CIGARRILLOS</td><td>8.6</td><td>13.895183586587711</td><td>17.9</td></tr><tr><td>HUEVO</td><td>4.0</td><td>29.410006367248954</td><td>42.9</td></tr><tr><td>LECHE PROCESADA</td><td>4.45</td><td>38.30606009551721</td><td>202.7</td></tr><tr><td>AZUCAR</td><td>16.8</td><td>33.505025231993045</td><td>59.9</td></tr><tr><td>ARTS. DE PAPEL P/HIGIENE PERSONAL</td><td>1.0</td><td>47.199035089543095</td><td>230.21</td></tr></tbody></table></div>"
      ]
     },
     "metadata": {},
     "output_type": "display_data"
    }
   ],
   "source": [
    "# avg(cast(precio as float)) as precio_promedio\n",
    "display(\n",
    "sqlContext.sql(\"\"\"\n",
    "                           SELECT categoria, min(cast(precio as float)) as precio_min,\n",
    "                           avg(cast(precio as float)) as precio_prom,\n",
    "                           max(cast(precio as float)) as precio_max\n",
    "                           from profeco\n",
    "                           where municipio like '%LEON%'\n",
    "                           group by categoria\n",
    "                   \n",
    "                           \"\"\")\n",
    ")"
   ]
  },
  {
   "cell_type": "code",
   "execution_count": 49,
   "metadata": {},
   "outputs": [],
   "source": [
    "# falta el mapa "
   ]
  },
  {
   "cell_type": "code",
   "execution_count": 50,
   "metadata": {},
   "outputs": [
    {
     "data": {
      "text/html": [
       "<style scoped>\n",
       "  .ansiout {\n",
       "    display: block;\n",
       "    unicode-bidi: embed;\n",
       "    white-space: pre-wrap;\n",
       "    word-wrap: break-word;\n",
       "    word-break: break-all;\n",
       "    font-family: \"Source Code Pro\", \"Menlo\", monospace;;\n",
       "    font-size: 13px;\n",
       "    color: #555;\n",
       "    margin-left: 4px;\n",
       "    line-height: 19px;\n",
       "  }\n",
       "</style>\n",
       "<div class=\"ansiout\"><span class=\"ansired\">Out[</span><span class=\"ansired\">26</span><span class=\"ansired\">]: </span>[&apos;producto&apos;,\n",
       " &apos;presentacion&apos;,\n",
       " &apos;marca&apos;,\n",
       " &apos;categoria&apos;,\n",
       " &apos;catalogo&apos;,\n",
       " &apos;precio&apos;,\n",
       " &apos;fechaRegistro&apos;,\n",
       " &apos;cadenaComercial&apos;,\n",
       " &apos;giro&apos;,\n",
       " &apos;nombreComercial&apos;,\n",
       " &apos;direccion&apos;,\n",
       " &apos;estado&apos;,\n",
       " &apos;municipio&apos;,\n",
       " &apos;latitud&apos;,\n",
       " &apos;longitud&apos;]</div>"
      ]
     },
     "metadata": {},
     "output_type": "display_data"
    }
   ],
   "source": [
    "# columnas\n",
    "df.columns"
   ]
  }
 ],
 "metadata": {
  "kernelspec": {
   "display_name": "Python 3",
   "language": "python",
   "name": "python3"
  },
  "language_info": {
   "codemirror_mode": {
    "name": "ipython",
    "version": 3
   },
   "file_extension": ".py",
   "mimetype": "text/x-python",
   "name": "python",
   "nbconvert_exporter": "python",
   "pygments_lexer": "ipython3",
   "version": "3.6.3"
  },
  "name": "profeco",
  "notebookId": 1089481959908122
 },
 "nbformat": 4,
 "nbformat_minor": 1
}
